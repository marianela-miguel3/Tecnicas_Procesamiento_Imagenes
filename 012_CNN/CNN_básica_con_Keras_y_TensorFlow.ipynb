{
  "nbformat": 4,
  "nbformat_minor": 0,
  "metadata": {
    "colab": {
      "provenance": [],
      "gpuType": "T4"
    },
    "kernelspec": {
      "name": "python3",
      "display_name": "Python 3"
    },
    "language_info": {
      "name": "python"
    },
    "accelerator": "GPU"
  },
  "cells": [
    {
      "cell_type": "markdown",
      "source": [
        "# Red Neuronal Convolucional (CNN) Básica con Keras y TensorFlow: Clasificación de Imágenes\n",
        "\n",
        "## Guía Didáctica\n",
        "\n",
        "### Introducción\n",
        "\n",
        "En este cuaderno, profundizaremos en los fundamentos de las Redes Neuronales Convolucionales (CNNs), una clase de redes neuronales particularmente efectiva para el procesamiento y análisis de imágenes. Utilizaremos las librerías Keras (como API de alto nivel) y TensorFlow (como _backend_ subyacente) para desarrollar y entrenar un modelo capaz de clasificar imágenes de prendas de vestir a partir del reconocido dataset Fashion MNIST.\n",
        "\n",
        "Este material ha sido meticulosamente diseñado para servir como una guía comprensiva, ofreciendo tanto la fundamentación teórica indispensable como la implementación práctica detallada."
      ],
      "metadata": {
        "id": "intro"
      }
    },
    {
      "cell_type": "markdown",
      "source": [
        "## 1. Preparación del Entorno: Importación de Librerías\n",
        "\n",
        "El primer paso en cualquier proyecto de desarrollo de modelos de Machine Learning consiste en la importación de las librerías necesarias. Estas bibliotecas proporcionan las funcionalidades y herramientas esenciales para la manipulación de datos, la construcción del modelo y la visualización de resultados."
      ],
      "metadata": {
        "id": "section-1-header"
      }
    },
    {
      "cell_type": "markdown",
      "source": [
        "### Conceptos Teóricos:\n",
        "\n",
        "*   **`numpy`**: Librería fundamental para la computación numérica en Python, optimizada para trabajar con arrays y matrices. Es esencial para la manipulación eficiente de los datos de imágenes y tensores.\n",
        "*   **`matplotlib.pyplot`**: Módulo de la librería `matplotlib` que ofrece una interfaz similar a MATLAB para la creación de gráficos y visualizaciones estáticas, animadas e interactivas en Python. Se empleará para la visualización de imágenes y resultados.\n",
        "*   **`tensorflow`**: La plataforma _open-source_ integral de Google para Machine Learning. Proporciona un ecosistema robusto de herramientas, librerías y recursos comunitarios que permiten a los investigadores impulsar el _machine learning_ de vanguardia y a los desarrolladores construir y desplegar aplicaciones basadas en ML.\n",
        "*   **`tensorflow.keras`**: Keras es una API de alto nivel para construir y entrenar modelos de _deep learning_. Dada su naturaleza modular y orientada al usuario, facilita la prototipación rápida y se integra directamente en TensorFlow, simplificando significativamente el proceso de construcción de redes neuronales."
      ],
      "metadata": {
        "id": "section-1-theory"
      }
    },
    {
      "cell_type": "code",
      "execution_count": 1,
      "metadata": {
        "id": "tCD6kOAv1iBL"
      },
      "outputs": [],
      "source": [
        "import numpy as np                 # Para operaciones numéricas eficientes, especialmente con los datos de imágenes.\n",
        "import matplotlib.pyplot as plt    # Para la visualización de imágenes y gráficos.\n",
        "import tensorflow as tf            # La plataforma principal de Deep Learning.\n",
        "from tensorflow.keras import layers, models # Módulos de Keras para la construcción y definición de modelos."
      ]
    },
    {
      "cell_type": "markdown",
      "source": [
        "## 2. Carga y Preprocesamiento de Datos: El Dataset Fashion MNIST\n",
        "\n",
        "Una vez configurado el entorno, el siguiente paso crítico es la carga y el preprocesamiento de los datos. Para esta demostración, utilizaremos el dataset Fashion MNIST, una colección estándar y ampliamente utilizada para tareas de clasificación de imágenes."
      ],
      "metadata": {
        "id": "section-2-header"
      }
    },
    {
      "cell_type": "markdown",
      "source": [
        "### Conceptos Teóricos:\n",
        "\n",
        "*   **Dataset `fashion_mnist`**: Constituye un conjunto de datos que incluye 70.000 imágenes en escala de grises de 28x28 píxeles, distribuidas en 10 categorías de prendas de vestir (por ejemplo, remeras, pantalones, zapatillas). De estas, 60.000 imágenes se destinan al entrenamiento del modelo y 10.000 a su evaluación (test).\n",
        "*   **Normalización (`x_train / 255.0`)**: Los valores de los píxeles de las imágenes suelen oscilar entre 0 (negro) y 255 (blanco). Las redes neuronales tienden a converger más eficientemente cuando los datos de entrada se encuentran en una escala reducida, típicamente entre 0 y 1. La división por 255 (el valor máximo posible) logra esta normalización. Este paso contribuye a la estabilidad y velocidad del proceso de entrenamiento.\n",
        "*   **Reshape (`.reshape(-1, 28, 28, 1)`)**: Las redes neuronales convolucionales (CNNs) requieren que las imágenes de entrada incluyan una dimensión para el \"canal\" de color. Las imágenes originales de Fashion MNIST poseen dimensiones de 28x28. La operación `reshape(-1, 28, 28, 1)` ajusta la forma del tensor, indicando que cada imagen tiene 28 píxeles de alto, 28 píxeles de ancho y 1 canal (ya que son imágenes en escala de grises; para imágenes RGB, serían 3 canales). El valor `-1` permite que TensorFlow infiera automáticamente el tamaño de esa dimensión basándose en el número total de elementos."
      ],
      "metadata": {
        "id": "section-2-theory"
      }
    },
    {
      "cell_type": "code",
      "source": [
        "# Cargamos el dataset Fashion MNIST, que está disponible directamente en TensorFlow.Keras.\n",
        "fashion_mnist = tf.keras.datasets.fashion_mnist\n",
        "(x_train, y_train), (x_test, y_test) = fashion_mnist.load_data()\n",
        "\n",
        "# Normalización de los valores de píxeles: Transformamos el rango de 0-255 a 0-1.\n",
        "# Este paso es fundamental para optimizar el proceso de aprendizaje de la red neuronal.\n",
        "x_train = x_train / 255.0\n",
        "x_test = x_test / 255.0\n",
        "\n",
        "# Reshape de las imágenes para incluir la dimensión del canal.\n",
        "# Las CNNs esperan un formato (número_de_muestras, altura, anchura, canales).\n",
        "# Dado que las imágenes son en escala de grises, se añade 1 canal.\n",
        "x_train = x_train.reshape(-1, 28, 28, 1)\n",
        "x_test = x_test.reshape(-1, 28, 28, 1)\n",
        "\n",
        "print(f\"Dimensiones de las imágenes de entrenamiento: {x_train.shape}\")\n",
        "print(f\"Dimensiones de las etiquetas de entrenamiento: {y_train.shape}\")\n",
        "print(f\"Dimensiones de las imágenes de test: {x_test.shape}\")\n",
        "print(f\"Dimensiones de las etiquetas de test: {y_test.shape}\")"
      ],
      "metadata": {
        "id": "UC7R8eMg1oVL",
        "colab": {
          "base_uri": "https://localhost:8080/"
        },
        "outputId": "505fc2d8-35fe-4ab1-a1a3-b458a4eb31d3"
      },
      "execution_count": 2,
      "outputs": [
        {
          "output_type": "stream",
          "name": "stdout",
          "text": [
            "Downloading data from https://storage.googleapis.com/tensorflow/tf-keras-datasets/train-labels-idx1-ubyte.gz\n",
            "\u001b[1m29515/29515\u001b[0m \u001b[32m━━━━━━━━━━━━━━━━━━━━\u001b[0m\u001b[37m\u001b[0m \u001b[1m0s\u001b[0m 0us/step\n",
            "Downloading data from https://storage.googleapis.com/tensorflow/tf-keras-datasets/train-images-idx3-ubyte.gz\n",
            "\u001b[1m26421880/26421880\u001b[0m \u001b[32m━━━━━━━━━━━━━━━━━━━━\u001b[0m\u001b[37m\u001b[0m \u001b[1m1s\u001b[0m 0us/step\n",
            "Downloading data from https://storage.googleapis.com/tensorflow/tf-keras-datasets/t10k-labels-idx1-ubyte.gz\n",
            "\u001b[1m5148/5148\u001b[0m \u001b[32m━━━━━━━━━━━━━━━━━━━━\u001b[0m\u001b[37m\u001b[0m \u001b[1m0s\u001b[0m 0us/step\n",
            "Downloading data from https://storage.googleapis.com/tensorflow/tf-keras-datasets/t10k-images-idx3-ubyte.gz\n",
            "\u001b[1m4422102/4422102\u001b[0m \u001b[32m━━━━━━━━━━━━━━━━━━━━\u001b[0m\u001b[37m\u001b[0m \u001b[1m0s\u001b[0m 0us/step\n",
            "Dimensiones de las imágenes de entrenamiento: (60000, 28, 28, 1)\n",
            "Dimensiones de las etiquetas de entrenamiento: (60000,)\n",
            "Dimensiones de las imágenes de test: (10000, 28, 28, 1)\n",
            "Dimensiones de las etiquetas de test: (10000,)\n"
          ]
        }
      ]
    },
    {
      "cell_type": "markdown",
      "source": [
        "## 3. Exploración de Datos: Visualización del Dataset\n",
        "\n",
        "Es una práctica recomendable inspeccionar visualmente una muestra del dataset para comprender la naturaleza de los datos con los que se está trabajando. Esto proporciona una intuición inicial sobre las características que el modelo deberá aprender a identificar y clasificar."
      ],
      "metadata": {
        "id": "section-3-header"
      }
    },
    {
      "cell_type": "markdown",
      "source": [
        "### Conceptos Teóricos:\n",
        "\n",
        "*   **`class_names`**: Una lista que mapea los índices numéricos de las etiquetas (salida del dataset) a sus correspondientes nombres de clase en formato de texto (ej., 0 a 'T-shirt/top', 1 a 'Trouser').\n",
        "*   **`plt.figure()`, `plt.subplot()`, `plt.imshow()`, `plt.title()`**: Son funciones de `matplotlib` que permiten la creación de un lienzo para múltiples gráficos (`figure`), la disposición de gráficos en una grilla (`subplot`), la visualización de una imagen (`imshow`) y la asignación de un título descriptivo (`title`).\n",
        "*   **`cmap='gray'`**: Un argumento que especifica la colormap a utilizar para la visualización de la imagen, indicando que debe representarse en escala de grises. Para imágenes a color, se usaría otro `cmap` o se omitiría."
      ],
      "metadata": {
        "id": "section-3-theory"
      }
    },
    {
      "cell_type": "code",
      "source": [
        "# Definimos los nombres de las clases para una interpretación más clara de las etiquetas numéricas.\n",
        "class_names = ['T-shirt/top', 'Trouser', 'Pullover', 'Dress', 'Coat',\n",
        "               'Sandal', 'Shirt', 'Sneaker', 'Bag', 'Ankle boot']\n",
        "\n",
        "# Creamos una figura para visualizar las primeras 10 imágenes del conjunto de entrenamiento.\n",
        "plt.figure(figsize=(10,5))\n",
        "# Iteramos a través de las primeras 10 imágenes.\n",
        "for i in range(10):\n",
        "    plt.subplot(2,5,i+1) # Establecemos una cuadrícula de 2 filas y 5 columnas para la disposición de las imágenes.\n",
        "    plt.xticks([])       # Eliminamos las marcas del eje X para una visualización más limpia.\n",
        "    plt.yticks([])       # Eliminamos las marcas del eje Y.\n",
        "    # Mostramos la imagen. Se redimensiona temporalmente a 28x28 para la visualización por matplotlib\n",
        "    # (matplotlib espera imágenes sin la dimensión de canal si son escala de grises).\n",
        "    plt.imshow(x_train[i].reshape(28,28), cmap='gray')\n",
        "    # Asignamos el nombre de la clase correspondiente a la etiqueta como título de la imagen.\n",
        "    plt.title(class_names[y_train[i]])\n",
        "plt.show() # Renderizamos la figura con las imágenes."
      ],
      "metadata": {
        "id": "CvD9fkID1u-i",
        "colab": {
          "base_uri": "https://localhost:8080/",
          "height": 402
        },
        "outputId": "9a3b97a5-0369-4fb6-bb90-a4b6134177ce"
      },
      "execution_count": 3,
      "outputs": [
        {
          "output_type": "display_data",
          "data": {
            "text/plain": [
              "<Figure size 1000x500 with 10 Axes>"
            ],
            "image/png": "[encoded data removed]"
          },
          "metadata": {}
        }
      ]
    },
    {
      "cell_type": "markdown",
      "source": [
        "## 4. Construcción del Modelo CNN: Arquitectura y Capas\n",
        "\n",
        "La fase de construcción del modelo es fundamental para definir la arquitectura de la red neuronal. En las CNNs, esta arquitectura se compone de capas especializadas en el procesamiento de imágenes, como las capas convolucionales y de _pooling_, seguidas por capas densas para la clasificación final de las características extraídas."
      ],
      "metadata": {
        "id": "section-4-header"
      }
    },
    {
      "cell_type": "markdown",
      "source": [
        "### Conceptos Teóricos:\n",
        "\n",
        "*   **`models.Sequential`**: Es la forma más sencilla y común de construir un modelo en Keras, permitiendo apilar capas linealmente, una tras otra, formando una secuencia de transformaciones.\n",
        "*   **`layers.Conv2D` (Capa Convolucional Bidimensional)**:\n",
        "    *   Es el componente central de las CNNs. Aplica un conjunto de \"filtros\" o \"kernels\" bidimensionales a la imagen de entrada para detectar características locales como bordes, texturas o patrones específicos.\n",
        "    *   `32` (o `64`): Indica el número de filtros (o kernels) que esta capa aprenderá. Un mayor número de filtros permite la detección de una mayor diversidad y complejidad de patrones.\n",
        "    *   `(3, 3)`: Define las dimensiones del kernel (una ventana de 3x3 píxeles que se desliza sobre la imagen).\n",
        "    *   `activation='relu'`: La función de activación Rectified Linear Unit (`max(0, x)`). Introduce no-linealidad en la red, lo que es esencial para que el modelo pueda aprender relaciones complejas. Sin funciones de activación, la red solo podría modelar relaciones lineales, lo cual es insuficiente para la mayoría de las tareas de visión por computadora.\n",
        "    *   `input_shape=(28, 28, 1)`: Se especifica exclusivamente en la *primera* capa del modelo para indicar las dimensiones esperadas de las imágenes de entrada (altura, anchura, canales).\n",
        "*   **`layers.MaxPooling2D` (Capa de Agrupamiento Máximo Bidimensional)**:\n",
        "    *   Su propósito es reducir la dimensionalidad espacial de los \"mapas de características\" generados por las capas convolucionales. Esto se logra seleccionando el valor máximo dentro de ventanas deslizantes.\n",
        "    *   `(2, 2)`: Define el tamaño de la ventana de agrupamiento. Esta operación selecciona el valor máximo dentro de cada región de 2x2 píxeles, lo que resulta en una reducción a la mitad de las dimensiones espaciales (altura y anchura) del mapa de características.\n",
        "    *   Contribuye a disminuir la cantidad de parámetros y operaciones computacionales, al tiempo que confiere al modelo mayor robustez ante pequeñas variaciones en la posición de las características (invariancia a la traslación).\n",
        "*   **`layers.Flatten` (Capa de Aplanamiento)**:\n",
        "    *   Transforma la salida multidimensional (2D o 3D, como los mapas de características) de las capas convolucionales y de _pooling_ en un vector unidimensional.\n",
        "    *   Este paso es necesario para conectar las capas convolucionales (que operan en datos espaciales) con las capas `Dense` (totalmente conectadas), que requieren una entrada en formato de vector plano.\n",
        "*   **`layers.Dense` (Capa Densa o Totalmente Conectada)**:\n",
        "    *   Son capas neuronales tradicionales donde cada neurona de la capa actual está conectada a todas las neuronas de la capa anterior. Se utilizan para procesar las características extraídas y realizar la clasificación final.\n",
        "    *   `64`: Representa el número de neuronas en esta capa oculta.\n",
        "    *   `10`: Corresponde al número de neuronas en la capa de salida. Dado que tenemos 10 categorías de prendas, se requiere una neurona por cada clase.\n",
        "    *   `activation='softmax'`: La función de activación Softmax se aplica en la capa de salida para problemas de clasificación multiclase. Transforma los valores de salida en un conjunto de probabilidades, donde la suma de todas las probabilidades es igual a 1. La clase asociada a la probabilidad más alta se considera la predicción del modelo.\n",
        "*   **`model.summary()`**: Proporciona un resumen textual de la arquitectura del modelo, incluyendo el tipo de capa, la forma de la salida de cada capa (`Output Shape`) y el número de parámetros (`Param #`) que cada capa debe aprender. Esta herramienta es invaluable para la inspección y depuración del modelo.\n",
        "\n",
        "### Arquitectura de Nuestra CNN Propuesta:\n",
        "\n",
        "1.  **Capa Convolucional (`Conv2D`)**: Aprende 32 filtros de 3x3. Recibe la imagen original de 28x28x1.\n",
        "2.  **Capa de MaxPooling (`MaxPooling2D`)**: Reduce las dimensiones espaciales a la mitad (ej., de 28x28 a 14x14).\n",
        "3.  **Capa Convolucional (`Conv2D`)**: Aprende 64 filtros de 3x3. Opera sobre los mapas de características resultantes de la capa anterior, detectando patrones de mayor complejidad.\n",
        "4.  **Capa de MaxPooling (`MaxPooling2D`)**: Vuelve a reducir las dimensiones espaciales a la mitad (ej., de 14x14 a 7x7).\n",
        "5.  **Capa Flatten**: Transforma la salida convolucional (ej., 7x7x64) en un vector unidimensional.\n",
        "6.  **Capa Densa (`Dense`)**: Una capa oculta con 64 neuronas para procesar las características aplanadas.\n",
        "7.  **Capa Densa (`Dense`)**: La capa de salida con 10 neuronas (una por cada clase) y activación `softmax` para generar probabilidades."
      ],
      "metadata": {
        "id": "section-4-theory"
      }
    },
    {
      "cell_type": "code",
      "source": [
        "# Definimos el modelo secuencial, donde las capas se apilan linealmente.\n",
        "model = models.Sequential([\n",
        "    # Primera capa convolucional:\n",
        "    # 32 filtros de 3x3, con función de activación ReLU.\n",
        "    # 'input_shape' solo se especifica en la primera capa para indicar el formato de las entradas (28x28 píxeles, 1 canal).\n",
        "    layers.Conv2D(32, (3, 3), activation='relu', input_shape=(28, 28, 1)),\n",
        "    # Primera capa de MaxPooling:\n",
        "    # Reduce las dimensiones espaciales (altura y anchura) a la mitad, seleccionando el valor máximo en cada ventana de 2x2.\n",
        "    layers.MaxPooling2D((2, 2)),\n",
        "    # Segunda capa convolucional:\n",
        "    # 64 filtros de 3x3, con función de activación ReLU. Opera sobre los mapas de características previamente extraídos.\n",
        "    layers.Conv2D(64, (3, 3), activation='relu'),\n",
        "    # Segunda capa de MaxPooling:\n",
        "    # Vuelve a reducir las dimensiones espaciales de los mapas de características.\n",
        "    layers.MaxPooling2D((2, 2)),\n",
        "    # Capa Flatten:\n",
        "    # Convierte la salida de las capas convolucionales y de pooling (que es multidimensional) en un vector 1D.\n",
        "    # Esto es necesario para conectar con las capas densas.\n",
        "    layers.Flatten(),\n",
        "    # Primera capa densa (oculta):\n",
        "    # Contiene 64 neuronas con función de activación ReLU, procesando las características aplanadas.\n",
        "    layers.Dense(64, activation='relu'),\n",
        "    # Capa de salida:\n",
        "    # Contiene 10 neuronas (una por cada clase de prenda) y utiliza la función de activación softmax.\n",
        "    # Softmax convierte los valores de salida en probabilidades para cada clase, sumando 1.\n",
        "    layers.Dense(10, activation='softmax')\n",
        "])\n",
        "\n",
        "# Compilamos el modelo:\n",
        "# Configuramos el optimizador, la función de pérdida y las métricas para el entrenamiento.\n",
        "model.compile(optimizer='adam',                        # 'Adam' es un optimizador ampliamente utilizado y efectivo para una rápida convergencia.\n",
        "              loss='sparse_categorical_crossentropy',  # Función de pérdida adecuada para clasificación multiclase con etiquetas enteras.\n",
        "              metrics=['accuracy'])                  # Métrica de evaluación durante el entrenamiento: la precisión (proporción de aciertos).\n",
        "\n",
        "# Mostramos un resumen detallado de la arquitectura del modelo.\n",
        "# Esto incluye el tipo de cada capa, la forma de su salida y el número de parámetros entrenables en cada una.\n",
        "model.summary()"
      ],
      "metadata": {
        "id": "hqG-TdPv139p",
        "colab": {
          "base_uri": "https://localhost:8080/",
          "height": 429
        },
        "outputId": "2c359a29-e9fb-4662-be2f-2d506f05e307"
      },
      "execution_count": 4,
      "outputs": [
        {
          "output_type": "stream",
          "name": "stderr",
          "text": [
            "/usr/local/lib/python3.11/dist-packages/keras/src/layers/convolutional/base_conv.py:107: UserWarning: Do not pass an `input_shape`/`input_dim` argument to a layer. When using Sequential models, prefer using an `Input(shape)` object as the first layer in the model instead.\n",
            "  super().__init__(activity_regularizer=activity_regularizer, **kwargs)\n"
          ]
        },
        {
          "output_type": "display_data",
          "data": {
            "text/plain": [
              "\u001b[1mModel: \"sequential\"\u001b[0m\n"
            ],
            "text/html": [
              "<pre style=\"white-space:pre;overflow-x:auto;line-height:normal;font-family:Menlo,'DejaVu Sans Mono',consolas,'Courier New',monospace\"><span style=\"font-weight: bold\">Model: \"sequential\"</span>\n",
              "</pre>\n"
            ]
          },
          "metadata": {}
        },
        {
          "output_type": "display_data",
          "data": {
            "text/plain": [
              "┏━━━━━━━━━━━━━━━━━━━━━━━━━━━━━━━━━━━━━━┳━━━━━━━━━━━━━━━━━━━━━━━━━━━━━┳━━━━━━━━━━━━━━━━━┓\n",
              "┃\u001b[1m \u001b[0m\u001b[1mLayer (type)                        \u001b[0m\u001b[1m \u001b[0m┃\u001b[1m \u001b[0m\u001b[1mOutput Shape               \u001b[0m\u001b[1m \u001b[0m┃\u001b[1m \u001b[0m\u001b[1m        Param #\u001b[0m\u001b[1m \u001b[0m┃\n",
              "┡━━━━━━━━━━━━━━━━━━━━━━━━━━━━━━━━━━━━━━╇━━━━━━━━━━━━━━━━━━━━━━━━━━━━━╇━━━━━━━━━━━━━━━━━┩\n",
              "│ conv2d (\u001b[38;5;33mConv2D\u001b[0m)                      │ (\u001b[38;5;45mNone\u001b[0m, \u001b[38;5;34m26\u001b[0m, \u001b[38;5;34m26\u001b[0m, \u001b[38;5;34m32\u001b[0m)          │             \u001b[38;5;34m320\u001b[0m │\n",
              "├──────────────────────────────────────┼─────────────────────────────┼─────────────────┤\n",
              "│ max_pooling2d (\u001b[38;5;33mMaxPooling2D\u001b[0m)         │ (\u001b[38;5;45mNone\u001b[0m, \u001b[38;5;34m13\u001b[0m, \u001b[38;5;34m13\u001b[0m, \u001b[38;5;34m32\u001b[0m)          │               \u001b[38;5;34m0\u001b[0m │\n",
              "├──────────────────────────────────────┼─────────────────────────────┼─────────────────┤\n",
              "│ conv2d_1 (\u001b[38;5;33mConv2D\u001b[0m)                    │ (\u001b[38;5;45mNone\u001b[0m, \u001b[38;5;34m11\u001b[0m, \u001b[38;5;34m11\u001b[0m, \u001b[38;5;34m64\u001b[0m)          │          \u001b[38;5;34m18,496\u001b[0m │\n",
              "├──────────────────────────────────────┼─────────────────────────────┼─────────────────┤\n",
              "│ max_pooling2d_1 (\u001b[38;5;33mMaxPooling2D\u001b[0m)       │ (\u001b[38;5;45mNone\u001b[0m, \u001b[38;5;34m5\u001b[0m, \u001b[38;5;34m5\u001b[0m, \u001b[38;5;34m64\u001b[0m)            │               \u001b[38;5;34m0\u001b[0m │\n",
              "├──────────────────────────────────────┼─────────────────────────────┼─────────────────┤\n",
              "│ flatten (\u001b[38;5;33mFlatten\u001b[0m)                    │ (\u001b[38;5;45mNone\u001b[0m, \u001b[38;5;34m1600\u001b[0m)                │               \u001b[38;5;34m0\u001b[0m │\n",
              "├──────────────────────────────────────┼─────────────────────────────┼─────────────────┤\n",
              "│ dense (\u001b[38;5;33mDense\u001b[0m)                        │ (\u001b[38;5;45mNone\u001b[0m, \u001b[38;5;34m64\u001b[0m)                  │         \u001b[38;5;34m102,464\u001b[0m │\n",
              "├──────────────────────────────────────┼─────────────────────────────┼─────────────────┤\n",
              "│ dense_1 (\u001b[38;5;33mDense\u001b[0m)                      │ (\u001b[38;5;45mNone\u001b[0m, \u001b[38;5;34m10\u001b[0m)                  │             \u001b[38;5;34m650\u001b[0m │\n",
              "└──────────────────────────────────────┴─────────────────────────────┴─────────────────┘\n"
            ],
            "text/html": [
              "<pre style=\"white-space:pre;overflow-x:auto;line-height:normal;font-family:Menlo,'DejaVu Sans Mono',consolas,'Courier New',monospace\">┏━━━━━━━━━━━━━━━━━━━━━━━━━━━━━━━━━━━━━━┳━━━━━━━━━━━━━━━━━━━━━━━━━━━━━┳━━━━━━━━━━━━━━━━━┓\n",
              "┃<span style=\"font-weight: bold\"> Layer (type)                         </span>┃<span style=\"font-weight: bold\"> Output Shape                </span>┃<span style=\"font-weight: bold\">         Param # </span>┃\n",
              "┡━━━━━━━━━━━━━━━━━━━━━━━━━━━━━━━━━━━━━━╇━━━━━━━━━━━━━━━━━━━━━━━━━━━━━╇━━━━━━━━━━━━━━━━━┩\n",
              "│ conv2d (<span style=\"color: #0087ff; text-decoration-color: #0087ff\">Conv2D</span>)                      │ (<span style=\"color: #00d7ff; text-decoration-color: #00d7ff\">None</span>, <span style=\"color: #00af00; text-decoration-color: #00af00\">26</span>, <span style=\"color: #00af00; text-decoration-color: #00af00\">26</span>, <span style=\"color: #00af00; text-decoration-color: #00af00\">32</span>)          │             <span style=\"color: #00af00; text-decoration-color: #00af00\">320</span> │\n",
              "├──────────────────────────────────────┼─────────────────────────────┼─────────────────┤\n",
              "│ max_pooling2d (<span style=\"color: #0087ff; text-decoration-color: #0087ff\">MaxPooling2D</span>)         │ (<span style=\"color: #00d7ff; text-decoration-color: #00d7ff\">None</span>, <span style=\"color: #00af00; text-decoration-color: #00af00\">13</span>, <span style=\"color: #00af00; text-decoration-color: #00af00\">13</span>, <span style=\"color: #00af00; text-decoration-color: #00af00\">32</span>)          │               <span style=\"color: #00af00; text-decoration-color: #00af00\">0</span> │\n",
              "├──────────────────────────────────────┼─────────────────────────────┼─────────────────┤\n",
              "│ conv2d_1 (<span style=\"color: #0087ff; text-decoration-color: #0087ff\">Conv2D</span>)                    │ (<span style=\"color: #00d7ff; text-decoration-color: #00d7ff\">None</span>, <span style=\"color: #00af00; text-decoration-color: #00af00\">11</span>, <span style=\"color: #00af00; text-decoration-color: #00af00\">11</span>, <span style=\"color: #00af00; text-decoration-color: #00af00\">64</span>)          │          <span style=\"color: #00af00; text-decoration-color: #00af00\">18,496</span> │\n",
              "├──────────────────────────────────────┼─────────────────────────────┼─────────────────┤\n",
              "│ max_pooling2d_1 (<span style=\"color: #0087ff; text-decoration-color: #0087ff\">MaxPooling2D</span>)       │ (<span style=\"color: #00d7ff; text-decoration-color: #00d7ff\">None</span>, <span style=\"color: #00af00; text-decoration-color: #00af00\">5</span>, <span style=\"color: #00af00; text-decoration-color: #00af00\">5</span>, <span style=\"color: #00af00; text-decoration-color: #00af00\">64</span>)            │               <span style=\"color: #00af00; text-decoration-color: #00af00\">0</span> │\n",
              "├──────────────────────────────────────┼─────────────────────────────┼─────────────────┤\n",
              "│ flatten (<span style=\"color: #0087ff; text-decoration-color: #0087ff\">Flatten</span>)                    │ (<span style=\"color: #00d7ff; text-decoration-color: #00d7ff\">None</span>, <span style=\"color: #00af00; text-decoration-color: #00af00\">1600</span>)                │               <span style=\"color: #00af00; text-decoration-color: #00af00\">0</span> │\n",
              "├──────────────────────────────────────┼─────────────────────────────┼─────────────────┤\n",
              "│ dense (<span style=\"color: #0087ff; text-decoration-color: #0087ff\">Dense</span>)                        │ (<span style=\"color: #00d7ff; text-decoration-color: #00d7ff\">None</span>, <span style=\"color: #00af00; text-decoration-color: #00af00\">64</span>)                  │         <span style=\"color: #00af00; text-decoration-color: #00af00\">102,464</span> │\n",
              "├──────────────────────────────────────┼─────────────────────────────┼─────────────────┤\n",
              "│ dense_1 (<span style=\"color: #0087ff; text-decoration-color: #0087ff\">Dense</span>)                      │ (<span style=\"color: #00d7ff; text-decoration-color: #00d7ff\">None</span>, <span style=\"color: #00af00; text-decoration-color: #00af00\">10</span>)                  │             <span style=\"color: #00af00; text-decoration-color: #00af00\">650</span> │\n",
              "└──────────────────────────────────────┴─────────────────────────────┴─────────────────┘\n",
              "</pre>\n"
            ]
          },
          "metadata": {}
        },
        {
          "output_type": "display_data",
          "data": {
            "text/plain": [
              "\u001b[1m Total params: \u001b[0m\u001b[38;5;34m121,930\u001b[0m (476.29 KB)\n"
            ],
            "text/html": [
              "<pre style=\"white-space:pre;overflow-x:auto;line-height:normal;font-family:Menlo,'DejaVu Sans Mono',consolas,'Courier New',monospace\"><span style=\"font-weight: bold\"> Total params: </span><span style=\"color: #00af00; text-decoration-color: #00af00\">121,930</span> (476.29 KB)\n",
              "</pre>\n"
            ]
          },
          "metadata": {}
        },
        {
          "output_type": "display_data",
          "data": {
            "text/plain": [
              "\u001b[1m Trainable params: \u001b[0m\u001b[38;5;34m121,930\u001b[0m (476.29 KB)\n"
            ],
            "text/html": [
              "<pre style=\"white-space:pre;overflow-x:auto;line-height:normal;font-family:Menlo,'DejaVu Sans Mono',consolas,'Courier New',monospace\"><span style=\"font-weight: bold\"> Trainable params: </span><span style=\"color: #00af00; text-decoration-color: #00af00\">121,930</span> (476.29 KB)\n",
              "</pre>\n"
            ]
          },
          "metadata": {}
        },
        {
          "output_type": "display_data",
          "data": {
            "text/plain": [
              "\u001b[1m Non-trainable params: \u001b[0m\u001b[38;5;34m0\u001b[0m (0.00 B)\n"
            ],
            "text/html": [
              "<pre style=\"white-space:pre;overflow-x:auto;line-height:normal;font-family:Menlo,'DejaVu Sans Mono',consolas,'Courier New',monospace\"><span style=\"font-weight: bold\"> Non-trainable params: </span><span style=\"color: #00af00; text-decoration-color: #00af00\">0</span> (0.00 B)\n",
              "</pre>\n"
            ]
          },
          "metadata": {}
        }
      ]
    },
    {
      "cell_type": "markdown",
      "source": [
        "## 5. Entrenamiento del Modelo: Proceso de Aprendizaje\n",
        "\n",
        "Una vez que el modelo ha sido definido y compilado, se procede a su entrenamiento. Durante esta fase, el modelo ajusta sus parámetros internos (pesos y sesgos) basándose en los datos de entrenamiento, con el objetivo primordial de minimizar la función de pérdida y, consecuentemente, mejorar su rendimiento en la tarea de clasificación."
      ],
      "metadata": {
        "id": "section-5-header"
      }
    },
    {
      "cell_type": "markdown",
      "source": [
        "### Conceptos Teóricos:\n",
        "\n",
        "*   **`model.fit()`**: Es la función central encargada de ejecutar el proceso de entrenamiento del modelo. Recibe como argumentos principales los datos de entrenamiento (`x_train`, `y_train`).\n",
        "*   **`epochs`**: Una \"época\" representa una pasada completa de todo el dataset de entrenamiento a través de la red neuronal. Durante cada época, el modelo ve cada ejemplo de entrenamiento una vez y ajusta sus pesos. Por ejemplo, `epochs=5` indica que el modelo procesará y aprenderá de la totalidad del dataset de entrenamiento en 5 ocasiones.\n",
        "*   **`validation_data=(x_test, y_test)`**: Es de suma importancia monitorear el desempeño del modelo con datos que *no han sido vistos* durante el entrenamiento (`x_test`, `y_test`). Esto permite detectar el fenómeno de **overfitting** (sobreajuste), donde el modelo memoriza excesivamente los datos de entrenamiento (incluyendo el ruido), lo que resulta en un pobre desempeño con datos nuevos e invisibles. El `validation_data` nos ayuda a evaluar la capacidad de generalización del modelo en cada época, proporcionando métricas de validación."
      ],
      "metadata": {
        "id": "section-5-theory"
      }
    },
    {
      "cell_type": "code",
      "source": [
        "print(\"Iniciando el proceso de entrenamiento del modelo. Este paso puede tomar unos minutos dependiendo del hardware disponible.\")\n",
        "# Entrenamos el modelo.\n",
        "# Se proporcionan los datos de entrenamiento y los datos de validación (test) para monitorear el desempeño en datos no vistos.\n",
        "# 'epochs' define el número de veces que el modelo iterará sobre todo el conjunto de datos de entrenamiento.\n",
        "history = model.fit(x_train, y_train, epochs=5, validation_data=(x_test, y_test))\n",
        "print(\"Entrenamiento del modelo completado.\")"
      ],
      "metadata": {
        "id": "kcD6EnzB17fa",
        "colab": {
          "base_uri": "https://localhost:8080/"
        },
        "outputId": "1bdded86-d22e-403d-cf23-e881cd225d63"
      },
      "execution_count": 5,
      "outputs": [
        {
          "output_type": "stream",
          "name": "stdout",
          "text": [
            "Iniciando el proceso de entrenamiento del modelo. Este paso puede tomar unos minutos dependiendo del hardware disponible.\n",
            "Epoch 1/5\n",
            "\u001b[1m1875/1875\u001b[0m \u001b[32m━━━━━━━━━━━━━━━━━━━━\u001b[0m\u001b[37m\u001b[0m \u001b[1m12s\u001b[0m 4ms/step - accuracy: 0.7750 - loss: 0.6232 - val_accuracy: 0.8678 - val_loss: 0.3632\n",
            "Epoch 2/5\n",
            "\u001b[1m1875/1875\u001b[0m \u001b[32m━━━━━━━━━━━━━━━━━━━━\u001b[0m\u001b[37m\u001b[0m \u001b[1m17s\u001b[0m 4ms/step - accuracy: 0.8833 - loss: 0.3156 - val_accuracy: 0.8785 - val_loss: 0.3225\n",
            "Epoch 3/5\n",
            "\u001b[1m1875/1875\u001b[0m \u001b[32m━━━━━━━━━━━━━━━━━━━━\u001b[0m\u001b[37m\u001b[0m \u001b[1m6s\u001b[0m 3ms/step - accuracy: 0.9044 - loss: 0.2651 - val_accuracy: 0.8989 - val_loss: 0.2819\n",
            "Epoch 4/5\n",
            "\u001b[1m1875/1875\u001b[0m \u001b[32m━━━━━━━━━━━━━━━━━━━━\u001b[0m\u001b[37m\u001b[0m \u001b[1m6s\u001b[0m 3ms/step - accuracy: 0.9136 - loss: 0.2351 - val_accuracy: 0.8929 - val_loss: 0.2894\n",
            "Epoch 5/5\n",
            "\u001b[1m1875/1875\u001b[0m \u001b[32m━━━━━━━━━━━━━━━━━━━━\u001b[0m\u001b[37m\u001b[0m \u001b[1m6s\u001b[0m 3ms/step - accuracy: 0.9228 - loss: 0.2080 - val_accuracy: 0.9010 - val_loss: 0.2729\n",
            "Entrenamiento del modelo completado.\n"
          ]
        }
      ]
    },
    {
      "cell_type": "markdown",
      "source": [
        "## 6. Evaluación y Predicciones: Análisis del Rendimiento\n",
        "\n",
        "Concluido el entrenamiento, es imperativo evaluar el desempeño final del modelo con datos que no ha procesado durante el aprendizaje y analizar sus predicciones para comprender su efectividad en la tarea de clasificación."
      ],
      "metadata": {
        "id": "section-6-header"
      }
    },
    {
      "cell_type": "markdown",
      "source": [
        "### Conceptos Teóricos:\n",
        "\n",
        "*   **`model.evaluate()`**: Este método calcula la pérdida (`loss`) y las métricas (ej., `accuracy`) del modelo sobre el conjunto de datos de prueba (`x_test`, `y_test`). Proporciona una medida objetiva del rendimiento del modelo en datos que nunca formaron parte del entrenamiento.\n",
        "*   **`model.predict()`**: Genera las predicciones de salida del modelo para un conjunto de datos dado. En este caso, para `x_test`. La salida consiste en un array de probabilidades para cada clase, para cada imagen de entrada.\n",
        "*   **`np.argmax(predictions_array[i])`**: La función `np.argmax` de NumPy devuelve el índice del valor máximo en un array. Dado que `predictions` son arrays de probabilidades para las 10 clases (donde cada índice representa una clase), esto nos permite identificar la clase que el modelo predijo con la mayor confianza para una imagen específica.\n",
        "*   **Visualización de predicciones**: La representación visual de ejemplos de predicciones, tanto correctas como incorrectas, es una herramienta pedagógica invaluable. La función auxiliar `plot_image` muestra la imagen de entrada, la predicción del modelo y la etiqueta real, indicando la corrección de la predicción mediante un cambio de color en el texto (azul para acierto, rojo para error), lo que facilita la comprensión del comportamiento del modelo."
      ],
      "metadata": {
        "id": "section-6-theory"
      }
    },
    {
      "cell_type": "code",
      "source": [
        "# Evaluación del modelo en el conjunto de datos de test\n",
        "print(\"\\nEvaluando el modelo en el conjunto de datos de test...\")\n",
        "test_loss, test_acc = model.evaluate(x_test, y_test, verbose=2)\n",
        "print(f'\\nPrecisión en el conjunto de test: {test_acc:.4f}')\n",
        "\n",
        "# Generación de predicciones sobre las imágenes del conjunto de test\n",
        "print(\"\\nGenerando predicciones en el conjunto de test...\")\n",
        "predictions = model.predict(x_test)\n",
        "\n",
        "# Definición de una función auxiliar para visualizar una imagen junto con su predicción y la etiqueta verdadera.\n",
        "def plot_image(i, predictions_array, true_label, img):\n",
        "    # Recuperamos la etiqueta verdadera y la imagen correspondiente.\n",
        "    true_label, img = true_label[i], img[i]\n",
        "    plt.grid(False) # Desactivamos la cuadrícula de los ejes para una visualización más limpia.\n",
        "    plt.xticks([])  # Eliminamos las marcas del eje X.\n",
        "    plt.yticks([])  # Eliminamos las marcas del eje Y.\n",
        "\n",
        "    # Mostramos la imagen, redimensionando temporalmente a 28x28 para la visualización con matplotlib.\n",
        "    plt.imshow(img.reshape(28,28), cmap=plt.cm.binary)\n",
        "\n",
        "    # Obtenemos la clase predicha (el índice con la probabilidad más alta de las predicciones).\n",
        "    predicted_label = np.argmax(predictions_array[i])\n",
        "    # Determinamos el color del texto: azul para predicciones correctas, rojo para incorrectas.\n",
        "    color = 'blue' if predicted_label == true_label else 'red'\n",
        "\n",
        "    # *** CORRECCIÓN CLAVE: Dividimos el texto en dos líneas para evitar la superposición ***\n",
        "    # Usamos '\\n' para insertar un salto de línea en la etiqueta.\n",
        "    plt.xlabel(f\"Predicción: {class_names[predicted_label]}\\n(Real: {class_names[true_label]})\",\n",
        "               color=color, fontsize=10) # Reducimos ligeramente el tamaño de fuente para mayor seguridad.\n",
        "\n",
        "# Creamos una figura para visualizar 5 ejemplos de predicciones.\n",
        "# *** CORRECCIÓN CLAVE: Aumentamos el tamaño de la figura (especialmente el ancho) para dar más espacio. ***\n",
        "plt.figure(figsize=(15, 7)) # Aumentado de (12,6) a (15,7) para más holgura.\n",
        "print(\"\\nVisualizando algunas predicciones del modelo...\")\n",
        "for i in range(5):\n",
        "    plt.subplot(1,5,i+1) # Disponemos las imágenes en una grilla de 1 fila y 5 columnas.\n",
        "    plot_image(i, predictions, y_test, x_test) # Invocamos la función de visualización para cada imagen.\n",
        "\n",
        "# Título general para la figura. 'y=1.02' lo posiciona ligeramente por encima de la figura principal.\n",
        "plt.suptitle('Predicciones del Modelo (Azul: Correcto, Rojo: Incorrecto)', y=1.02, fontsize=14)\n",
        "\n",
        "# Ajustamos el layout para evitar superposiciones de títulos y ejes.\n",
        "# El parámetro 'rect' define el rectángulo (left, bottom, right, top) en el que se ubicarán los subplots.\n",
        "# 0.95 en 'top' deja más espacio en la parte superior para el suptitle.\n",
        "plt.tight_layout(rect=[0, 0, 1, 0.95])\n",
        "plt.show()\n",
        "\n",
        "print(\"Finalizada la evaluación y visualización de predicciones.\")"
      ],
      "metadata": {
        "id": "7vsacUXW2CSJ",
        "colab": {
          "base_uri": "https://localhost:8080/",
          "height": 733
        },
        "outputId": "cedc370a-e775-451b-86e9-d726dc4de11c"
      },
      "execution_count": 6,
      "outputs": [
        {
          "output_type": "stream",
          "name": "stdout",
          "text": [
            "\n",
            "Evaluando el modelo en el conjunto de datos de test...\n",
            "313/313 - 1s - 2ms/step - accuracy: 0.9010 - loss: 0.2729\n",
            "\n",
            "Precisión en el conjunto de test: 0.9010\n",
            "\n",
            "Generando predicciones en el conjunto de test...\n",
            "\u001b[1m313/313\u001b[0m \u001b[32m━━━━━━━━━━━━━━━━━━━━\u001b[0m\u001b[37m\u001b[0m \u001b[1m1s\u001b[0m 2ms/step\n",
            "\n",
            "Visualizando algunas predicciones del modelo...\n"
          ]
        },
        {
          "output_type": "display_data",
          "data": {
            "text/plain": [
              "<Figure size 1500x700 with 5 Axes>"
            ],
            "image/png": "[encoded data removed]"
          },
          "metadata": {}
        },
        {
          "output_type": "stream",
          "name": "stdout",
          "text": [
            "Finalizada la evaluación y visualización de predicciones.\n"
          ]
        }
      ]
    },
    {
      "cell_type": "markdown",
      "source": [
        "## 7. Conclusión y Próximos Pasos\n",
        "\n",
        "Hemos completado el ciclo fundamental de desarrollo de una Red Neuronal Convolucional básica. Este proceso ha abarcado desde la preparación de los datos hasta la evaluación de un modelo capaz de clasificar imágenes de prendas de vestir con un rendimiento satisfactorio."
      ],
      "metadata": {
        "id": "section-7-header"
      }
    },
    {
      "cell_type": "markdown",
      "source": [
        "### Aprendizajes Clave Adquiridos:\n",
        "\n",
        "*   Dominio de los métodos para la carga y el preprocesamiento de imágenes destinados a una CNN.\n",
        "*   Comprensión de la arquitectura fundamental de una CNN, incluyendo la función y disposición estratégica de las capas `Conv2D`, `MaxPooling2D`, `Flatten` y `Dense`.\n",
        "*   Conocimiento de los procedimientos para la compilación, entrenamiento y evaluación de un modelo utilizando las librerías Keras y TensorFlow.\n",
        "*   Adquisición de técnicas para la visualización de predicciones, lo que permite un análisis cualitativo y cuantitativo del rendimiento del modelo.\n",
        "\n",
        "### Sugerencias para la Exploración y Mejora Continua (Líneas de Investigación Futuras):\n",
        "\n",
        "Para profundizar en el conocimiento y la aplicación de las CNNs, se proponen las siguientes líneas de investigación y experimentación, orientadas a optimizar el desempeño y la robustez del modelo:\n",
        "\n",
        "*   **Incremento de Épocas de Entrenamiento**: Analizar el impacto de un mayor número de épocas de entrenamiento (ej., 10 o 20) en la precisión del modelo y en la posible aparición del fenómeno de overfitting (sobreajuste).\n",
        "*   **Modificación de la Arquitectura del Modelo**: Experimentar con la adición de capas convolucionales adicionales, la variación en el número de filtros por capa, o el ajuste del tamaño y número de neuronas en las capas densas para observar su influencia en el rendimiento y la capacidad de abstracción.\n",
        "*   **Implementación de Técnicas de Regularización**: Aplicar estrategias avanzadas como Dropout o regularización L1/L2 para mitigar el overfitting y mejorar la capacidad de generalización del modelo a datos no vistos.\n",
        "*   **Aumento de Datos (_Data Augmentation_)**: Implementar transformaciones artificiales a las imágenes del conjunto de entrenamiento (rotaciones, zooms, volteos, etc.) para expandir el dataset de forma efectiva y, con ello, mejorar la robustez y generalización del modelo.\n",
        "*   **Exploración de Otros Datasets**: Evaluar el desempeño del modelo con diferentes conjuntos de datos de imágenes para observar su adaptabilidad y generalización a nuevas tareas de clasificación.\n",
        "*   **Optimización de Hiperparámetros**: Investigar otras funciones de pérdida (ej., `categorical_crossentropy` si las etiquetas fueran _one-hot encoded_) y optimizadores (ej., SGD, RMSprop) para identificar configuraciones óptimas que maximicen el rendimiento del modelo."
      ],
      "metadata": {
        "id": "section-7-theory"
      }
    },
    {
      "cell_type": "markdown",
      "source": [
        "Se espera que esta guía sea de gran utilidad para la introducción y profundización en el fascinante campo del _Deep Learning_ aplicado a la visión por computadora. ¡Se alienta encarecidamente a la experimentación continua y a la aplicación de estos conceptos en nuevos desafíos!"
      ],
      "metadata": {
        "id": "section-7-outro"
      }
    },
    {
      "cell_type": "markdown",
      "source": [
        "## 8. Glosario de Términos Clave\n",
        "\n",
        "Este glosario proporciona definiciones concisas y claras de los términos técnicos fundamentales empleados a lo largo de este cuaderno, facilitando la comprensión para estudiantes y docentes en el ámbito del _Deep Learning_ y las CNNs."
      ],
      "metadata": {
        "id": "glossary-header"
      }
    },
    {
      "cell_type": "markdown",
      "source": [
        "*   **Red Neuronal Convolucional (CNN)**: Un tipo de red neuronal profunda especialmente diseñada para procesar datos estructurados en cuadrículas, como imágenes, mediante la detección jerárquica y automática de patrones visuales.\n",
        "*   **Keras**: Una interfaz de programación de aplicaciones (API) de alto nivel que simplifica la construcción, entrenamiento y evaluación de modelos de _deep learning_. Actúa como una capa de abstracción sobre _backends_ como TensorFlow.\n",
        "*   **TensorFlow**: Una plataforma de _machine learning_ _open-source_ desarrollada por Google. Proporciona las herramientas y librerías necesarias para crear y desplegar modelos de aprendizaje automático a gran escala. Keras utiliza TensorFlow como su motor computacional subyacente.\n",
        "*   **Dataset**: Un conjunto estructurado de datos (en nuestro caso, imágenes y sus etiquetas) utilizado para entrenar, validar y probar modelos de _machine learning_.\n",
        "*   **Fashion MNIST**: Un dataset estándar compuesto por 70.000 imágenes en escala de grises de 10 categorías de prendas de vestir, comúnmente empleado en tareas de clasificación de imágenes debido a su tamaño manejable y diversidad de clases.\n",
        "*   **Normalización**: Proceso de ajustar el rango de los valores de los datos de entrada (ej., píxeles de 0-255 a 0-1) para optimizar la estabilidad y velocidad del entrenamiento de la red neuronal. Ayuda a evitar que ciertos valores dominen el aprendizaje.\n",
        "*   **Reshape**: Operación que modifica las dimensiones o la forma de un tensor o array, manteniendo la cantidad total de elementos. En imágenes, se usa para añadir la dimensión de canal requerida por las CNNs.\n",
        "*   **Capa Convolucional (`Conv2D`)**: La capa fundamental de una CNN. Aplica un conjunto de filtros (kernels) a la imagen para extraer características relevantes como bordes, texturas o formas.\n",
        "*   **Filtro / Kernel**: Una pequeña matriz de pesos que se \"desliza\" sobre la imagen de entrada, realizando operaciones de convolución para producir un mapa de características, resaltando patrones específicos en la imagen.\n",
        "*   **Feature Map (Mapa de Características)**: La salida de una capa convolucional. Representa la respuesta de la imagen a un filtro particular, indicando la presencia y ubicación de ciertas características o patrones detectados.\n",
        "*   **Capa de Agrupamiento Máximo (`MaxPooling2D`)**: Capa que reduce la dimensionalidad espacial de los mapas de características al seleccionar el valor máximo dentro de ventanas deslizantes. Esto disminuye la complejidad computacional y mejora la robustez del modelo a pequeñas traslaciones (invariancia).\n",
        "*   **Aplanar (`Flatten`)**: Capa que transforma la salida multidimensional (ej., 2D o 3D) de las capas convolucionales y de _pooling_ en un vector unidimensional. Este paso es necesario para conectar estas capas con las capas densas, que esperan una entrada lineal.\n",
        "*   **Capa Densa (`Dense`) / Capa Totalmente Conectada**: Una capa de neuronas donde cada neurona de la capa actual está conectada a todas las neuronas de la capa precedente. Son las capas tradicionales de las redes neuronales utilizadas para realizar clasificaciones finales o regresiones.\n",
        "*   **Función de Activación**: Una función matemática no lineal aplicada a la salida de cada neurona. Es crucial para que la red pueda aprender patrones complejos y no lineales en los datos.\n",
        "    *   **ReLU (Rectified Linear Unit)**: `max(0, x)`. Una función de activación simple y eficiente, ampliamente utilizada en capas ocultas por su buen rendimiento y facilidad de cálculo.\n",
        "    *   **Softmax**: Una función de activación utilizada en la capa de salida para problemas de clasificación multiclase. Convierte un vector de valores reales en una distribución de probabilidad, donde la suma de todas las probabilidades es igual a 1. La clase con la probabilidad más alta es la predicción del modelo.\n",
        "*   **Modelo Secuencial (`models.Sequential`)**: Una abstracción de Keras para construir modelos de redes neuronales apilando capas linealmente, de forma directa e intuitiva.\n",
        "*   **Compilar (`model.compile`)**: Etapa donde se configura el modelo para el entrenamiento. Se especifican el optimizador (cómo se ajustan los pesos), la función de pérdida (cómo se mide el error) y las métricas (cómo se evalúa el rendimiento).\n",
        "*   **Optimizador**: Un algoritmo que ajusta iterativamente los pesos internos de la red neuronal durante el entrenamiento con el objetivo de minimizar la función de pérdida.\n",
        "    *   **Adam**: Un algoritmo de optimización adaptativo y eficiente, frecuentemente utilizado por su buen rendimiento en una amplia gama de tareas de _deep learning_.\n",
        "*   **Función de Pérdida (`loss`)**: Una función matemática que cuantifica la discrepancia o el \"error\" entre las predicciones del modelo y los valores reales. El objetivo del entrenamiento es minimizar esta función.\n",
        "    *   **`sparse_categorical_crossentropy`**: Una función de pérdida adecuada para problemas de clasificación multiclase donde las etiquetas de las clases se representan como enteros (ej., 0, 1, 2, ...), en lugar de vectores _one-hot encoded_.\n",
        "*   **Métrica (`metrics`)**: Una medida de rendimiento utilizada para evaluar el modelo durante el entrenamiento y la evaluación, proporcionando una comprensión más intuitiva de su desempeño.\n",
        "    *   **Accuracy (Precisión)**: La proporción de predicciones correctas sobre el número total de predicciones, indicando la exactitud del modelo.\n",
        "*   **Época (`epoch`)**: Una iteración completa sobre todo el conjunto de datos de entrenamiento. En cada época, el modelo procesa cada ejemplo de entrenamiento una vez.\n",
        "*   **`validation_data`**: Un subconjunto de datos (comúnmente el conjunto de test o una parte de este) utilizado para evaluar el modelo periódicamente durante el entrenamiento. Es crucial porque permite monitorear el desempeño del modelo en datos *no vistos* y ayuda a detectar el **overfitting**.\n",
        "*   **Overfitting (Sobreajuste)**: Fenómeno en el cual un modelo aprende los datos de entrenamiento con excesiva precisión, incluso memorizando el ruido o las particularidades de ese conjunto específico, lo que resulta en un pobre desempeño con datos nuevos e invisibles (baja capacidad de generalización)."
      ],
      "metadata": {
        "id": "glossary-content"
      }
    }
  ]
}