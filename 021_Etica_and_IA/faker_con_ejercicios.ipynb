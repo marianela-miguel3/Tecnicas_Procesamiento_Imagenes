{
  "nbformat": 4,
  "nbformat_minor": 0,
  "metadata": {
    "colab": {
      "provenance": []
    },
    "kernelspec": {
      "name": "python3",
      "display_name": "Python 3"
    },
    "language_info": {
      "name": "python"
    }
  },
  "cells": [
    {
      "cell_type": "markdown",
      "metadata": {
        "id": "60b413d1"
      },
      "source": [
        "# Guía Práctica para la Gobernanza de la IA y el Combate al Sesgo Algorítmico 🛡️\n",
        "\n",
        "En esta guía práctica, vamos a **probar** los conceptos clave que exploramos en clase sobre la **Gobernanza de la IA**, el insidioso **sesgo algorítmico** y la **importancia fundamental de los datos y su metadata**.\n",
        "\n",
        "Prepárate para **ejecutar este código** y sumergirte en el proceso:\n",
        "*   Verás cómo se **generan datos sintéticos** (¡incluso introduciremos un sesgo intencional para aprender de forma práctica!).\n",
        "*   Descubrirás la vital importancia de **documentar todo con metadata**.\n",
        "\n",
        "Entender y aplicar estos conceptos es **clave** para construir proyectos de IA que sean verdaderamente **justos, transparentes y responsables**.\n",
        "\n",
        "**Hilo Conductor:** \"Sesgos Algorítmicos: ¿Cómo los detectamos y combatimos desde la base? La Gobernanza de la IA empieza en los datos.\""
      ]
    },
    {
      "cell_type": "code",
      "execution_count": 1,
      "metadata": {
        "colab": {
          "base_uri": "https://localhost:8080/"
        },
        "id": "jgAX64vpU6dC",
        "outputId": "974fc228-4e1f-449c-fe3c-65e87c78a0ab"
      },
      "outputs": [
        {
          "output_type": "stream",
          "name": "stdout",
          "text": [
            "Collecting Faker\n",
            "  Downloading faker-37.4.0-py3-none-any.whl.metadata (15 kB)\n",
            "Requirement already satisfied: pandas in /usr/local/lib/python3.11/dist-packages (2.2.2)\n",
            "Requirement already satisfied: tzdata in /usr/local/lib/python3.11/dist-packages (from Faker) (2025.2)\n",
            "Requirement already satisfied: numpy>=1.23.2 in /usr/local/lib/python3.11/dist-packages (from pandas) (2.0.2)\n",
            "Requirement already satisfied: python-dateutil>=2.8.2 in /usr/local/lib/python3.11/dist-packages (from pandas) (2.9.0.post0)\n",
            "Requirement already satisfied: pytz>=2020.1 in /usr/local/lib/python3.11/dist-packages (from pandas) (2025.2)\n",
            "Requirement already satisfied: six>=1.5 in /usr/local/lib/python3.11/dist-packages (from python-dateutil>=2.8.2->pandas) (1.17.0)\n",
            "Downloading faker-37.4.0-py3-none-any.whl (1.9 MB)\n",
            "\u001b[2K   \u001b[90m━━━━━━━━━━━━━━━━━━━━━━━━━━━━━━━━━━━━━━━━\u001b[0m \u001b[32m1.9/1.9 MB\u001b[0m \u001b[31m26.1 MB/s\u001b[0m eta \u001b[36m0:00:00\u001b[0m\n",
            "\u001b[?25hInstalling collected packages: Faker\n",
            "Successfully installed Faker-37.4.0\n",
            "Librerías instaladas correctamente. ¡Listos para empezar!\n"
          ]
        }
      ],
      "source": [
        "# Paso 1: Instalamos las librerías necesarias\n",
        "# Si no las tenés instaladas en tu entorno de Colab, este comando las instala.\n",
        "\n",
        "!pip install Faker pandas\n",
        "\n",
        "print(\"Librerías instaladas correctamente. ¡Listos para empezar!\")"
      ]
    },
    {
      "cell_type": "code",
      "source": [
        "# Paso 2: Importamos lo que vamos a usar\n",
        "# Faker: Para generar datos falsos (sintéticos) pero con aspecto real.\n",
        "# pandas: Para manejar los datos en un formato de tabla (DataFrame).\n",
        "# json: Para trabajar con la metadata en formato JSON, que es un estándar para intercambiar información.\n",
        "\n",
        "from faker import Faker\n",
        "import pandas as pd\n",
        "import random\n",
        "import json\n",
        "import datetime\n",
        "\n",
        "print(\"Librerías importadas.\")"
      ],
      "metadata": {
        "colab": {
          "base_uri": "https://localhost:8080/"
        },
        "id": "p-lCu4OAVLC3",
        "outputId": "f5c826d4-d7ce-45db-8fcc-3ae62b19327e"
      },
      "execution_count": 2,
      "outputs": [
        {
          "output_type": "stream",
          "name": "stdout",
          "text": [
            "Librerías importadas.\n"
          ]
        }
      ]
    },
    {
      "cell_type": "code",
      "source": [
        "# Paso 3: Inicializamos Faker\n",
        "# Acá le decimos a Faker que genere datos con estilo argentino (es_AR).\n",
        "# Esto es genial para que los ejemplos se sientan más cercanos.\n",
        "\n",
        "fake = Faker('es_AR')\n",
        "\n",
        "print(f\"Faker inicializado con locale '{fake.locale}'.\")"
      ],
      "metadata": {
        "colab": {
          "base_uri": "https://localhost:8080/"
        },
        "id": "M9BLA46jVS-g",
        "outputId": "a1668e3d-6de2-4a1d-811a-c5ab9a397232"
      },
      "execution_count": 3,
      "outputs": [
        {
          "output_type": "stream",
          "name": "stdout",
          "text": [
            "Faker inicializado con locale '<bound method BaseProvider.locale of <faker.providers.user_agent.Provider object at 0x7c039b79dad0>>'.\n"
          ]
        }
      ]
    },
    {
      "cell_type": "markdown",
      "metadata": {
        "id": "8c9673ae"
      },
      "source": [
        "# Módulo 1: Generación de Datos Sintéticos con Sesgo Intencional\n",
        "\n",
        "Acá vamos a crear un dataset sintético de \"empleados\".\n",
        "¿Te acordás el caso de Amazon y el sesgo en la contratación?\n",
        "\n",
        "Para que veas cómo se cuela un sesgo en los datos, vamos a introducir uno intencionalmente en el campo `genero_reportado`. Vamos a hacer que haya un 70% de hombres y un 30% de mujeres para esta demo.\n",
        "\n",
        "*   Esto simula un \"sesgo de proporción\" o \"sesgo histórico\" que podríamos encontrar en datos reales si, por ejemplo, una empresa históricamente contrató más hombres para ciertos roles."
      ]
    },
    {
      "cell_type": "code",
      "source": [
        "num_records = 50 # Un buen número para la demo\n",
        "\n",
        "data_empleados = []\n",
        "roles_disponibles = ['Desarrollador', 'Gerente de Proyectos', 'Analista de Datos', 'Diseñador UX', 'Especialista de RRHH', 'Contador', 'Asistente Administrativo']\n",
        "departamentos_disponibles = ['IT', 'Ventas', 'Marketing', 'Finanzas', 'RRHH', 'Operaciones']\n",
        "\n",
        "# Definimos una distribución sesgada para el género: 70% Masculino, 30% Femenino\n",
        "# Esto se hace repitiendo 'Masculino' 7 veces y 'Femenino' 3 veces en la lista.\n",
        "generos_con_sesgo = ['Masculino'] * 7 + ['Femenino'] * 3\n",
        "\n",
        "print(f\"Generando {num_records} registros de empleados. Atento al sesgo de género intencional.\")"
      ],
      "metadata": {
        "colab": {
          "base_uri": "https://localhost:8080/"
        },
        "id": "e9FdGuqQV0yR",
        "outputId": "71307987-66b3-4949-ac13-7edb37310df7"
      },
      "execution_count": 4,
      "outputs": [
        {
          "output_type": "stream",
          "name": "stdout",
          "text": [
            "Generando 50 registros de empleados. Atento al sesgo de género intencional.\n"
          ]
        }
      ]
    },
    {
      "cell_type": "code",
      "source": [
        "for i in range(num_records):\n",
        "    # Elegimos el género según nuestra distribución sesgada\n",
        "    genero_elegido = random.choice(generos_con_sesgo)\n",
        "\n",
        "    # Asignamos el nombre según el género\n",
        "    if genero_elegido == 'Masculino':\n",
        "        nombre = fake.first_name_male()\n",
        "    elif genero_elegido == 'Femenino':\n",
        "        nombre = fake.first_name_female()\n",
        "    else: # Por si agregamos más géneros en el futuro\n",
        "        nombre = fake.first_name()\n",
        "\n",
        "    data_empleados.append({\n",
        "        'id_empleado': fake.unique.uuid4(), # ID único\n",
        "        'nombre': nombre,\n",
        "        'apellido': fake.last_name(),\n",
        "        'genero_reportado': genero_elegido, # Campo con el sesgo\n",
        "        'rol': random.choice(roles_disponibles),\n",
        "        'salario': round(random.uniform(70000, 250000), 2), # Salarios aleatorios\n",
        "        'departamento': random.choice(departamentos_disponibles),\n",
        "        'fecha_contratacion': fake.date_this_decade() # Fecha dentro de los últimos 10 años\n",
        "    })\n",
        "\n",
        "# Convertimos la lista de diccionarios a un DataFrame de Pandas para un manejo más fácil\n",
        "df_empleados = pd.DataFrame(data_empleados)\n",
        "\n",
        "print(\"\\n--- Dataset Sintético de Empleados Generado ---\")"
      ],
      "metadata": {
        "colab": {
          "base_uri": "https://localhost:8080/"
        },
        "id": "qTBY-lZFV5Vm",
        "outputId": "37ab8907-d257-4918-bbda-5699c87552a1"
      },
      "execution_count": 5,
      "outputs": [
        {
          "output_type": "stream",
          "name": "stdout",
          "text": [
            "\n",
            "--- Dataset Sintético de Empleados Generado ---\n"
          ]
        }
      ]
    },
    {
      "cell_type": "code",
      "source": [
        "# Mostramos las primeras filas para que vean cómo quedó\n",
        "print(df_empleados.head())\n",
        "\n",
        "print(\"\\n--- Distribución del Género Reportado (¡Atento al Sesgo!) ---\")\n",
        "# Contamos cuántos registros hay de cada género para confirmar el sesgo\n",
        "print(df_empleados['genero_reportado'].value_counts())\n",
        "\n",
        "print(\"\\nFijate que el campo 'genero_reportado' muestra un desbalance. Esto es un SESGO DE PROPORCIÓN, similar al que pudo haber existido en los datos de Amazon.\")"
      ],
      "metadata": {
        "colab": {
          "base_uri": "https://localhost:8080/"
        },
        "id": "QMLf6u6XV8qo",
        "outputId": "57e70a5a-dcd5-4960-ac46-923c35218cd2"
      },
      "execution_count": 6,
      "outputs": [
        {
          "output_type": "stream",
          "name": "stdout",
          "text": [
            "                            id_empleado        nombre  apellido  \\\n",
            "0  94bd6198-a360-41fb-9277-88b03cc6cf63      Santiago  Gonzalez   \n",
            "1  e4d1847a-e161-4aef-b154-1c80460c94d4        Milena    Franco   \n",
            "2  3414c934-843c-4e44-9c24-99f25eacc708  Miguel Angel      Paez   \n",
            "3  083e5204-67a0-482e-859c-d0b97b4198df       Santino     Perez   \n",
            "4  4c2f36e1-4950-4c37-8090-d22743371c62      Milagros    Flores   \n",
            "\n",
            "  genero_reportado                       rol    salario departamento  \\\n",
            "0        Masculino                  Contador  224517.05     Finanzas   \n",
            "1         Femenino                  Contador  220103.56       Ventas   \n",
            "2        Masculino  Asistente Administrativo  140563.31  Operaciones   \n",
            "3        Masculino  Asistente Administrativo  237793.66     Finanzas   \n",
            "4         Femenino         Analista de Datos  245027.94       Ventas   \n",
            "\n",
            "  fecha_contratacion  \n",
            "0         2020-11-02  \n",
            "1         2020-04-03  \n",
            "2         2023-02-22  \n",
            "3         2024-04-26  \n",
            "4         2023-10-27  \n",
            "\n",
            "--- Distribución del Género Reportado (¡Atento al Sesgo!) ---\n",
            "genero_reportado\n",
            "Masculino    33\n",
            "Femenino     17\n",
            "Name: count, dtype: int64\n",
            "\n",
            "Fijate que el campo 'genero_reportado' muestra un desbalance. Esto es un SESGO DE PROPORCIÓN, similar al que pudo haber existido en los datos de Amazon.\n"
          ]
        }
      ]
    },
    {
      "cell_type": "markdown",
      "metadata": {
        "id": "ca98322a"
      },
      "source": [
        "# Módulo 2: Creación de Metadata para Nuestro Dataset\n",
        "\n",
        "Ahora que tenemos nuestro dataset sintético, vamos a crear su metadata.\n",
        "La metadata es el \"ADN\" del dataset. Nos dice todo sobre él: de dónde viene, qué contiene, ¡y crucialmente, qué sesgos conocidos tiene!\n",
        "Sin metadata, es como tener una caja llena de cosas sin etiqueta: no sabés qué hay ni si es seguro usarlo.\n",
        "Esta metadata es clave para la GOBERNANZA:\n",
        "\n",
        "*   **Transparencia:** Cualquier persona puede entender el dataset.\n",
        "*   **Trazabilidad:** Saber el origen y las transformaciones.\n",
        "*   **Detección de Sesgos:** Documentar explícitamente los sesgos conocidos (¡como el que acabamos de crear!).\n",
        "*   **Rendición de Cuentas:** Si hay un problema, podemos rastrear la fuente."
      ]
    },
    {
      "cell_type": "code",
      "source": [
        "metadata_empleados = {\n",
        "    \"nombre_dataset\": \"empleados_sinteticos_demo_sesgo_genero\",\n",
        "    \"descripcion\": \"Dataset de perfiles de empleados generado sintéticamente para fines educativos y demostración de sesgo algorítmico. NO CONTIENE DATOS REALES.\",\n",
        "    \"fuente_datos\": {\n",
        "        \"tipo\": \"Sintético\",\n",
        "        \"herramienta\": \"Faker vX.Y.Z (reemplazar X.Y.Z por la versión usada)\",\n",
        "        \"locale_faker\": \"es_AR\",\n",
        "        \"metodo_generacion\": \"Generación aleatoria de campos con distribución de género ajustada intencionalmente (70% Masculino / 30% Femenino).\"\n",
        "    },\n",
        "    \"fecha_creacion\": datetime.datetime.now().strftime(\"%Y-%m-%d %H:%M:%S\"),\n",
        "    \"ultima_modificacion\": datetime.datetime.now().strftime(\"%Y-%m-%d %H:%M:%S\"),\n",
        "    \"version\": \"1.0\",\n",
        "    \"licencia_uso\": \"Solo para fines educativos, investigación y desarrollo interno. NO para uso productivo o comercial. No usar para inferir patrones reales de empleo.\"\n",
        "}"
      ],
      "metadata": {
        "id": "9OfVSJCaWfNJ"
      },
      "execution_count": 7,
      "outputs": []
    },
    {
      "cell_type": "code",
      "source": [
        "metadata_empleados[\"columnas\"] = [\n",
        "    {\n",
        "        \"nombre\": \"id_empleado\",\n",
        "        \"tipo\": \"string (UUID)\",\n",
        "        \"descripcion\": \"Identificador único de cada empleado. Generado aleatoriamente.\",\n",
        "        \"sensibilidad\": \"Baja (sintético, no real)\",\n",
        "        \"ejemplo_valor\": df_empleados['id_empleado'].iloc[0]\n",
        "    },\n",
        "    {\n",
        "        \"nombre\": \"nombre\",\n",
        "        \"tipo\": \"string\",\n",
        "        \"descripcion\": \"Nombre de pila del empleado. Generado aleatoriamente según el género asignado.\",\n",
        "        \"sensibilidad\": \"Baja (sintético, no real)\",\n",
        "        \"ejemplo_valor\": df_empleados['nombre'].iloc[0]\n",
        "    },\n",
        "    {\n",
        "        \"nombre\": \"apellido\",\n",
        "        \"tipo\": \"string\",\n",
        "        \"descripcion\": \"Apellido del empleado. Generado aleatoriamente.\",\n",
        "        \"sensibilidad\": \"Baja (sintético, no real)\",\n",
        "        \"ejemplo_valor\": df_empleados['apellido'].iloc[0]\n",
        "    },\n",
        "    {\n",
        "        \"nombre\": \"genero_reportado\",\n",
        "        \"tipo\": \"string\",\n",
        "        \"descripcion\": \"Género autodeclarado del empleado. Campo con sesgo intencional para demostración.\",\n",
        "        \"sensibilidad\": \"Media (si fuera real, sería un dato personal sensible)\",\n",
        "        \"procesamiento\": \"Seleccionado aleatoriamente de ['Masculino', 'Femenino'] con probabilidad de 70% y 30% respectivamente.\",\n",
        "        \"distribucion_observada\": df_empleados['genero_reportado'].value_counts().to_dict(),\n",
        "        \"advertencia_sesgo_campo\": \"Este campo introduce un sesgo de género en el dataset. Si se usa para entrenamiento de modelos, el modelo podría aprender a favorecer implícitamente al grupo mayoritario ('Masculino').\"\n",
        "    }\n",
        "]"
      ],
      "metadata": {
        "id": "NVIVLdm5WiOR"
      },
      "execution_count": 8,
      "outputs": []
    },
    {
      "cell_type": "code",
      "source": [
        "# Continuamos con el resto de columnas\n",
        "metadata_empleados[\"columnas\"].extend([\n",
        "    {\n",
        "        \"nombre\": \"rol\",\n",
        "        \"tipo\": \"string\",\n",
        "        \"descripcion\": \"Rol laboral del empleado en la empresa.\",\n",
        "        \"sensibilidad\": \"Baja\",\n",
        "        \"ejemplo_valor\": df_empleados['rol'].iloc[0]\n",
        "    },\n",
        "    {\n",
        "        \"nombre\": \"salario\",\n",
        "        \"tipo\": \"float\",\n",
        "        \"descripcion\": \"Salario anual del empleado en moneda local.\",\n",
        "        \"sensibilidad\": \"Media (si fuera real, dato personal)\",\n",
        "        \"ejemplo_valor\": df_empleados['salario'].iloc[0]\n",
        "    },\n",
        "    {\n",
        "        \"nombre\": \"departamento\",\n",
        "        \"tipo\": \"string\",\n",
        "        \"descripcion\": \"Departamento al que pertenece el empleado.\",\n",
        "        \"sensibilidad\": \"Baja\",\n",
        "        \"ejemplo_valor\": df_empleados['departamento'].iloc[0]\n",
        "    },\n",
        "    {\n",
        "        \"nombre\": \"fecha_contratacion\",\n",
        "        \"tipo\": \"date\",\n",
        "        \"descripcion\": \"Fecha en que el empleado fue contratado.\",\n",
        "        \"sensibilidad\": \"Baja\",\n",
        "        \"ejemplo_valor\": str(df_empleados['fecha_contratacion'].iloc[0])\n",
        "    }\n",
        "])"
      ],
      "metadata": {
        "id": "KAQ9GzYuWlLi"
      },
      "execution_count": 9,
      "outputs": []
    },
    {
      "cell_type": "code",
      "source": [
        "# Agregamos la información crítica sobre sesgos conocidos\n",
        "metadata_empleados[\"sesgos_conocidos_dataset\"] = [\n",
        "    {\n",
        "        \"tipo_sesgo\": \"Sesgo de Proporción / Desbalance de Clase\",\n",
        "        \"campo_afectado\": \"genero_reportado\",\n",
        "        \"descripcion\": \"La distribución de género en este dataset está *intencionalmente desbalanceada* (aproximadamente 70% hombres, 30% mujeres) para fines de demostración. Esto simula cómo un sesgo histórico o de muestreo en datos reales podría influir en un modelo.\",\n",
        "        \"impacto_potencial\": \"Un modelo de aprendizaje automático (ej. para contratación, desempeño o promoción) entrenado con este dataset podría desarrollar sesgos de predicción o clasificación que favorezcan al grupo mayoritario ('Masculino'), perpetuando la discriminación.\"\n",
        "    }\n",
        "]\n",
        "\n",
        "metadata_empleados[\"acciones_mitigacion_sugeridas\"] = \"Si este fuera un dataset real y se fuera a usar para un modelo de impacto, se requeriría aplicar técnicas de balanceo de clases (oversampling, undersampling), ajustar pesos en el modelo o usar algoritmos conscientes de equidad (como los explorados por IBM AI Fairness 360 o Fairlearn de Microsoft) antes de entrenar un modelo.\"\n",
        "\n",
        "metadata_empleados[\"limitaciones_uso\"] = \"Este dataset *no* es representativo de la población laboral real y debe ser usado con extrema precaución. Su propósito es *demostrar* conceptos de sesgo y metadata, no para inferir patrones reales o para uso en sistemas productivos sin una validación exhaustiva.\""
      ],
      "metadata": {
        "id": "rIvocW5sWoKE"
      },
      "execution_count": 10,
      "outputs": []
    },
    {
      "cell_type": "code",
      "source": [
        "# Imprimimos la metadata en un formato legible (JSON indentado)\n",
        "print(\"\\n--- Metadata Generada para el Dataset Sintético ---\")\n",
        "print(json.dumps(metadata_empleados, indent=4, ensure_ascii=False))\n",
        "\n",
        "print(\"\\n--- ¡Fijate bien en la sección 'sesgos_conocidos_dataset' de la metadata! ---\")\n",
        "print(\"Ahí es donde documentamos el sesgo que introdujimos. Esto es CRÍTICO para la transparencia.\")"
      ],
      "metadata": {
        "colab": {
          "base_uri": "https://localhost:8080/"
        },
        "id": "7CkWMk85WrbQ",
        "outputId": "1391c1a9-d29f-49b6-9380-2e216b0b58a3"
      },
      "execution_count": 11,
      "outputs": [
        {
          "output_type": "stream",
          "name": "stdout",
          "text": [
            "\n",
            "--- Metadata Generada para el Dataset Sintético ---\n",
            "{\n",
            "    \"nombre_dataset\": \"empleados_sinteticos_demo_sesgo_genero\",\n",
            "    \"descripcion\": \"Dataset de perfiles de empleados generado sintéticamente para fines educativos y demostración de sesgo algorítmico. NO CONTIENE DATOS REALES.\",\n",
            "    \"fuente_datos\": {\n",
            "        \"tipo\": \"Sintético\",\n",
            "        \"herramienta\": \"Faker vX.Y.Z (reemplazar X.Y.Z por la versión usada)\",\n",
            "        \"locale_faker\": \"es_AR\",\n",
            "        \"metodo_generacion\": \"Generación aleatoria de campos con distribución de género ajustada intencionalmente (70% Masculino / 30% Femenino).\"\n",
            "    },\n",
            "    \"fecha_creacion\": \"2025-06-26 07:54:37\",\n",
            "    \"ultima_modificacion\": \"2025-06-26 07:54:37\",\n",
            "    \"version\": \"1.0\",\n",
            "    \"licencia_uso\": \"Solo para fines educativos, investigación y desarrollo interno. NO para uso productivo o comercial. No usar para inferir patrones reales de empleo.\",\n",
            "    \"columnas\": [\n",
            "        {\n",
            "            \"nombre\": \"id_empleado\",\n",
            "            \"tipo\": \"string (UUID)\",\n",
            "            \"descripcion\": \"Identificador único de cada empleado. Generado aleatoriamente.\",\n",
            "            \"sensibilidad\": \"Baja (sintético, no real)\",\n",
            "            \"ejemplo_valor\": \"94bd6198-a360-41fb-9277-88b03cc6cf63\"\n",
            "        },\n",
            "        {\n",
            "            \"nombre\": \"nombre\",\n",
            "            \"tipo\": \"string\",\n",
            "            \"descripcion\": \"Nombre de pila del empleado. Generado aleatoriamente según el género asignado.\",\n",
            "            \"sensibilidad\": \"Baja (sintético, no real)\",\n",
            "            \"ejemplo_valor\": \"Santiago\"\n",
            "        },\n",
            "        {\n",
            "            \"nombre\": \"apellido\",\n",
            "            \"tipo\": \"string\",\n",
            "            \"descripcion\": \"Apellido del empleado. Generado aleatoriamente.\",\n",
            "            \"sensibilidad\": \"Baja (sintético, no real)\",\n",
            "            \"ejemplo_valor\": \"Gonzalez\"\n",
            "        },\n",
            "        {\n",
            "            \"nombre\": \"genero_reportado\",\n",
            "            \"tipo\": \"string\",\n",
            "            \"descripcion\": \"Género autodeclarado del empleado. Campo con sesgo intencional para demostración.\",\n",
            "            \"sensibilidad\": \"Media (si fuera real, sería un dato personal sensible)\",\n",
            "            \"procesamiento\": \"Seleccionado aleatoriamente de ['Masculino', 'Femenino'] con probabilidad de 70% y 30% respectivamente.\",\n",
            "            \"distribucion_observada\": {\n",
            "                \"Masculino\": 33,\n",
            "                \"Femenino\": 17\n",
            "            },\n",
            "            \"advertencia_sesgo_campo\": \"Este campo introduce un sesgo de género en el dataset. Si se usa para entrenamiento de modelos, el modelo podría aprender a favorecer implícitamente al grupo mayoritario ('Masculino').\"\n",
            "        },\n",
            "        {\n",
            "            \"nombre\": \"rol\",\n",
            "            \"tipo\": \"string\",\n",
            "            \"descripcion\": \"Rol laboral del empleado en la empresa.\",\n",
            "            \"sensibilidad\": \"Baja\",\n",
            "            \"ejemplo_valor\": \"Contador\"\n",
            "        },\n",
            "        {\n",
            "            \"nombre\": \"salario\",\n",
            "            \"tipo\": \"float\",\n",
            "            \"descripcion\": \"Salario anual del empleado en moneda local.\",\n",
            "            \"sensibilidad\": \"Media (si fuera real, dato personal)\",\n",
            "            \"ejemplo_valor\": 224517.05\n",
            "        },\n",
            "        {\n",
            "            \"nombre\": \"departamento\",\n",
            "            \"tipo\": \"string\",\n",
            "            \"descripcion\": \"Departamento al que pertenece el empleado.\",\n",
            "            \"sensibilidad\": \"Baja\",\n",
            "            \"ejemplo_valor\": \"Finanzas\"\n",
            "        },\n",
            "        {\n",
            "            \"nombre\": \"fecha_contratacion\",\n",
            "            \"tipo\": \"date\",\n",
            "            \"descripcion\": \"Fecha en que el empleado fue contratado.\",\n",
            "            \"sensibilidad\": \"Baja\",\n",
            "            \"ejemplo_valor\": \"2020-11-02\"\n",
            "        }\n",
            "    ],\n",
            "    \"sesgos_conocidos_dataset\": [\n",
            "        {\n",
            "            \"tipo_sesgo\": \"Sesgo de Proporción / Desbalance de Clase\",\n",
            "            \"campo_afectado\": \"genero_reportado\",\n",
            "            \"descripcion\": \"La distribución de género en este dataset está *intencionalmente desbalanceada* (aproximadamente 70% hombres, 30% mujeres) para fines de demostración. Esto simula cómo un sesgo histórico o de muestreo en datos reales podría influir en un modelo.\",\n",
            "            \"impacto_potencial\": \"Un modelo de aprendizaje automático (ej. para contratación, desempeño o promoción) entrenado con este dataset podría desarrollar sesgos de predicción o clasificación que favorezcan al grupo mayoritario ('Masculino'), perpetuando la discriminación.\"\n",
            "        }\n",
            "    ],\n",
            "    \"acciones_mitigacion_sugeridas\": \"Si este fuera un dataset real y se fuera a usar para un modelo de impacto, se requeriría aplicar técnicas de balanceo de clases (oversampling, undersampling), ajustar pesos en el modelo o usar algoritmos conscientes de equidad (como los explorados por IBM AI Fairness 360 o Fairlearn de Microsoft) antes de entrenar un modelo.\",\n",
            "    \"limitaciones_uso\": \"Este dataset *no* es representativo de la población laboral real y debe ser usado con extrema precaución. Su propósito es *demostrar* conceptos de sesgo y metadata, no para inferir patrones reales o para uso en sistemas productivos sin una validación exhaustiva.\"\n",
            "}\n",
            "\n",
            "--- ¡Fijate bien en la sección 'sesgos_conocidos_dataset' de la metadata! ---\n",
            "Ahí es donde documentamos el sesgo que introdujimos. Esto es CRÍTICO para la transparencia.\n"
          ]
        }
      ]
    },
    {
      "cell_type": "markdown",
      "metadata": {
        "id": "a5f45457"
      },
      "source": [
        "# Módulo 3: Conexión con la Gobernanza y el Combate al Sesgo\n",
        "\n",
        "¿Cómo se relaciona todo esto con la Gobernanza de la IA y el caso Amazon?\n",
        "\n",
        "1.  **El Problema de Amazon:**\n",
        "    Si Amazon hubiera tenido una Gobernanza de Datos robusta, habrían exigido metadata detallada para sus datos históricos de contratación. Esa metadata, como la que acabamos de crear, habría revelado el desbalance de género en sus datos.\n",
        "\n",
        "2.  **La Metadata como \"Alerta Temprana\":**\n",
        "    Al ver esa \"advertencia de sesgo\" en la metadata, el equipo habría podido:\n",
        "    *   Auditar los datos con herramientas especializadas (¡como las que vimos de IBM!).\n",
        "    *   Remediar el dataset (ej. balancearlo, si fuera posible, o ajustar técnicas de modelado).\n",
        "    *   Aplicar algoritmos conscientes de equidad.\n",
        "\n",
        "3.  **La Gobernanza es Prevención:**\n",
        "    Esto demuestra que la Gobernanza de la IA, a través de prácticas como la creación rigurosa de metadata y la trazabilidad, es una herramienta PREVENTIVA. Te permite \"diagnosticar\" problemas en tus datos antes de que se traduzcan en sesgos en tu modelo y causen daños en el mundo real.\n",
        "\n",
        "4.  **Tu Rol Fundamental:**\n",
        "    Como futuro profesional de la IA, tenés la capacidad de influir directamente. Cada decisión que tomes, desde cómo elegís tus datos, cómo los generás (si son sintéticos) y cómo documentás esa información con metadata, tiene un impacto ético."
      ]
    },
    {
      "cell_type": "markdown",
      "metadata": {
        "id": "3649438c"
      },
      "source": [
        "# Ejercicios Adicionales para Explorar\n",
        "\n",
        "*   Cambiá la distribución de género para que sea 50/50 y observá cómo cambia la metadata.\n",
        "*   Agregá otro tipo de sesgo, por ejemplo en los salarios según el género.\n",
        "*   Experimentá con otros campos como edad, experiencia laboral, etc.\n",
        "*   Investigá herramientas de detección de sesgo como IBM AI Fairness 360 o Fairlearn de Microsoft.\n",
        "*   Creá tu propia metadata para un dataset que uses en otro proyecto."
      ]
    },
    {
      "cell_type": "markdown",
      "source": [
        "🔹 Bloque 1: Distribución 50/50 de género"
      ],
      "metadata": {
        "id": "BtxcTKBmQNEE"
      }
    },
    {
      "cell_type": "code",
      "source": [
        "from faker import Faker\n",
        "import random\n",
        "import pandas as pd\n",
        "\n",
        "fake = Faker()\n",
        "\n",
        "num_registros = 100\n",
        "nombres = []\n",
        "generos = []\n",
        "\n",
        "for _ in range(num_registros // 2):\n",
        "    nombres.append(fake.name_male())\n",
        "    generos.append(\"Masculino\")\n",
        "for _ in range(num_registros // 2):\n",
        "    nombres.append(fake.name_female())\n",
        "    generos.append(\"Femenino\")\n",
        "\n",
        "combined = list(zip(nombres, generos))\n",
        "random.shuffle(combined)\n",
        "nombres, generos = zip(*combined)\n",
        "\n",
        "df = pd.DataFrame({\n",
        "    \"Nombre\": nombres,\n",
        "    \"Género\": generos\n",
        "})\n"
      ],
      "metadata": {
        "id": "g1ajNcENQEUe"
      },
      "execution_count": 13,
      "outputs": []
    },
    {
      "cell_type": "markdown",
      "source": [
        "🔹 Bloque 2: Salarios con sesgo por género"
      ],
      "metadata": {
        "id": "l0euan7cQPUE"
      }
    },
    {
      "cell_type": "code",
      "source": [
        "salarios = []\n",
        "for genero in generos:\n",
        "    if genero == \"Masculino\":\n",
        "        salario = random.randint(60000, 90000)\n",
        "    else:\n",
        "        salario = random.randint(40000, 70000)\n",
        "    salarios.append(salario)\n",
        "\n",
        "df[\"Salario\"] = salarios\n"
      ],
      "metadata": {
        "id": "LSsYqdJGQRqd"
      },
      "execution_count": 14,
      "outputs": []
    },
    {
      "cell_type": "code",
      "source": [
        "df.head(10)"
      ],
      "metadata": {
        "colab": {
          "base_uri": "https://localhost:8080/",
          "height": 363
        },
        "id": "7kxgBrpKQkSb",
        "outputId": "4739ae68-749d-476a-f30a-e1c66e587f03"
      },
      "execution_count": 17,
      "outputs": [
        {
          "output_type": "execute_result",
          "data": {
            "text/plain": [
              "                  Nombre     Género  Salario  Edad  Experiencia\n",
              "0        Joan Washington   Femenino    65645    46           23\n",
              "1  Mr. Frank Stevens DVM  Masculino    68349    28            4\n",
              "2      Brenda Barrett MD   Femenino    62098    33            4\n",
              "3        Maurice Estrada  Masculino    81613    48           27\n",
              "4          Charles Green  Masculino    84284    34            5\n",
              "5         Patricia Davis   Femenino    67881    28            6\n",
              "6        Kimberly Garcia   Femenino    44699    22            0\n",
              "7       Christine Little   Femenino    63681    53            9\n",
              "8         Clinton Graves  Masculino    60731    47           16\n",
              "9        Joshua Williams  Masculino    75167    24            3"
            ],
            "text/html": [
              "\n",
              "  <div id=\"df-f0c939c3-216b-4184-9d63-e3e3593580b0\" class=\"colab-df-container\">\n",
              "    <div>\n",
              "<style scoped>\n",
              "    .dataframe tbody tr th:only-of-type {\n",
              "        vertical-align: middle;\n",
              "    }\n",
              "\n",
              "    .dataframe tbody tr th {\n",
              "        vertical-align: top;\n",
              "    }\n",
              "\n",
              "    .dataframe thead th {\n",
              "        text-align: right;\n",
              "    }\n",
              "</style>\n",
              "<table border=\"1\" class=\"dataframe\">\n",
              "  <thead>\n",
              "    <tr style=\"text-align: right;\">\n",
              "      <th></th>\n",
              "      <th>Nombre</th>\n",
              "      <th>Género</th>\n",
              "      <th>Salario</th>\n",
              "      <th>Edad</th>\n",
              "      <th>Experiencia</th>\n",
              "    </tr>\n",
              "  </thead>\n",
              "  <tbody>\n",
              "    <tr>\n",
              "      <th>0</th>\n",
              "      <td>Joan Washington</td>\n",
              "      <td>Femenino</td>\n",
              "      <td>65645</td>\n",
              "      <td>46</td>\n",
              "      <td>23</td>\n",
              "    </tr>\n",
              "    <tr>\n",
              "      <th>1</th>\n",
              "      <td>Mr. Frank Stevens DVM</td>\n",
              "      <td>Masculino</td>\n",
              "      <td>68349</td>\n",
              "      <td>28</td>\n",
              "      <td>4</td>\n",
              "    </tr>\n",
              "    <tr>\n",
              "      <th>2</th>\n",
              "      <td>Brenda Barrett MD</td>\n",
              "      <td>Femenino</td>\n",
              "      <td>62098</td>\n",
              "      <td>33</td>\n",
              "      <td>4</td>\n",
              "    </tr>\n",
              "    <tr>\n",
              "      <th>3</th>\n",
              "      <td>Maurice Estrada</td>\n",
              "      <td>Masculino</td>\n",
              "      <td>81613</td>\n",
              "      <td>48</td>\n",
              "      <td>27</td>\n",
              "    </tr>\n",
              "    <tr>\n",
              "      <th>4</th>\n",
              "      <td>Charles Green</td>\n",
              "      <td>Masculino</td>\n",
              "      <td>84284</td>\n",
              "      <td>34</td>\n",
              "      <td>5</td>\n",
              "    </tr>\n",
              "    <tr>\n",
              "      <th>5</th>\n",
              "      <td>Patricia Davis</td>\n",
              "      <td>Femenino</td>\n",
              "      <td>67881</td>\n",
              "      <td>28</td>\n",
              "      <td>6</td>\n",
              "    </tr>\n",
              "    <tr>\n",
              "      <th>6</th>\n",
              "      <td>Kimberly Garcia</td>\n",
              "      <td>Femenino</td>\n",
              "      <td>44699</td>\n",
              "      <td>22</td>\n",
              "      <td>0</td>\n",
              "    </tr>\n",
              "    <tr>\n",
              "      <th>7</th>\n",
              "      <td>Christine Little</td>\n",
              "      <td>Femenino</td>\n",
              "      <td>63681</td>\n",
              "      <td>53</td>\n",
              "      <td>9</td>\n",
              "    </tr>\n",
              "    <tr>\n",
              "      <th>8</th>\n",
              "      <td>Clinton Graves</td>\n",
              "      <td>Masculino</td>\n",
              "      <td>60731</td>\n",
              "      <td>47</td>\n",
              "      <td>16</td>\n",
              "    </tr>\n",
              "    <tr>\n",
              "      <th>9</th>\n",
              "      <td>Joshua Williams</td>\n",
              "      <td>Masculino</td>\n",
              "      <td>75167</td>\n",
              "      <td>24</td>\n",
              "      <td>3</td>\n",
              "    </tr>\n",
              "  </tbody>\n",
              "</table>\n",
              "</div>\n",
              "    <div class=\"colab-df-buttons\">\n",
              "\n",
              "  <div class=\"colab-df-container\">\n",
              "    <button class=\"colab-df-convert\" onclick=\"convertToInteractive('df-f0c939c3-216b-4184-9d63-e3e3593580b0')\"\n",
              "            title=\"Convert this dataframe to an interactive table.\"\n",
              "            style=\"display:none;\">\n",
              "\n",
              "  <svg xmlns=\"http://www.w3.org/2000/svg\" height=\"24px\" viewBox=\"0 -960 960 960\">\n",
              "    <path d=\"M120-120v-720h720v720H120Zm60-500h600v-160H180v160Zm220 220h160v-160H400v160Zm0 220h160v-160H400v160ZM180-400h160v-160H180v160Zm440 0h160v-160H620v160ZM180-180h160v-160H180v160Zm440 0h160v-160H620v160Z\"/>\n",
              "  </svg>\n",
              "    </button>\n",
              "\n",
              "  <style>\n",
              "    .colab-df-container {\n",
              "      display:flex;\n",
              "      gap: 12px;\n",
              "    }\n",
              "\n",
              "    .colab-df-convert {\n",
              "      background-color: #E8F0FE;\n",
              "      border: none;\n",
              "      border-radius: 50%;\n",
              "      cursor: pointer;\n",
              "      display: none;\n",
              "      fill: #1967D2;\n",
              "      height: 32px;\n",
              "      padding: 0 0 0 0;\n",
              "      width: 32px;\n",
              "    }\n",
              "\n",
              "    .colab-df-convert:hover {\n",
              "      background-color: #E2EBFA;\n",
              "      box-shadow: 0px 1px 2px rgba(60, 64, 67, 0.3), 0px 1px 3px 1px rgba(60, 64, 67, 0.15);\n",
              "      fill: #174EA6;\n",
              "    }\n",
              "\n",
              "    .colab-df-buttons div {\n",
              "      margin-bottom: 4px;\n",
              "    }\n",
              "\n",
              "    [theme=dark] .colab-df-convert {\n",
              "      background-color: #3B4455;\n",
              "      fill: #D2E3FC;\n",
              "    }\n",
              "\n",
              "    [theme=dark] .colab-df-convert:hover {\n",
              "      background-color: #434B5C;\n",
              "      box-shadow: 0px 1px 3px 1px rgba(0, 0, 0, 0.15);\n",
              "      filter: drop-shadow(0px 1px 2px rgba(0, 0, 0, 0.3));\n",
              "      fill: #FFFFFF;\n",
              "    }\n",
              "  </style>\n",
              "\n",
              "    <script>\n",
              "      const buttonEl =\n",
              "        document.querySelector('#df-f0c939c3-216b-4184-9d63-e3e3593580b0 button.colab-df-convert');\n",
              "      buttonEl.style.display =\n",
              "        google.colab.kernel.accessAllowed ? 'block' : 'none';\n",
              "\n",
              "      async function convertToInteractive(key) {\n",
              "        const element = document.querySelector('#df-f0c939c3-216b-4184-9d63-e3e3593580b0');\n",
              "        const dataTable =\n",
              "          await google.colab.kernel.invokeFunction('convertToInteractive',\n",
              "                                                    [key], {});\n",
              "        if (!dataTable) return;\n",
              "\n",
              "        const docLinkHtml = 'Like what you see? Visit the ' +\n",
              "          '<a target=\"_blank\" href=https://colab.research.google.com/notebooks/data_table.ipynb>data table notebook</a>'\n",
              "          + ' to learn more about interactive tables.';\n",
              "        element.innerHTML = '';\n",
              "        dataTable['output_type'] = 'display_data';\n",
              "        await google.colab.output.renderOutput(dataTable, element);\n",
              "        const docLink = document.createElement('div');\n",
              "        docLink.innerHTML = docLinkHtml;\n",
              "        element.appendChild(docLink);\n",
              "      }\n",
              "    </script>\n",
              "  </div>\n",
              "\n",
              "\n",
              "    <div id=\"df-b1d90b4c-0c5d-424a-b29f-15da1afc7a7f\">\n",
              "      <button class=\"colab-df-quickchart\" onclick=\"quickchart('df-b1d90b4c-0c5d-424a-b29f-15da1afc7a7f')\"\n",
              "                title=\"Suggest charts\"\n",
              "                style=\"display:none;\">\n",
              "\n",
              "<svg xmlns=\"http://www.w3.org/2000/svg\" height=\"24px\"viewBox=\"0 0 24 24\"\n",
              "     width=\"24px\">\n",
              "    <g>\n",
              "        <path d=\"M19 3H5c-1.1 0-2 .9-2 2v14c0 1.1.9 2 2 2h14c1.1 0 2-.9 2-2V5c0-1.1-.9-2-2-2zM9 17H7v-7h2v7zm4 0h-2V7h2v10zm4 0h-2v-4h2v4z\"/>\n",
              "    </g>\n",
              "</svg>\n",
              "      </button>\n",
              "\n",
              "<style>\n",
              "  .colab-df-quickchart {\n",
              "      --bg-color: #E8F0FE;\n",
              "      --fill-color: #1967D2;\n",
              "      --hover-bg-color: #E2EBFA;\n",
              "      --hover-fill-color: #174EA6;\n",
              "      --disabled-fill-color: #AAA;\n",
              "      --disabled-bg-color: #DDD;\n",
              "  }\n",
              "\n",
              "  [theme=dark] .colab-df-quickchart {\n",
              "      --bg-color: #3B4455;\n",
              "      --fill-color: #D2E3FC;\n",
              "      --hover-bg-color: #434B5C;\n",
              "      --hover-fill-color: #FFFFFF;\n",
              "      --disabled-bg-color: #3B4455;\n",
              "      --disabled-fill-color: #666;\n",
              "  }\n",
              "\n",
              "  .colab-df-quickchart {\n",
              "    background-color: var(--bg-color);\n",
              "    border: none;\n",
              "    border-radius: 50%;\n",
              "    cursor: pointer;\n",
              "    display: none;\n",
              "    fill: var(--fill-color);\n",
              "    height: 32px;\n",
              "    padding: 0;\n",
              "    width: 32px;\n",
              "  }\n",
              "\n",
              "  .colab-df-quickchart:hover {\n",
              "    background-color: var(--hover-bg-color);\n",
              "    box-shadow: 0 1px 2px rgba(60, 64, 67, 0.3), 0 1px 3px 1px rgba(60, 64, 67, 0.15);\n",
              "    fill: var(--button-hover-fill-color);\n",
              "  }\n",
              "\n",
              "  .colab-df-quickchart-complete:disabled,\n",
              "  .colab-df-quickchart-complete:disabled:hover {\n",
              "    background-color: var(--disabled-bg-color);\n",
              "    fill: var(--disabled-fill-color);\n",
              "    box-shadow: none;\n",
              "  }\n",
              "\n",
              "  .colab-df-spinner {\n",
              "    border: 2px solid var(--fill-color);\n",
              "    border-color: transparent;\n",
              "    border-bottom-color: var(--fill-color);\n",
              "    animation:\n",
              "      spin 1s steps(1) infinite;\n",
              "  }\n",
              "\n",
              "  @keyframes spin {\n",
              "    0% {\n",
              "      border-color: transparent;\n",
              "      border-bottom-color: var(--fill-color);\n",
              "      border-left-color: var(--fill-color);\n",
              "    }\n",
              "    20% {\n",
              "      border-color: transparent;\n",
              "      border-left-color: var(--fill-color);\n",
              "      border-top-color: var(--fill-color);\n",
              "    }\n",
              "    30% {\n",
              "      border-color: transparent;\n",
              "      border-left-color: var(--fill-color);\n",
              "      border-top-color: var(--fill-color);\n",
              "      border-right-color: var(--fill-color);\n",
              "    }\n",
              "    40% {\n",
              "      border-color: transparent;\n",
              "      border-right-color: var(--fill-color);\n",
              "      border-top-color: var(--fill-color);\n",
              "    }\n",
              "    60% {\n",
              "      border-color: transparent;\n",
              "      border-right-color: var(--fill-color);\n",
              "    }\n",
              "    80% {\n",
              "      border-color: transparent;\n",
              "      border-right-color: var(--fill-color);\n",
              "      border-bottom-color: var(--fill-color);\n",
              "    }\n",
              "    90% {\n",
              "      border-color: transparent;\n",
              "      border-bottom-color: var(--fill-color);\n",
              "    }\n",
              "  }\n",
              "</style>\n",
              "\n",
              "      <script>\n",
              "        async function quickchart(key) {\n",
              "          const quickchartButtonEl =\n",
              "            document.querySelector('#' + key + ' button');\n",
              "          quickchartButtonEl.disabled = true;  // To prevent multiple clicks.\n",
              "          quickchartButtonEl.classList.add('colab-df-spinner');\n",
              "          try {\n",
              "            const charts = await google.colab.kernel.invokeFunction(\n",
              "                'suggestCharts', [key], {});\n",
              "          } catch (error) {\n",
              "            console.error('Error during call to suggestCharts:', error);\n",
              "          }\n",
              "          quickchartButtonEl.classList.remove('colab-df-spinner');\n",
              "          quickchartButtonEl.classList.add('colab-df-quickchart-complete');\n",
              "        }\n",
              "        (() => {\n",
              "          let quickchartButtonEl =\n",
              "            document.querySelector('#df-b1d90b4c-0c5d-424a-b29f-15da1afc7a7f button');\n",
              "          quickchartButtonEl.style.display =\n",
              "            google.colab.kernel.accessAllowed ? 'block' : 'none';\n",
              "        })();\n",
              "      </script>\n",
              "    </div>\n",
              "\n",
              "    </div>\n",
              "  </div>\n"
            ],
            "application/vnd.google.colaboratory.intrinsic+json": {
              "type": "dataframe",
              "variable_name": "df",
              "summary": "{\n  \"name\": \"df\",\n  \"rows\": 100,\n  \"fields\": [\n    {\n      \"column\": \"Nombre\",\n      \"properties\": {\n        \"dtype\": \"string\",\n        \"num_unique_values\": 100,\n        \"samples\": [\n          \"Tina Krause\",\n          \"Lisa Vaughn\",\n          \"Robert Hogan\"\n        ],\n        \"semantic_type\": \"\",\n        \"description\": \"\"\n      }\n    },\n    {\n      \"column\": \"G\\u00e9nero\",\n      \"properties\": {\n        \"dtype\": \"category\",\n        \"num_unique_values\": 2,\n        \"samples\": [\n          \"Masculino\",\n          \"Femenino\"\n        ],\n        \"semantic_type\": \"\",\n        \"description\": \"\"\n      }\n    },\n    {\n      \"column\": \"Salario\",\n      \"properties\": {\n        \"dtype\": \"number\",\n        \"std\": 13964,\n        \"min\": 40215,\n        \"max\": 89440,\n        \"num_unique_values\": 100,\n        \"samples\": [\n          58809,\n          47058\n        ],\n        \"semantic_type\": \"\",\n        \"description\": \"\"\n      }\n    },\n    {\n      \"column\": \"Edad\",\n      \"properties\": {\n        \"dtype\": \"number\",\n        \"std\": 11,\n        \"min\": 22,\n        \"max\": 59,\n        \"num_unique_values\": 37,\n        \"samples\": [\n          45,\n          50\n        ],\n        \"semantic_type\": \"\",\n        \"description\": \"\"\n      }\n    },\n    {\n      \"column\": \"Experiencia\",\n      \"properties\": {\n        \"dtype\": \"number\",\n        \"std\": 9,\n        \"min\": 0,\n        \"max\": 34,\n        \"num_unique_values\": 29,\n        \"samples\": [\n          29,\n          13\n        ],\n        \"semantic_type\": \"\",\n        \"description\": \"\"\n      }\n    }\n  ]\n}"
            }
          },
          "metadata": {},
          "execution_count": 17
        }
      ]
    },
    {
      "cell_type": "markdown",
      "source": [
        "🔹 Bloque 3: Edad y experiencia"
      ],
      "metadata": {
        "id": "FEAWPpWpQTmz"
      }
    },
    {
      "cell_type": "code",
      "source": [
        "edades = [random.randint(22, 60) for _ in range(num_registros)]\n",
        "experiencia = [random.randint(0, edad - 21) for edad in edades]\n",
        "df[\"Edad\"] = edades\n",
        "df[\"Experiencia\"] = experiencia"
      ],
      "metadata": {
        "id": "_PsK1xu0QVRh"
      },
      "execution_count": 15,
      "outputs": []
    },
    {
      "cell_type": "markdown",
      "source": [
        "🔹 Bloque 4: Estadísticas"
      ],
      "metadata": {
        "id": "tdipPNTbQXsV"
      }
    },
    {
      "cell_type": "code",
      "source": [
        "print(df.head())\n",
        "\n",
        "print(\"\\nDistribución de género:\")\n",
        "print(df[\"Género\"].value_counts(normalize=True) * 100)\n",
        "\n",
        "print(\"\\nSalario promedio por género:\")\n",
        "print(df.groupby(\"Género\")[\"Salario\"].mean().round(2))\n",
        "\n",
        "print(\"\\nResumen edad y experiencia:\")\n",
        "print(df[[\"Edad\", \"Experiencia\"]].describe().round(2))\n"
      ],
      "metadata": {
        "colab": {
          "base_uri": "https://localhost:8080/"
        },
        "id": "UyVooiU6QZkR",
        "outputId": "4454b0e8-5d52-4030-cdd5-c4438b7d9dc2"
      },
      "execution_count": 16,
      "outputs": [
        {
          "output_type": "stream",
          "name": "stdout",
          "text": [
            "                  Nombre     Género  Salario  Edad  Experiencia\n",
            "0        Joan Washington   Femenino    65645    46           23\n",
            "1  Mr. Frank Stevens DVM  Masculino    68349    28            4\n",
            "2      Brenda Barrett MD   Femenino    62098    33            4\n",
            "3        Maurice Estrada  Masculino    81613    48           27\n",
            "4          Charles Green  Masculino    84284    34            5\n",
            "\n",
            "Distribución de género:\n",
            "Género\n",
            "Femenino     50.0\n",
            "Masculino    50.0\n",
            "Name: proportion, dtype: float64\n",
            "\n",
            "Salario promedio por género:\n",
            "Género\n",
            "Femenino     54019.52\n",
            "Masculino    75110.28\n",
            "Name: Salario, dtype: float64\n",
            "\n",
            "Resumen edad y experiencia:\n",
            "         Edad  Experiencia\n",
            "count  100.00       100.00\n",
            "mean    42.55        11.57\n",
            "std     11.16         9.26\n",
            "min     22.00         0.00\n",
            "25%     32.00         4.00\n",
            "50%     44.50         9.00\n",
            "75%     52.00        18.00\n",
            "max     59.00        34.00\n"
          ]
        }
      ]
    }
  ]
}