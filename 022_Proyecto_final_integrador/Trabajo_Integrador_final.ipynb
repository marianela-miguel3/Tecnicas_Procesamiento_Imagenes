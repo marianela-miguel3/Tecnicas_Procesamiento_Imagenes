{
  "nbformat": 4,
  "nbformat_minor": 0,
  "metadata": {
    "colab": {
      "provenance": []
    },
    "kernelspec": {
      "name": "python3",
      "display_name": "Python 3"
    },
    "language_info": {
      "name": "python"
    }
  },
  "cells": [
    {
      "cell_type": "markdown",
      "source": [
        "# TÉCNICAS DE PROCESAMIENTO DIGITAL DE IMÁGENES\n",
        "\n",
        "## Proyecto integrador\n",
        "\n",
        "**Profesor**: Matias Barreto\n",
        "\n",
        "**Alumnas**: Marianela Miguel, Elisabeth Pose\n",
        "\n",
        "**Carrera**: Tec. en Ciencia de datos e IA\n",
        "\n",
        "**Año** : 2025"
      ],
      "metadata": {
        "id": "BSRvn_hgxV4R"
      }
    },
    {
      "cell_type": "markdown",
      "source": [
        "# Definición del Problema\n",
        "\n",
        "**Detección automática de postura corporal en tiempo real usando Visión por Computadora**\n",
        "\n",
        "**Área**: Salud y bienestar.\n",
        "\n",
        "**Problema**: Muchas personas adoptan posturas incorrectas al trabajar frente a la computadora o entrenar, lo que puede derivar en dolor de cuello, espalda o lesiones.\n",
        "\n",
        "**Objetivo**:\n",
        "\n",
        "Desarrollar un sistema en tiempo real capaz de:\n",
        "\n",
        "1.   Detectar postura corporal (correcta o incorrecta)\n",
        "2.   Retroalimentar al usuario mediante voz.\n",
        "3.   Registrar imágenes etiquetadas automáticamente.\n",
        "4.   Entrenar una red neuronal CNN personalizada para validar la clasificación.\n",
        "\n",
        "\n",
        "\n"
      ],
      "metadata": {
        "id": "GPFzuWhLx72t"
      }
    },
    {
      "cell_type": "markdown",
      "source": [
        "# Diseño de la  Solución\n",
        "\n",
        "**Herramientas utilizadas**:\n",
        "Python y Google Colab.\n",
        "\n",
        "**Librerías**:\n",
        "\n",
        "OpenCV, NumPy, PIL, matplotlib.\n",
        "\n",
        "MediaPipe para landmarks del cuerpo.\n",
        "\n",
        "TensorFlow/Keras para entrenamiento CNN.\n",
        "\n",
        "Javascript para captura de video y síntesis de voz.\n",
        "\n",
        "**Proceso general**:\n",
        "\n",
        "\n",
        "*   Captura de imagen desde la cámara\n",
        "\n",
        "*   Detección de landmarks corporales con MediaPipe\n",
        "\n",
        "*   Reglas geométricas simples → Postura correcta/incorrecta.\n",
        "\n",
        "*   Voz: sintetiza el mensaje para el usuario.\n",
        "\n",
        "*   Almacena imágenes y etiquetas (frames/ + CSV).\n",
        "\n",
        "*   Entrenamiento de modelo CNN sobre esas imágenes.\n",
        "\n",
        "*   Prueba final: inferencia sobre nuevas imágenes."
      ],
      "metadata": {
        "id": "BXNAD7miyfEq"
      }
    },
    {
      "cell_type": "markdown",
      "source": [
        "# implementacion"
      ],
      "metadata": {
        "id": "CeYien5J7ffa"
      }
    },
    {
      "cell_type": "code",
      "execution_count": 1,
      "metadata": {
        "colab": {
          "base_uri": "https://localhost:8080/"
        },
        "id": "fbMzduBHxMT_",
        "outputId": "ee1b9052-d595-4a89-ece0-e84876d0b146"
      },
      "outputs": [
        {
          "output_type": "stream",
          "name": "stdout",
          "text": [
            "Requirement already satisfied: mediapipe in /usr/local/lib/python3.11/dist-packages (0.10.21)\n",
            "Requirement already satisfied: opencv-python in /usr/local/lib/python3.11/dist-packages (4.11.0.86)\n",
            "Requirement already satisfied: absl-py in /usr/local/lib/python3.11/dist-packages (from mediapipe) (1.4.0)\n",
            "Requirement already satisfied: attrs>=19.1.0 in /usr/local/lib/python3.11/dist-packages (from mediapipe) (25.3.0)\n",
            "Requirement already satisfied: flatbuffers>=2.0 in /usr/local/lib/python3.11/dist-packages (from mediapipe) (25.2.10)\n",
            "Requirement already satisfied: jax in /usr/local/lib/python3.11/dist-packages (from mediapipe) (0.5.2)\n",
            "Requirement already satisfied: jaxlib in /usr/local/lib/python3.11/dist-packages (from mediapipe) (0.5.1)\n",
            "Requirement already satisfied: matplotlib in /usr/local/lib/python3.11/dist-packages (from mediapipe) (3.10.0)\n",
            "Requirement already satisfied: numpy<2 in /usr/local/lib/python3.11/dist-packages (from mediapipe) (1.26.4)\n",
            "Requirement already satisfied: opencv-contrib-python in /usr/local/lib/python3.11/dist-packages (from mediapipe) (4.11.0.86)\n",
            "Requirement already satisfied: protobuf<5,>=4.25.3 in /usr/local/lib/python3.11/dist-packages (from mediapipe) (4.25.8)\n",
            "Requirement already satisfied: sounddevice>=0.4.4 in /usr/local/lib/python3.11/dist-packages (from mediapipe) (0.5.2)\n",
            "Requirement already satisfied: sentencepiece in /usr/local/lib/python3.11/dist-packages (from mediapipe) (0.2.0)\n",
            "Requirement already satisfied: CFFI>=1.0 in /usr/local/lib/python3.11/dist-packages (from sounddevice>=0.4.4->mediapipe) (1.17.1)\n",
            "Requirement already satisfied: ml_dtypes>=0.4.0 in /usr/local/lib/python3.11/dist-packages (from jax->mediapipe) (0.4.1)\n",
            "Requirement already satisfied: opt_einsum in /usr/local/lib/python3.11/dist-packages (from jax->mediapipe) (3.4.0)\n",
            "Requirement already satisfied: scipy>=1.11.1 in /usr/local/lib/python3.11/dist-packages (from jax->mediapipe) (1.15.3)\n",
            "Requirement already satisfied: contourpy>=1.0.1 in /usr/local/lib/python3.11/dist-packages (from matplotlib->mediapipe) (1.3.2)\n",
            "Requirement already satisfied: cycler>=0.10 in /usr/local/lib/python3.11/dist-packages (from matplotlib->mediapipe) (0.12.1)\n",
            "Requirement already satisfied: fonttools>=4.22.0 in /usr/local/lib/python3.11/dist-packages (from matplotlib->mediapipe) (4.58.4)\n",
            "Requirement already satisfied: kiwisolver>=1.3.1 in /usr/local/lib/python3.11/dist-packages (from matplotlib->mediapipe) (1.4.8)\n",
            "Requirement already satisfied: packaging>=20.0 in /usr/local/lib/python3.11/dist-packages (from matplotlib->mediapipe) (24.2)\n",
            "Requirement already satisfied: pillow>=8 in /usr/local/lib/python3.11/dist-packages (from matplotlib->mediapipe) (11.2.1)\n",
            "Requirement already satisfied: pyparsing>=2.3.1 in /usr/local/lib/python3.11/dist-packages (from matplotlib->mediapipe) (3.2.3)\n",
            "Requirement already satisfied: python-dateutil>=2.7 in /usr/local/lib/python3.11/dist-packages (from matplotlib->mediapipe) (2.9.0.post0)\n",
            "Requirement already satisfied: pycparser in /usr/local/lib/python3.11/dist-packages (from CFFI>=1.0->sounddevice>=0.4.4->mediapipe) (2.22)\n",
            "Requirement already satisfied: six>=1.5 in /usr/local/lib/python3.11/dist-packages (from python-dateutil>=2.7->matplotlib->mediapipe) (1.17.0)\n"
          ]
        }
      ],
      "source": [
        "## Instalación de bibliotecas necesarias\n",
        "# - mediapipe: librería de Google para la detección de landmarks del cuerpo en tiempo real.\n",
        "# - opencv-python: procesamiento de imágenes y video (captura, dibujo, manipulación).\n",
        "!pip install mediapipe opencv-python"
      ]
    },
    {
      "cell_type": "code",
      "source": [
        "# ✅ IMPORTS NECESARIOS\n",
        "import cv2\n",
        "from base64 import b64decode, b64encode\n",
        "from PIL import Image\n",
        "import io\n",
        "from IPython.display import Javascript, display\n",
        "from google.colab.output import eval_js"
      ],
      "metadata": {
        "id": "dkaMn1uex3u5"
      },
      "execution_count": null,
      "outputs": []
    },
    {
      "cell_type": "code",
      "source": [
        "\n",
        "\n",
        "from IPython.display import Javascript, display\n",
        "from google.colab.output import eval_js"
      ],
      "metadata": {
        "id": "BDjQ14Hqesl-"
      },
      "execution_count": null,
      "outputs": []
    },
    {
      "cell_type": "markdown",
      "source": [
        "## **El siguiente bloque define una función en Python que carga y ejecuta un script en JavaScript para capturar video desde la cámara del dispositivo en Google Colab.**\n",
        "\n",
        "# Función para iniciar la captura de video desde la cámara del navegador\n",
        " La función video_stream() inyecta un script en JavaScript que:\n",
        " - Solicita acceso a la cámara del usuario (modo entorno).\n",
        " - Crea una interfaz visual en la notebook (con video en vivo, mensajes y overlay).\n",
        " - Permite capturar cuadros (frames) en tiempo real desde el navegador.\n",
        " - Muestra un mensaje de estado y una imagen procesada (por ejemplo, con landmarks).\n",
        " Además, permite detener la ejecución haciendo clic en el video.\n",
        " Este código es esencial para realizar visión por computadora en vivo desde Google Colab."
      ],
      "metadata": {
        "id": "6OxzgE_RxYi8"
      }
    },
    {
      "cell_type": "code",
      "source": [
        "# 💻 Código JavaScript embebido en la función `video_stream()`\n",
        "# Este script se ejecuta en el navegador del usuario y cumple varias funciones clave:\n",
        "#\n",
        "# ▶️ 1. Accede a la cámara del dispositivo y muestra el video en tiempo real.\n",
        "# 🖼 2. Crea una interfaz visual en la notebook que incluye:\n",
        "#      - Video en vivo (stream)\n",
        "#      - Imagen procesada con overlay (por ejemplo, los landmarks detectados)\n",
        "#      - Mensaje de estado (por ejemplo: \"Postura correcta\")\n",
        "# 🔄 3. Captura un frame del video y lo convierte en una imagen JPEG codificada en base64.\n",
        "# 🔊 4. Reproduce un mensaje de voz según el estado de la postura utilizando `speechSynthesis`.\n",
        "# ❌ 5. Permite al usuario detener el procesamiento haciendo clic en el video o sobre el mensaje.\n",
        "#\n",
        "# Esto permite una integración interactiva entre la detección en Python y la interfaz web en Google Colab.\n",
        "\n",
        "def video_stream():\n",
        "  js = Javascript('''\n",
        "    var video;\n",
        "    var div = null;\n",
        "    var stream;\n",
        "    var captureCanvas;\n",
        "    var imgElement;\n",
        "    var labelElement;\n",
        "    var lastSpeechTime = 0;\n",
        "\n",
        "    var pendingResolve = null;\n",
        "    var shutdown = false;\n",
        "\n",
        "    function removeDom() {\n",
        "       stream.getVideoTracks()[0].stop();\n",
        "       video.remove();\n",
        "       div.remove();\n",
        "       video = null;\n",
        "       div = null;\n",
        "       stream = null;\n",
        "       imgElement = null;\n",
        "       captureCanvas = null;\n",
        "       labelElement = null;\n",
        "    }\n",
        "\n",
        "    function onAnimationFrame() {\n",
        "      if (!shutdown) {\n",
        "        window.requestAnimationFrame(onAnimationFrame);\n",
        "      }\n",
        "      if (pendingResolve) {\n",
        "        var result = \"\";\n",
        "        if (!shutdown) {\n",
        "          captureCanvas.getContext('2d').drawImage(video, 0, 0, captureCanvas.width, captureCanvas.height);\n",
        "          result = captureCanvas.toDataURL('image/jpeg', 0.8);\n",
        "        }\n",
        "        var lp = pendingResolve;\n",
        "        pendingResolve = null;\n",
        "        lp(result);\n",
        "      }\n",
        "    }\n",
        "\n",
        "    async function createDom() {\n",
        "      if (div !== null) {\n",
        "        return stream;\n",
        "      }\n",
        "\n",
        "      div = document.createElement('div');\n",
        "      div.style.border = '2px solid black';\n",
        "      div.style.padding = '3px';\n",
        "      div.style.width = '100%';\n",
        "      div.style.maxWidth = '600px';\n",
        "      document.body.appendChild(div);\n",
        "\n",
        "      const modelOut = document.createElement('div');\n",
        "      modelOut.innerHTML = \"<span>Status:</span>\";\n",
        "      labelElement = document.createElement('span');\n",
        "      labelElement.innerText = 'No data';\n",
        "      labelElement.style.fontWeight = 'bold';\n",
        "      modelOut.appendChild(labelElement);\n",
        "      div.appendChild(modelOut);\n",
        "\n",
        "      video = document.createElement('video');\n",
        "      video.style.display = 'block';\n",
        "      video.setAttribute('playsinline', '');\n",
        "      video.onclick = () => { shutdown = true; };\n",
        "      stream = await navigator.mediaDevices.getUserMedia({ video: { facingMode: \"environment\" } });\n",
        "      div.appendChild(video);\n",
        "\n",
        "      imgElement = document.createElement('img');\n",
        "      imgElement.style.position = 'absolute';\n",
        "      imgElement.style.zIndex = 1;\n",
        "      imgElement.onclick = () => { shutdown = true; };\n",
        "      div.appendChild(imgElement);\n",
        "\n",
        "      const instruction = document.createElement('div');\n",
        "      instruction.innerHTML = '<span style=\"color: red; font-weight: bold;\">Click en el video para detener</span>';\n",
        "      div.appendChild(instruction);\n",
        "      instruction.onclick = () => { shutdown = true; };\n",
        "\n",
        "      video.srcObject = stream;\n",
        "      await video.play();\n",
        "\n",
        "      captureCanvas = document.createElement('canvas');\n",
        "      captureCanvas.width = video.videoWidth || 640;\n",
        "      captureCanvas.height = video.videoHeight || 480;\n",
        "      window.requestAnimationFrame(onAnimationFrame);\n",
        "\n",
        "      return stream;\n",
        "    }\n",
        "\n",
        "    async function stream_frame(label, imgData) {\n",
        "      if (shutdown) {\n",
        "        removeDom();\n",
        "        shutdown = false;\n",
        "        return '';\n",
        "      }\n",
        "\n",
        "      stream = await createDom();\n",
        "\n",
        "      if (label != \"\") {\n",
        "        labelElement.innerHTML = label;\n",
        "\n",
        "        // Voz cada 2 segundos (2000 ms)\n",
        "        if (Date.now() - lastSpeechTime > 3000) {\n",
        "          if ('speechSynthesis' in window) {\n",
        "            var utterance = new SpeechSynthesisUtterance(label);\n",
        "            utterance.lang = 'es-AR';\n",
        "            speechSynthesis.cancel();\n",
        "            speechSynthesis.speak(utterance);\n",
        "            lastSpeechTime = Date.now();\n",
        "          }\n",
        "        }\n",
        "      }\n",
        "\n",
        "      if (imgData != \"\") {\n",
        "        var videoRect = video.getClientRects()[0];\n",
        "        imgElement.style.top = videoRect.top + \"px\";\n",
        "        imgElement.style.left = videoRect.left + \"px\";\n",
        "        imgElement.style.width = videoRect.width + \"px\";\n",
        "        imgElement.style.height = videoRect.height + \"px\";\n",
        "        imgElement.src = imgData;\n",
        "      }\n",
        "\n",
        "      var result = await new Promise(function(resolve, reject) {\n",
        "        pendingResolve = resolve;\n",
        "      });\n",
        "      shutdown = false;\n",
        "\n",
        "      return {\n",
        "        'img': result\n",
        "      };\n",
        "    }\n",
        "  ''')\n",
        "  display(js)"
      ],
      "metadata": {
        "id": "PK5kl8A0Sv1Y"
      },
      "execution_count": null,
      "outputs": []
    },
    {
      "cell_type": "markdown",
      "source": [
        "**Procesamiento de video y análisis de postura en tiempo real**\n",
        "\n",
        "**Este bloque realiza el flujo principal del sistema:**\n",
        "\n",
        "✅ Captura imágenes en tiempo real desde la cámara del navegador.\n",
        "\n",
        "✅ Procesa cada frame con MediaPipe para detectar los landmarks corporales.\n",
        "\n",
        "✅ Evalúa si la postura es correcta o incorrecta según reglas geométricas simples.\n",
        "\n",
        "✅ Muestra el resultado en pantalla (overlay sobre el video) y también lo anuncia por voz.\n",
        "\n",
        "✅ Guarda los frames con su etiqueta (correcta o incorrecta) para entrenamiento posterior de una CNN.\n",
        "\n",
        "✅ Al finalizar, genera un gráfico que muestra la evolución de la postura en el tiempo.\n"
      ],
      "metadata": {
        "id": "AvhP-JqrwINd"
      }
    },
    {
      "cell_type": "code",
      "source": [
        "# === IMPORTACIONES NECESARIAS ===\n",
        "from base64 import b64decode, b64encode # Para codificar y decodificar datos en base64 (texto a binario y viceversa)\n",
        "import cv2 # Librería OpenCV para procesamiento de imágenes y visión por computadora\n",
        "import numpy as np # Para operaciones numéricas y manejo de arrays\n",
        "from PIL import Image # Para abrir, manipular y convertir imágenes\n",
        "import io # Para manejar flujos de datos en memoria (por ejemplo, imágenes en bytes)\n",
        "import mediapipe as mp # Librería de Google para procesamiento de video e inteligencia artificial (pose, manos, rostro, etc.)\n",
        "import matplotlib.pyplot as plt # Para graficar y visualizar imágenes o datos\n",
        "import pandas as pd #manipulación y análisis de datos en forma de tablas (DataFrames)\n",
        "import shutil # permite trabajar con operaciones de archivos y directorios\n",
        "import math # proporciona funciones matemáticas estándar\n",
        "import os # permite interactuar con el sistema operativo, como acceder al sistema de archivos, crear carpetas, listar archivos\n",
        "from google.colab import files #módulo específico de Google Colab que permite subir o descargar archivos entre tu computadora y el entorno de Colab\n",
        "from datetime import datetime # se utiliza para trabajar con fechas y horas\n",
        "\n",
        "# === PARÁMETROS DE TOLERANCIA ===\n",
        "TOLERANCIA_GENERAL = 0.2   # Aumentar para hacerlo más permisivo\n",
        "TOLERANCIA_Z = 0.7         # Tolerancia para inclinación en z\n",
        "TOLERANCIA_Z_ADELANTE = 0.7\n",
        "TOLERANCIA_Z_ATRAS = 0.25\n",
        "TOLERANCIA_ANGULO_CABEZA_ATRAS = 20\n",
        "\n",
        "# === FUNCIONES AUXILIARES ===\n",
        "def js_to_image(js_reply):\n",
        "    image_bytes = b64decode(js_reply.split(',')[1])\n",
        "    jpg_as_np = np.frombuffer(image_bytes, dtype=np.uint8)\n",
        "    return cv2.imdecode(jpg_as_np, flags=1)\n",
        "\n",
        "def bbox_to_bytes(bbox_array):\n",
        "    bbox_PIL = Image.fromarray(bbox_array, 'RGBA')\n",
        "    ioBuf = io.BytesIO()\n",
        "    bbox_PIL.save(ioBuf, format='PNG')\n",
        "    bbox_bytes = 'data:image/png;base64,{}'.format(\n",
        "        str(b64encode(ioBuf.getvalue()), 'utf-8')\n",
        "    )\n",
        "    return bbox_bytes\n",
        "\n",
        "def video_frame(label, bbox):\n",
        "    data = eval_js(f'stream_frame(\"{label}\", \"{bbox}\")')\n",
        "    return data\n",
        "\n",
        "# === INICIALIZACIONES ===\n",
        "# === Inicializar MediaPipe Pose ===\n",
        "mp_pose = mp.solutions.pose\n",
        "pose = mp_pose.Pose(static_image_mode=False, min_detection_confidence=0.7, min_tracking_confidence=0.7)\n",
        "mp_drawing = mp.solutions.drawing_utils\n",
        "# === Iniciar captura desde navegador ===\n",
        "video_stream()\n",
        "label_html = 'Analizando postura...'\n",
        "bbox = ''\n",
        "count = 0\n",
        "historial_posturas = []\n",
        "datos_csv = []\n",
        "\n",
        "# === CREAR CARPETA UNICA PARA LA SESION ===\n",
        "timestamp = datetime.now().strftime(\"%Y_%m_%d_%H%M%S\")\n",
        "sesion_dir = f\"sesiones/{timestamp}\"\n",
        "os.makedirs(sesion_dir, exist_ok=True)\n",
        "\n",
        "# Para graficar valores Z al final\n",
        "z_nariz = []\n",
        "z_hombros = []\n",
        "z_caderas = []\n",
        "\n",
        "# === BUCLE DE PROCESAMIENTO ===\n",
        "while True:\n",
        "    js_reply = video_frame(label_html, bbox)\n",
        "    if not js_reply:\n",
        "        break\n",
        "\n",
        "    img = js_to_image(js_reply[\"img\"])\n",
        "    img_rgb = cv2.cvtColor(img, cv2.COLOR_BGR2RGB)\n",
        "    overlay_bgr = np.zeros([img.shape[0], img.shape[1], 3], dtype=np.uint8)\n",
        "\n",
        "    results = pose.process(img_rgb)\n",
        "    mensaje = \"Postura no detectada\"\n",
        "\n",
        "    if results.pose_landmarks:\n",
        "        landmarks = results.pose_landmarks.landmark\n",
        "        left_shoulder = landmarks[mp_pose.PoseLandmark.LEFT_SHOULDER]\n",
        "        right_shoulder = landmarks[mp_pose.PoseLandmark.RIGHT_SHOULDER]\n",
        "        left_hip = landmarks[mp_pose.PoseLandmark.LEFT_HIP]\n",
        "        right_hip = landmarks[mp_pose.PoseLandmark.RIGHT_HIP]\n",
        "        nose = landmarks[mp_pose.PoseLandmark.NOSE]\n",
        "\n",
        "        # Promedios\n",
        "        shoulder_avg_x = (left_shoulder.x + right_shoulder.x) / 2\n",
        "        shoulder_avg_y = (left_shoulder.y + right_shoulder.y) / 2\n",
        "        shoulder_avg_z = (left_shoulder.z + right_shoulder.z) / 2\n",
        "        hip_avg_x = (left_hip.x + right_hip.x) / 2\n",
        "        hip_avg_y = (left_hip.y + right_hip.y) / 2\n",
        "        hip_avg_z = (left_hip.z + right_hip.z) / 2\n",
        "\n",
        "        # === Cálculo de diferencias y alineaciones ===\n",
        "        horizontal_diff = abs(shoulder_avg_x - hip_avg_x)       # alineación lateral\n",
        "        vertical_diff = shoulder_avg_y - hip_avg_y              # diferencia de altura hombros vs cadera\n",
        "        head_forward_x = nose.x - shoulder_avg_x                # cuánto se adelantó la cabeza en X\n",
        "        head_forward_z = nose.z - shoulder_avg_z                # cuánto se adelantó la cabeza en profundidad (Z)\n",
        "        torso_forward_z = shoulder_avg_z - hip_avg_z            # inclinación del torso hacia adelante\n",
        "\n",
        "        # Ángulo entre la cabeza y el torso en el plano Z-X\n",
        "        angulo_cabeza_zx = math.degrees(math.atan2(head_forward_z, head_forward_x))\n",
        "\n",
        "        # === Cálculo de inclinación lateral de la cabeza ===\n",
        "        left_eye = landmarks[mp_pose.PoseLandmark.LEFT_EYE]\n",
        "        right_eye = landmarks[mp_pose.PoseLandmark.RIGHT_EYE]\n",
        "\n",
        "        dy = left_eye.y - right_eye.y\n",
        "        dx = right_eye.x - left_eye.x\n",
        "        if dx != 0:\n",
        "            inclinacion_cabeza_rad = abs(np.arctan(dy / dx))\n",
        "        else:\n",
        "            inclinacion_cabeza_rad = np.pi / 2  # cabeza muy inclinada (vertical)\n",
        "\n",
        "        angulo_cabeza_grados = np.degrees(inclinacion_cabeza_rad)\n",
        "        cabeza_inclinada_lateral = angulo_cabeza_grados > 15  # umbral de inclinación lateral\n",
        "\n",
        "        # === Reglas para marcar postura incorrecta ===\n",
        "        torso_inclinado_adelante = torso_forward_z < -TOLERANCIA_Z\n",
        "        cabeza_muy_adelante = head_forward_z < -TOLERANCIA_Z_ADELANTE\n",
        "        cabeza_muy_atras = (head_forward_z > TOLERANCIA_Z_ATRAS) or (angulo_cabeza_grados > TOLERANCIA_ANGULO_CABEZA_ATRAS)\n",
        "\n",
        "\n",
        "        # === Lógica de postura correcta incluyendo inclinación lateral ===\n",
        "        postura_correcta = (\n",
        "            horizontal_diff < 0.05 + TOLERANCIA_GENERAL and\n",
        "            abs(head_forward_x) < 0.05 + TOLERANCIA_GENERAL and\n",
        "            not torso_inclinado_adelante and\n",
        "            not cabeza_muy_adelante and\n",
        "            not cabeza_muy_atras and\n",
        "            not cabeza_inclinada_lateral\n",
        "        )\n",
        "\n",
        "# === Feedback visual y para CSV ===\n",
        "        nombre_archivo = f\"frame_{count:04d}_{'correcta' if postura_correcta else 'incorrecta'}.jpg\"\n",
        "        ruta_archivo = os.path.join(sesion_dir, nombre_archivo) # Use sesion_dir to save images directly to the session folder\n",
        "        cv2.imwrite(ruta_archivo, img)  # Guardar imagen\n",
        "        if postura_correcta:\n",
        "           mensaje = \"Postura correcta\"\n",
        "           posture_color = (0, 255, 0)\n",
        "           historial_posturas.append(1)\n",
        "          #  datos_csv.append({'frame': count, 'postura_correcta': 1})\n",
        "        else:\n",
        "           mensaje = \"Postura incorrecta, sientate derecho\"\n",
        "           posture_color = (0, 0, 255)\n",
        "           historial_posturas.append(0)\n",
        "          #  datos_csv.append({'frame': count, 'postura_correcta': 0})\n",
        "        # Guardar nombre de archivo en CSV\n",
        "        datos_csv.append({'frame': nombre_archivo, 'postura_correcta': int(postura_correcta)})\n",
        "\n",
        "# === Debug: impresión para calibrar ===\n",
        "        #print(f\"H-diff: {horizontal_diff:.3f}, HeadX: {head_forward_x:.3f}, HeadZ: {head_forward_z:.3f}, TorsoZ: {torso_forward_z:.3f}, Ángulo cabeza: {angulo_cabeza_grados:.1f}°, Atrás?: {cabeza_muy_atras}\")\n",
        "\n",
        "        # Guardar valores Z para graficar luego\n",
        "        z_nariz.append(nose.z)\n",
        "        z_hombros.append(shoulder_avg_z)\n",
        "        z_caderas.append(hip_avg_z)\n",
        "\n",
        "        # Dibujar landmarks\n",
        "        mp_drawing.draw_landmarks(\n",
        "            image=overlay_bgr,\n",
        "            landmark_list=results.pose_landmarks,\n",
        "            connections=mp_pose.POSE_CONNECTIONS,\n",
        "            landmark_drawing_spec=mp_drawing.DrawingSpec(color=(0, 255, 0), thickness=2, circle_radius=2),\n",
        "            connection_drawing_spec=mp_drawing.DrawingSpec(color=(255, 255, 255), thickness=2)\n",
        "        )\n",
        "\n",
        "        # Mostrar texto en pantalla\n",
        "        cv2.putText(\n",
        "            overlay_bgr, mensaje, (30, 50),\n",
        "            cv2.FONT_HERSHEY_SIMPLEX, 1.5, posture_color, 3\n",
        "        )\n",
        "\n",
        "    else:\n",
        "        datos_csv.append({'frame': count, 'postura_correcta': -1})\n",
        "\n",
        "    count += 1\n",
        "\n",
        "    # Mezclar overlay con imagen original\n",
        "    overlay_rgba = cv2.cvtColor(overlay_bgr, cv2.COLOR_BGR2RGBA)\n",
        "    img_rgba = cv2.cvtColor(img, cv2.COLOR_BGR2RGBA)\n",
        "    alpha_mask = (overlay_rgba[:, :, 0:3] != 0).any(axis=2).astype(np.uint8)\n",
        "    combined_rgba = img_rgba.copy()\n",
        "    combined_rgba[alpha_mask == 1] = overlay_rgba[alpha_mask == 1]\n",
        "\n",
        "    bbox = bbox_to_bytes(combined_rgba)\n",
        "    label_html = mensaje\n",
        "\n",
        "# === RESULTADOS Y GRÁFICOS ===\n",
        "if len(historial_posturas) > 0:\n",
        "    total = len(historial_posturas)\n",
        "    correctas = sum(historial_posturas)\n",
        "    porcentaje_correcta = (correctas / total) * 100\n",
        "    print(f\"\\n✅ Postura correcta: {porcentaje_correcta:.2f}% del tiempo\")\n",
        "\n",
        "    # Gráfico binario de postura\n",
        "    plt.figure(figsize=(10, 3))\n",
        "    plt.plot(historial_posturas, marker='o', linestyle='-', color='blue', label='Postura')\n",
        "    plt.ylim(-0.1, 1.1)\n",
        "    plt.yticks([0, 1], ['Incorrecta', 'Correcta'])\n",
        "    plt.xlabel('Frames')\n",
        "    plt.ylabel('Postura')\n",
        "    plt.title('Evolución de la postura en el tiempo')\n",
        "    plt.legend()\n",
        "    plt.grid(True)\n",
        "    plt.show()\n",
        "\n",
        "    # Gráfico de valores Z\n",
        "    plt.figure(figsize=(10, 4))\n",
        "    plt.plot(z_nariz, label='Nariz (Z)', color='purple')\n",
        "    plt.plot(z_hombros, label='Hombros (Z)', color='green')\n",
        "    plt.plot(z_caderas, label='Caderas (Z)', color='orange')\n",
        "    plt.title(\"Profundidad en el eje Z por frame (nariz, hombros y caderas)\")\n",
        "    plt.xlabel(\"Frames\")\n",
        "    plt.ylabel(\"Valor Z (mayor = más lejos)\")\n",
        "    plt.legend()\n",
        "    plt.grid(True)\n",
        "    plt.show()\n",
        "\n",
        "# === GUARDAR CSV ===\n",
        "df = pd.DataFrame(datos_csv)\n",
        "csv_path = os.path.join(sesion_dir, \"dataset_postura.csv\")\n",
        "df.to_csv(csv_path, index=False)\n",
        "\n",
        "# === MOVER LAS IMÁGENES A LA CARPETA DE SESIÓN ===\n",
        "# Images are already saved to the session directory, so this step is not needed.\n",
        "# import glob\n",
        "# for img_path in glob.glob(\"frames/*.jpg\"):\n",
        "#     shutil.move(img_path, sesion_dir)\n",
        "\n",
        "# === COMPRIMIR Y DESCARGAR LA SESIÓN ===\n",
        "zip_base = os.path.join(\"sesiones\", timestamp)\n",
        "shutil.make_archive(zip_base, 'zip', sesion_dir)\n",
        "files.download(f\"{zip_base}.zip\")"
      ],
      "metadata": {
        "colab": {
          "base_uri": "https://localhost:8080/",
          "height": 764
        },
        "id": "hY2-cNywdg2r",
        "outputId": "d5cb211a-8638-48b3-c339-530dbbe96fa9"
      },
      "execution_count": null,
      "outputs": [
        {
          "output_type": "display_data",
          "data": {
            "text/plain": [
              "<IPython.core.display.Javascript object>"
            ],
            "application/javascript": [
              "\n",
              "    var video;\n",
              "    var div = null;\n",
              "    var stream;\n",
              "    var captureCanvas;\n",
              "    var imgElement;\n",
              "    var labelElement;\n",
              "    var lastSpeechTime = 0;\n",
              "\n",
              "    var pendingResolve = null;\n",
              "    var shutdown = false;\n",
              "\n",
              "    function removeDom() {\n",
              "       stream.getVideoTracks()[0].stop();\n",
              "       video.remove();\n",
              "       div.remove();\n",
              "       video = null;\n",
              "       div = null;\n",
              "       stream = null;\n",
              "       imgElement = null;\n",
              "       captureCanvas = null;\n",
              "       labelElement = null;\n",
              "    }\n",
              "\n",
              "    function onAnimationFrame() {\n",
              "      if (!shutdown) {\n",
              "        window.requestAnimationFrame(onAnimationFrame);\n",
              "      }\n",
              "      if (pendingResolve) {\n",
              "        var result = \"\";\n",
              "        if (!shutdown) {\n",
              "          captureCanvas.getContext('2d').drawImage(video, 0, 0, captureCanvas.width, captureCanvas.height);\n",
              "          result = captureCanvas.toDataURL('image/jpeg', 0.8);\n",
              "        }\n",
              "        var lp = pendingResolve;\n",
              "        pendingResolve = null;\n",
              "        lp(result);\n",
              "      }\n",
              "    }\n",
              "\n",
              "    async function createDom() {\n",
              "      if (div !== null) {\n",
              "        return stream;\n",
              "      }\n",
              "\n",
              "      div = document.createElement('div');\n",
              "      div.style.border = '2px solid black';\n",
              "      div.style.padding = '3px';\n",
              "      div.style.width = '100%';\n",
              "      div.style.maxWidth = '600px';\n",
              "      document.body.appendChild(div);\n",
              "\n",
              "      const modelOut = document.createElement('div');\n",
              "      modelOut.innerHTML = \"<span>Status:</span>\";\n",
              "      labelElement = document.createElement('span');\n",
              "      labelElement.innerText = 'No data';\n",
              "      labelElement.style.fontWeight = 'bold';\n",
              "      modelOut.appendChild(labelElement);\n",
              "      div.appendChild(modelOut);\n",
              "\n",
              "      video = document.createElement('video');\n",
              "      video.style.display = 'block';\n",
              "      video.setAttribute('playsinline', '');\n",
              "      video.onclick = () => { shutdown = true; };\n",
              "      stream = await navigator.mediaDevices.getUserMedia({ video: { facingMode: \"environment\" } });\n",
              "      div.appendChild(video);\n",
              "\n",
              "      imgElement = document.createElement('img');\n",
              "      imgElement.style.position = 'absolute';\n",
              "      imgElement.style.zIndex = 1;\n",
              "      imgElement.onclick = () => { shutdown = true; };\n",
              "      div.appendChild(imgElement);\n",
              "\n",
              "      const instruction = document.createElement('div');\n",
              "      instruction.innerHTML = '<span style=\"color: red; font-weight: bold;\">Click en el video para detener</span>';\n",
              "      div.appendChild(instruction);\n",
              "      instruction.onclick = () => { shutdown = true; };\n",
              "\n",
              "      video.srcObject = stream;\n",
              "      await video.play();\n",
              "\n",
              "      captureCanvas = document.createElement('canvas');\n",
              "      captureCanvas.width = video.videoWidth || 640;\n",
              "      captureCanvas.height = video.videoHeight || 480;\n",
              "      window.requestAnimationFrame(onAnimationFrame);\n",
              "\n",
              "      return stream;\n",
              "    }\n",
              "\n",
              "    async function stream_frame(label, imgData) {\n",
              "      if (shutdown) {\n",
              "        removeDom();\n",
              "        shutdown = false;\n",
              "        return '';\n",
              "      }\n",
              "\n",
              "      stream = await createDom();\n",
              "\n",
              "      if (label != \"\") {\n",
              "        labelElement.innerHTML = label;\n",
              "\n",
              "        // Voz cada 2 segundos (2000 ms)\n",
              "        if (Date.now() - lastSpeechTime > 3000) {\n",
              "          if ('speechSynthesis' in window) {\n",
              "            var utterance = new SpeechSynthesisUtterance(label);\n",
              "            utterance.lang = 'es-AR';\n",
              "            speechSynthesis.cancel();\n",
              "            speechSynthesis.speak(utterance);\n",
              "            lastSpeechTime = Date.now();\n",
              "          }\n",
              "        }\n",
              "      }\n",
              "\n",
              "      if (imgData != \"\") {\n",
              "        var videoRect = video.getClientRects()[0];\n",
              "        imgElement.style.top = videoRect.top + \"px\";\n",
              "        imgElement.style.left = videoRect.left + \"px\";\n",
              "        imgElement.style.width = videoRect.width + \"px\";\n",
              "        imgElement.style.height = videoRect.height + \"px\";\n",
              "        imgElement.src = imgData;\n",
              "      }\n",
              "\n",
              "      var result = await new Promise(function(resolve, reject) {\n",
              "        pendingResolve = resolve;\n",
              "      });\n",
              "      shutdown = false;\n",
              "\n",
              "      return {\n",
              "        'img': result\n",
              "      };\n",
              "    }\n",
              "  "
            ]
          },
          "metadata": {}
        },
        {
          "output_type": "stream",
          "name": "stdout",
          "text": [
            "\n",
            "✅ Postura correcta: 37.14% del tiempo\n"
          ]
        },
        {
          "output_type": "display_data",
          "data": {
            "text/plain": [
              "<Figure size 1000x300 with 1 Axes>"
            ],
            "image/png": "[encoded data removed]"
          },
          "metadata": {}
        },
        {
          "output_type": "display_data",
          "data": {
            "text/plain": [
              "<Figure size 1000x400 with 1 Axes>"
            ],
            "image/png": "[encoded data removed]"
          },
          "metadata": {}
        },
        {
          "output_type": "display_data",
          "data": {
            "text/plain": [
              "<IPython.core.display.Javascript object>"
            ],
            "application/javascript": [
              "\n",
              "    async function download(id, filename, size) {\n",
              "      if (!google.colab.kernel.accessAllowed) {\n",
              "        return;\n",
              "      }\n",
              "      const div = document.createElement('div');\n",
              "      const label = document.createElement('label');\n",
              "      label.textContent = `Downloading \"${filename}\": `;\n",
              "      div.appendChild(label);\n",
              "      const progress = document.createElement('progress');\n",
              "      progress.max = size;\n",
              "      div.appendChild(progress);\n",
              "      document.body.appendChild(div);\n",
              "\n",
              "      const buffers = [];\n",
              "      let downloaded = 0;\n",
              "\n",
              "      const channel = await google.colab.kernel.comms.open(id);\n",
              "      // Send a message to notify the kernel that we're ready.\n",
              "      channel.send({})\n",
              "\n",
              "      for await (const message of channel.messages) {\n",
              "        // Send a message to notify the kernel that we're ready.\n",
              "        channel.send({})\n",
              "        if (message.buffers) {\n",
              "          for (const buffer of message.buffers) {\n",
              "            buffers.push(buffer);\n",
              "            downloaded += buffer.byteLength;\n",
              "            progress.value = downloaded;\n",
              "          }\n",
              "        }\n",
              "      }\n",
              "      const blob = new Blob(buffers, {type: 'application/binary'});\n",
              "      const a = document.createElement('a');\n",
              "      a.href = window.URL.createObjectURL(blob);\n",
              "      a.download = filename;\n",
              "      div.appendChild(a);\n",
              "      a.click();\n",
              "      div.remove();\n",
              "    }\n",
              "  "
            ]
          },
          "metadata": {}
        },
        {
          "output_type": "display_data",
          "data": {
            "text/plain": [
              "<IPython.core.display.Javascript object>"
            ],
            "application/javascript": [
              "download(\"download_4d20e6ab-f3f6-4262-bf39-5595c881c0a6\", \"2025_06_26_191405.zip\", 6315078)"
            ]
          },
          "metadata": {}
        }
      ]
    },
    {
      "cell_type": "markdown",
      "source": [
        "*   Detecta la postura en tiempo real con MediaPipe\n",
        "\n",
        "*   Evalúa si es correcta o no\n",
        "\n",
        "*   Almacena el historial de cada frame\n",
        "\n",
        "*   Calcula el porcentaje de tiempo con postura correcta\n",
        "\n",
        "*   Muestra un gráfico de evolución al final\n",
        "\n",
        "Luego para entrenar una CNN, creo una carpeta frames/ con:\n",
        "\n",
        "Imágenes de cada frame etiquetado como correcto (1) o incorrecto (0).\n",
        "\n",
        "Un CSV llamado dataset_postura.csv.\n",
        "\n",
        "Un archivo dataset_postura.zip para descargar todo."
      ],
      "metadata": {
        "id": "jKVCC7IZyFGz"
      }
    },
    {
      "cell_type": "markdown",
      "source": [
        "# Entrenamiento de una Red Neuronal Convolucional (CNN) - Paso 1: Preparación de los datos\n",
        "\n",
        "En este bloque se realiza la preparación inicial del dataset:\n",
        "\n",
        " 🔹 **Se descomprime el archivo ZIP que contiene los frames de las posturas y su CSV de etiquetas**.\n",
        "\n",
        " 🔹 **Se lee el archivo CSV que vincula cada imagen con su etiqueta (0 = postura incorrecta, 1 = postura correcta)**.\n",
        "\n",
        " 🔹 **Se asegura que las rutas de las imágenes sean absolutas, para facilitar su uso posterior**.\n",
        "\n",
        " 🔹 **Se visualiza el dataset con un pequeño preview para verificar que se haya cargado correctamente**.\n"
      ],
      "metadata": {
        "id": "u4vUsagXzcDg"
      }
    },
    {
      "cell_type": "code",
      "source": [
        "import zipfile\n",
        "import pandas as pd\n",
        "import os\n",
        "import numpy as np\n",
        "from tensorflow.keras.preprocessing.image import ImageDataGenerator\n",
        "import tensorflow as tf\n",
        "from tensorflow.keras import layers, models\n",
        "import matplotlib.pyplot as plt\n",
        "\n",
        "# --- 1. Descomprimir el archivo ZIP ---\n",
        "# zip_path = \"/content/dataset_postura.zip\"  # Asegurate de que el ZIP esté cargado acá\n",
        "zip_path = \"/content/sesiones/2025_06_26_191405.zip\"  # o el nombre real del zip que subiste\n",
        "extract_path = \"/content/sesiones\"\n",
        "\n",
        "with zipfile.ZipFile(zip_path, \"r\") as zip_ref:\n",
        "    zip_ref.extractall(extract_path)\n",
        "\n",
        "# --- 2. Leer el CSV ---\n",
        "csv_path = os.path.join(extract_path, \"dataset_postura.csv\")\n",
        "df = pd.read_csv(csv_path)\n",
        "\n",
        "# --- 3. Crear columna con rutas absolutas de las imágenes ---\n",
        "df[\"filename\"] = df[\"frame\"].apply(lambda x: os.path.join(extract_path, x))\n",
        "\n",
        "# --- 4. Crear la columna 'label' a partir de 'postura_correcta' ---\n",
        "df[\"label\"] = df[\"postura_correcta\"].astype(str)  # Necesario para keras"
      ],
      "metadata": {
        "id": "fcrPafF2SNdt"
      },
      "execution_count": null,
      "outputs": []
    },
    {
      "cell_type": "code",
      "source": [
        "df.tail(10)"
      ],
      "metadata": {
        "colab": {
          "base_uri": "https://localhost:8080/",
          "height": 363
        },
        "id": "vp4xo2jAS93Z",
        "outputId": "9e730575-8186-4dee-c225-2e1199c03a44"
      },
      "execution_count": null,
      "outputs": [
        {
          "output_type": "execute_result",
          "data": {
            "text/plain": [
              "                         frame  postura_correcta  \\\n",
              "96   frame_0096_incorrecta.jpg                 0   \n",
              "97   frame_0097_incorrecta.jpg                 0   \n",
              "98   frame_0098_incorrecta.jpg                 0   \n",
              "99     frame_0099_correcta.jpg                 1   \n",
              "100    frame_0100_correcta.jpg                 1   \n",
              "101  frame_0101_incorrecta.jpg                 0   \n",
              "102    frame_0102_correcta.jpg                 1   \n",
              "103    frame_0103_correcta.jpg                 1   \n",
              "104  frame_0104_incorrecta.jpg                 0   \n",
              "105  frame_0105_incorrecta.jpg                 0   \n",
              "\n",
              "                                        filename label  \n",
              "96   /content/sesiones/frame_0096_incorrecta.jpg     0  \n",
              "97   /content/sesiones/frame_0097_incorrecta.jpg     0  \n",
              "98   /content/sesiones/frame_0098_incorrecta.jpg     0  \n",
              "99     /content/sesiones/frame_0099_correcta.jpg     1  \n",
              "100    /content/sesiones/frame_0100_correcta.jpg     1  \n",
              "101  /content/sesiones/frame_0101_incorrecta.jpg     0  \n",
              "102    /content/sesiones/frame_0102_correcta.jpg     1  \n",
              "103    /content/sesiones/frame_0103_correcta.jpg     1  \n",
              "104  /content/sesiones/frame_0104_incorrecta.jpg     0  \n",
              "105  /content/sesiones/frame_0105_incorrecta.jpg     0  "
            ],
            "text/html": [
              "\n",
              "  <div id=\"df-b946da88-7480-4154-ba0b-8bf44f9579fe\" class=\"colab-df-container\">\n",
              "    <div>\n",
              "<style scoped>\n",
              "    .dataframe tbody tr th:only-of-type {\n",
              "        vertical-align: middle;\n",
              "    }\n",
              "\n",
              "    .dataframe tbody tr th {\n",
              "        vertical-align: top;\n",
              "    }\n",
              "\n",
              "    .dataframe thead th {\n",
              "        text-align: right;\n",
              "    }\n",
              "</style>\n",
              "<table border=\"1\" class=\"dataframe\">\n",
              "  <thead>\n",
              "    <tr style=\"text-align: right;\">\n",
              "      <th></th>\n",
              "      <th>frame</th>\n",
              "      <th>postura_correcta</th>\n",
              "      <th>filename</th>\n",
              "      <th>label</th>\n",
              "    </tr>\n",
              "  </thead>\n",
              "  <tbody>\n",
              "    <tr>\n",
              "      <th>96</th>\n",
              "      <td>frame_0096_incorrecta.jpg</td>\n",
              "      <td>0</td>\n",
              "      <td>/content/sesiones/frame_0096_incorrecta.jpg</td>\n",
              "      <td>0</td>\n",
              "    </tr>\n",
              "    <tr>\n",
              "      <th>97</th>\n",
              "      <td>frame_0097_incorrecta.jpg</td>\n",
              "      <td>0</td>\n",
              "      <td>/content/sesiones/frame_0097_incorrecta.jpg</td>\n",
              "      <td>0</td>\n",
              "    </tr>\n",
              "    <tr>\n",
              "      <th>98</th>\n",
              "      <td>frame_0098_incorrecta.jpg</td>\n",
              "      <td>0</td>\n",
              "      <td>/content/sesiones/frame_0098_incorrecta.jpg</td>\n",
              "      <td>0</td>\n",
              "    </tr>\n",
              "    <tr>\n",
              "      <th>99</th>\n",
              "      <td>frame_0099_correcta.jpg</td>\n",
              "      <td>1</td>\n",
              "      <td>/content/sesiones/frame_0099_correcta.jpg</td>\n",
              "      <td>1</td>\n",
              "    </tr>\n",
              "    <tr>\n",
              "      <th>100</th>\n",
              "      <td>frame_0100_correcta.jpg</td>\n",
              "      <td>1</td>\n",
              "      <td>/content/sesiones/frame_0100_correcta.jpg</td>\n",
              "      <td>1</td>\n",
              "    </tr>\n",
              "    <tr>\n",
              "      <th>101</th>\n",
              "      <td>frame_0101_incorrecta.jpg</td>\n",
              "      <td>0</td>\n",
              "      <td>/content/sesiones/frame_0101_incorrecta.jpg</td>\n",
              "      <td>0</td>\n",
              "    </tr>\n",
              "    <tr>\n",
              "      <th>102</th>\n",
              "      <td>frame_0102_correcta.jpg</td>\n",
              "      <td>1</td>\n",
              "      <td>/content/sesiones/frame_0102_correcta.jpg</td>\n",
              "      <td>1</td>\n",
              "    </tr>\n",
              "    <tr>\n",
              "      <th>103</th>\n",
              "      <td>frame_0103_correcta.jpg</td>\n",
              "      <td>1</td>\n",
              "      <td>/content/sesiones/frame_0103_correcta.jpg</td>\n",
              "      <td>1</td>\n",
              "    </tr>\n",
              "    <tr>\n",
              "      <th>104</th>\n",
              "      <td>frame_0104_incorrecta.jpg</td>\n",
              "      <td>0</td>\n",
              "      <td>/content/sesiones/frame_0104_incorrecta.jpg</td>\n",
              "      <td>0</td>\n",
              "    </tr>\n",
              "    <tr>\n",
              "      <th>105</th>\n",
              "      <td>frame_0105_incorrecta.jpg</td>\n",
              "      <td>0</td>\n",
              "      <td>/content/sesiones/frame_0105_incorrecta.jpg</td>\n",
              "      <td>0</td>\n",
              "    </tr>\n",
              "  </tbody>\n",
              "</table>\n",
              "</div>\n",
              "    <div class=\"colab-df-buttons\">\n",
              "\n",
              "  <div class=\"colab-df-container\">\n",
              "    <button class=\"colab-df-convert\" onclick=\"convertToInteractive('df-b946da88-7480-4154-ba0b-8bf44f9579fe')\"\n",
              "            title=\"Convert this dataframe to an interactive table.\"\n",
              "            style=\"display:none;\">\n",
              "\n",
              "  <svg xmlns=\"http://www.w3.org/2000/svg\" height=\"24px\" viewBox=\"0 -960 960 960\">\n",
              "    <path d=\"M120-120v-720h720v720H120Zm60-500h600v-160H180v160Zm220 220h160v-160H400v160Zm0 220h160v-160H400v160ZM180-400h160v-160H180v160Zm440 0h160v-160H620v160ZM180-180h160v-160H180v160Zm440 0h160v-160H620v160Z\"/>\n",
              "  </svg>\n",
              "    </button>\n",
              "\n",
              "  <style>\n",
              "    .colab-df-container {\n",
              "      display:flex;\n",
              "      gap: 12px;\n",
              "    }\n",
              "\n",
              "    .colab-df-convert {\n",
              "      background-color: #E8F0FE;\n",
              "      border: none;\n",
              "      border-radius: 50%;\n",
              "      cursor: pointer;\n",
              "      display: none;\n",
              "      fill: #1967D2;\n",
              "      height: 32px;\n",
              "      padding: 0 0 0 0;\n",
              "      width: 32px;\n",
              "    }\n",
              "\n",
              "    .colab-df-convert:hover {\n",
              "      background-color: #E2EBFA;\n",
              "      box-shadow: 0px 1px 2px rgba(60, 64, 67, 0.3), 0px 1px 3px 1px rgba(60, 64, 67, 0.15);\n",
              "      fill: #174EA6;\n",
              "    }\n",
              "\n",
              "    .colab-df-buttons div {\n",
              "      margin-bottom: 4px;\n",
              "    }\n",
              "\n",
              "    [theme=dark] .colab-df-convert {\n",
              "      background-color: #3B4455;\n",
              "      fill: #D2E3FC;\n",
              "    }\n",
              "\n",
              "    [theme=dark] .colab-df-convert:hover {\n",
              "      background-color: #434B5C;\n",
              "      box-shadow: 0px 1px 3px 1px rgba(0, 0, 0, 0.15);\n",
              "      filter: drop-shadow(0px 1px 2px rgba(0, 0, 0, 0.3));\n",
              "      fill: #FFFFFF;\n",
              "    }\n",
              "  </style>\n",
              "\n",
              "    <script>\n",
              "      const buttonEl =\n",
              "        document.querySelector('#df-b946da88-7480-4154-ba0b-8bf44f9579fe button.colab-df-convert');\n",
              "      buttonEl.style.display =\n",
              "        google.colab.kernel.accessAllowed ? 'block' : 'none';\n",
              "\n",
              "      async function convertToInteractive(key) {\n",
              "        const element = document.querySelector('#df-b946da88-7480-4154-ba0b-8bf44f9579fe');\n",
              "        const dataTable =\n",
              "          await google.colab.kernel.invokeFunction('convertToInteractive',\n",
              "                                                    [key], {});\n",
              "        if (!dataTable) return;\n",
              "\n",
              "        const docLinkHtml = 'Like what you see? Visit the ' +\n",
              "          '<a target=\"_blank\" href=https://colab.research.google.com/notebooks/data_table.ipynb>data table notebook</a>'\n",
              "          + ' to learn more about interactive tables.';\n",
              "        element.innerHTML = '';\n",
              "        dataTable['output_type'] = 'display_data';\n",
              "        await google.colab.output.renderOutput(dataTable, element);\n",
              "        const docLink = document.createElement('div');\n",
              "        docLink.innerHTML = docLinkHtml;\n",
              "        element.appendChild(docLink);\n",
              "      }\n",
              "    </script>\n",
              "  </div>\n",
              "\n",
              "\n",
              "    <div id=\"df-48a6f636-ca8c-46f0-8666-d2d7ff31b2f7\">\n",
              "      <button class=\"colab-df-quickchart\" onclick=\"quickchart('df-48a6f636-ca8c-46f0-8666-d2d7ff31b2f7')\"\n",
              "                title=\"Suggest charts\"\n",
              "                style=\"display:none;\">\n",
              "\n",
              "<svg xmlns=\"http://www.w3.org/2000/svg\" height=\"24px\"viewBox=\"0 0 24 24\"\n",
              "     width=\"24px\">\n",
              "    <g>\n",
              "        <path d=\"M19 3H5c-1.1 0-2 .9-2 2v14c0 1.1.9 2 2 2h14c1.1 0 2-.9 2-2V5c0-1.1-.9-2-2-2zM9 17H7v-7h2v7zm4 0h-2V7h2v10zm4 0h-2v-4h2v4z\"/>\n",
              "    </g>\n",
              "</svg>\n",
              "      </button>\n",
              "\n",
              "<style>\n",
              "  .colab-df-quickchart {\n",
              "      --bg-color: #E8F0FE;\n",
              "      --fill-color: #1967D2;\n",
              "      --hover-bg-color: #E2EBFA;\n",
              "      --hover-fill-color: #174EA6;\n",
              "      --disabled-fill-color: #AAA;\n",
              "      --disabled-bg-color: #DDD;\n",
              "  }\n",
              "\n",
              "  [theme=dark] .colab-df-quickchart {\n",
              "      --bg-color: #3B4455;\n",
              "      --fill-color: #D2E3FC;\n",
              "      --hover-bg-color: #434B5C;\n",
              "      --hover-fill-color: #FFFFFF;\n",
              "      --disabled-bg-color: #3B4455;\n",
              "      --disabled-fill-color: #666;\n",
              "  }\n",
              "\n",
              "  .colab-df-quickchart {\n",
              "    background-color: var(--bg-color);\n",
              "    border: none;\n",
              "    border-radius: 50%;\n",
              "    cursor: pointer;\n",
              "    display: none;\n",
              "    fill: var(--fill-color);\n",
              "    height: 32px;\n",
              "    padding: 0;\n",
              "    width: 32px;\n",
              "  }\n",
              "\n",
              "  .colab-df-quickchart:hover {\n",
              "    background-color: var(--hover-bg-color);\n",
              "    box-shadow: 0 1px 2px rgba(60, 64, 67, 0.3), 0 1px 3px 1px rgba(60, 64, 67, 0.15);\n",
              "    fill: var(--button-hover-fill-color);\n",
              "  }\n",
              "\n",
              "  .colab-df-quickchart-complete:disabled,\n",
              "  .colab-df-quickchart-complete:disabled:hover {\n",
              "    background-color: var(--disabled-bg-color);\n",
              "    fill: var(--disabled-fill-color);\n",
              "    box-shadow: none;\n",
              "  }\n",
              "\n",
              "  .colab-df-spinner {\n",
              "    border: 2px solid var(--fill-color);\n",
              "    border-color: transparent;\n",
              "    border-bottom-color: var(--fill-color);\n",
              "    animation:\n",
              "      spin 1s steps(1) infinite;\n",
              "  }\n",
              "\n",
              "  @keyframes spin {\n",
              "    0% {\n",
              "      border-color: transparent;\n",
              "      border-bottom-color: var(--fill-color);\n",
              "      border-left-color: var(--fill-color);\n",
              "    }\n",
              "    20% {\n",
              "      border-color: transparent;\n",
              "      border-left-color: var(--fill-color);\n",
              "      border-top-color: var(--fill-color);\n",
              "    }\n",
              "    30% {\n",
              "      border-color: transparent;\n",
              "      border-left-color: var(--fill-color);\n",
              "      border-top-color: var(--fill-color);\n",
              "      border-right-color: var(--fill-color);\n",
              "    }\n",
              "    40% {\n",
              "      border-color: transparent;\n",
              "      border-right-color: var(--fill-color);\n",
              "      border-top-color: var(--fill-color);\n",
              "    }\n",
              "    60% {\n",
              "      border-color: transparent;\n",
              "      border-right-color: var(--fill-color);\n",
              "    }\n",
              "    80% {\n",
              "      border-color: transparent;\n",
              "      border-right-color: var(--fill-color);\n",
              "      border-bottom-color: var(--fill-color);\n",
              "    }\n",
              "    90% {\n",
              "      border-color: transparent;\n",
              "      border-bottom-color: var(--fill-color);\n",
              "    }\n",
              "  }\n",
              "</style>\n",
              "\n",
              "      <script>\n",
              "        async function quickchart(key) {\n",
              "          const quickchartButtonEl =\n",
              "            document.querySelector('#' + key + ' button');\n",
              "          quickchartButtonEl.disabled = true;  // To prevent multiple clicks.\n",
              "          quickchartButtonEl.classList.add('colab-df-spinner');\n",
              "          try {\n",
              "            const charts = await google.colab.kernel.invokeFunction(\n",
              "                'suggestCharts', [key], {});\n",
              "          } catch (error) {\n",
              "            console.error('Error during call to suggestCharts:', error);\n",
              "          }\n",
              "          quickchartButtonEl.classList.remove('colab-df-spinner');\n",
              "          quickchartButtonEl.classList.add('colab-df-quickchart-complete');\n",
              "        }\n",
              "        (() => {\n",
              "          let quickchartButtonEl =\n",
              "            document.querySelector('#df-48a6f636-ca8c-46f0-8666-d2d7ff31b2f7 button');\n",
              "          quickchartButtonEl.style.display =\n",
              "            google.colab.kernel.accessAllowed ? 'block' : 'none';\n",
              "        })();\n",
              "      </script>\n",
              "    </div>\n",
              "\n",
              "    </div>\n",
              "  </div>\n"
            ],
            "application/vnd.google.colaboratory.intrinsic+json": {
              "type": "dataframe",
              "summary": "{\n  \"name\": \"df\",\n  \"rows\": 10,\n  \"fields\": [\n    {\n      \"column\": \"frame\",\n      \"properties\": {\n        \"dtype\": \"string\",\n        \"num_unique_values\": 10,\n        \"samples\": [\n          \"frame_0104_incorrecta.jpg\",\n          \"frame_0097_incorrecta.jpg\",\n          \"frame_0101_incorrecta.jpg\"\n        ],\n        \"semantic_type\": \"\",\n        \"description\": \"\"\n      }\n    },\n    {\n      \"column\": \"postura_correcta\",\n      \"properties\": {\n        \"dtype\": \"number\",\n        \"std\": 0,\n        \"min\": 0,\n        \"max\": 1,\n        \"num_unique_values\": 2,\n        \"samples\": [\n          1,\n          0\n        ],\n        \"semantic_type\": \"\",\n        \"description\": \"\"\n      }\n    },\n    {\n      \"column\": \"filename\",\n      \"properties\": {\n        \"dtype\": \"string\",\n        \"num_unique_values\": 10,\n        \"samples\": [\n          \"/content/sesiones/frame_0104_incorrecta.jpg\",\n          \"/content/sesiones/frame_0097_incorrecta.jpg\"\n        ],\n        \"semantic_type\": \"\",\n        \"description\": \"\"\n      }\n    },\n    {\n      \"column\": \"label\",\n      \"properties\": {\n        \"dtype\": \"category\",\n        \"num_unique_values\": 2,\n        \"samples\": [\n          \"1\",\n          \"0\"\n        ],\n        \"semantic_type\": \"\",\n        \"description\": \"\"\n      }\n    }\n  ]\n}"
            }
          },
          "metadata": {},
          "execution_count": 41
        }
      ]
    },
    {
      "cell_type": "markdown",
      "source": [
        "# Paso 2 – Generadores de Imágenes (Entrenamiento y Validación)\n",
        "\n",
        "En este bloque se crean generadores que permiten alimentar la red neuronal con imágenes en lotes (batches),\n",
        "aplicando técnicas de aumento de datos (data augmentation) para mejorar la generalización del modelo.\n",
        "\n",
        "🔹 Se utiliza ImageDataGenerator para:\n",
        "     - Reescalar los píxeles al rango [0, 1].\n",
        "     - Dividir el dataset en un 80% para entrenamiento y un 20% para validación.\n",
        "    - Aplicar transformaciones aleatorias como giros y espejados horizontales.\n",
        "\n",
        "🔹 Los generadores leerán directamente desde el DataFrame las imágenes y sus etiquetas.\n",
        "\n",
        "Esto prepara los datos para ser utilizados por el modelo CNN de forma eficiente.\n"
      ],
      "metadata": {
        "id": "NkZWaz_Wzp-4"
      }
    },
    {
      "cell_type": "code",
      "source": [
        "# --- 6. Preparar los generadores de entrenamiento y validación ---\n",
        "# 80 % train – 20 % valid\n",
        "# Esto crea un generador que además de dividir los datos, aplica transformaciones para aumentar la variedad de imágenes y\n",
        "# mejorar la generalización del modelo.\n",
        "datagen = ImageDataGenerator(\n",
        "    rescale=1./255,          # Normaliza los píxeles (de 0-255 a 0-1)\n",
        "    validation_split=0.2,    # Separa el 20% de los datos para validación\n",
        "    horizontal_flip=True,    # Invierte aleatoriamente las imágenes horizontalmente (solo en train)\n",
        "    rotation_range=5         # Rota aleatoriamente hasta ±5 grados (solo en train)\n",
        ")\n",
        "# Este generador va a ir entregando lotes de imágenes y etiquetas del 80% del dataset, aplicando además las transformaciones.\n",
        "train_gen = datagen.flow_from_dataframe(\n",
        "    df,                     # DataFrame con nombres de archivos e info de etiquetas\n",
        "    x_col=\"filename\",       # Columna con las rutas o nombres de las imágenes\n",
        "    y_col=\"label\",          # Columna con las etiquetas/clases\n",
        "    target_size=(224, 224), # Redimensiona las imágenes a 224x224 píxeles\n",
        "    class_mode=\"binary\",    # Porque es una clasificación binaria (dos clases)\n",
        "    batch_size=32,          # Cantidad de imágenes que se procesan por lote\n",
        "    subset=\"training\",      # Selecciona el 80% de los datos para entrenamiento\n",
        "    shuffle=True            # Mezcla los datos aleatoriamente (importante para entrenamiento)\n",
        ")\n",
        "#Este generador entrega el 20% restante, sin mezclar ni aplicar transformaciones fuertes (solo el rescale)\n",
        "val_gen = datagen.flow_from_dataframe(\n",
        "    df,\n",
        "    x_col=\"filename\",\n",
        "    y_col=\"label\",\n",
        "    target_size=(224, 224),\n",
        "    class_mode=\"binary\",\n",
        "    batch_size=32,\n",
        "    subset=\"validation\",    # Selecciona el 20% de los datos para validación\n",
        "    shuffle=False           # No mezcla los datos, útil para comparar resultados\n",
        ")\n",
        "\n",
        "# --- 7. Crear el modelo CNN con MobileNetV2 ---\n",
        "base = tf.keras.applications.MobileNetV2(\n",
        "    input_shape=(224, 224, 3),\n",
        "    include_top=False,\n",
        "    weights='imagenet'\n",
        ")\n",
        "base.trainable = False  # Congelamos el modelo base\n",
        "\n",
        "model = models.Sequential([\n",
        "    base,\n",
        "    layers.GlobalAveragePooling2D(),\n",
        "    layers.Dense(128, activation='relu'),\n",
        "    layers.Dropout(0.3),\n",
        "    layers.Dense(1, activation='sigmoid')  # Clasificación binaria\n",
        "])\n",
        "\n",
        "model.compile(\n",
        "    optimizer='adam',\n",
        "    loss='binary_crossentropy',\n",
        "    metrics=['accuracy']\n",
        ")\n",
        "\n",
        "model.summary()"
      ],
      "metadata": {
        "colab": {
          "base_uri": "https://localhost:8080/",
          "height": 371
        },
        "id": "84k6jsArSVId",
        "outputId": "4734ff04-ec33-4e6e-d6cb-04692cba6f22"
      },
      "execution_count": null,
      "outputs": [
        {
          "output_type": "stream",
          "name": "stdout",
          "text": [
            "Found 80 validated image filenames belonging to 2 classes.\n",
            "Found 20 validated image filenames belonging to 2 classes.\n"
          ]
        },
        {
          "output_type": "display_data",
          "data": {
            "text/plain": [
              "\u001b[1mModel: \"sequential_2\"\u001b[0m\n"
            ],
            "text/html": [
              "<pre style=\"white-space:pre;overflow-x:auto;line-height:normal;font-family:Menlo,'DejaVu Sans Mono',consolas,'Courier New',monospace\"><span style=\"font-weight: bold\">Model: \"sequential_2\"</span>\n",
              "</pre>\n"
            ]
          },
          "metadata": {}
        },
        {
          "output_type": "display_data",
          "data": {
            "text/plain": [
              "┏━━━━━━━━━━━━━━━━━━━━━━━━━━━━━━━━━┳━━━━━━━━━━━━━━━━━━━━━━━━┳━━━━━━━━━━━━━━━┓\n",
              "┃\u001b[1m \u001b[0m\u001b[1mLayer (type)                   \u001b[0m\u001b[1m \u001b[0m┃\u001b[1m \u001b[0m\u001b[1mOutput Shape          \u001b[0m\u001b[1m \u001b[0m┃\u001b[1m \u001b[0m\u001b[1m      Param #\u001b[0m\u001b[1m \u001b[0m┃\n",
              "┡━━━━━━━━━━━━━━━━━━━━━━━━━━━━━━━━━╇━━━━━━━━━━━━━━━━━━━━━━━━╇━━━━━━━━━━━━━━━┩\n",
              "│ mobilenetv2_1.00_224            │ (\u001b[38;5;45mNone\u001b[0m, \u001b[38;5;34m7\u001b[0m, \u001b[38;5;34m7\u001b[0m, \u001b[38;5;34m1280\u001b[0m)     │     \u001b[38;5;34m2,257,984\u001b[0m │\n",
              "│ (\u001b[38;5;33mFunctional\u001b[0m)                    │                        │               │\n",
              "├─────────────────────────────────┼────────────────────────┼───────────────┤\n",
              "│ global_average_pooling2d_2      │ (\u001b[38;5;45mNone\u001b[0m, \u001b[38;5;34m1280\u001b[0m)           │             \u001b[38;5;34m0\u001b[0m │\n",
              "│ (\u001b[38;5;33mGlobalAveragePooling2D\u001b[0m)        │                        │               │\n",
              "├─────────────────────────────────┼────────────────────────┼───────────────┤\n",
              "│ dense_4 (\u001b[38;5;33mDense\u001b[0m)                 │ (\u001b[38;5;45mNone\u001b[0m, \u001b[38;5;34m128\u001b[0m)            │       \u001b[38;5;34m163,968\u001b[0m │\n",
              "├─────────────────────────────────┼────────────────────────┼───────────────┤\n",
              "│ dropout_2 (\u001b[38;5;33mDropout\u001b[0m)             │ (\u001b[38;5;45mNone\u001b[0m, \u001b[38;5;34m128\u001b[0m)            │             \u001b[38;5;34m0\u001b[0m │\n",
              "├─────────────────────────────────┼────────────────────────┼───────────────┤\n",
              "│ dense_5 (\u001b[38;5;33mDense\u001b[0m)                 │ (\u001b[38;5;45mNone\u001b[0m, \u001b[38;5;34m1\u001b[0m)              │           \u001b[38;5;34m129\u001b[0m │\n",
              "└─────────────────────────────────┴────────────────────────┴───────────────┘\n"
            ],
            "text/html": [
              "<pre style=\"white-space:pre;overflow-x:auto;line-height:normal;font-family:Menlo,'DejaVu Sans Mono',consolas,'Courier New',monospace\">┏━━━━━━━━━━━━━━━━━━━━━━━━━━━━━━━━━┳━━━━━━━━━━━━━━━━━━━━━━━━┳━━━━━━━━━━━━━━━┓\n",
              "┃<span style=\"font-weight: bold\"> Layer (type)                    </span>┃<span style=\"font-weight: bold\"> Output Shape           </span>┃<span style=\"font-weight: bold\">       Param # </span>┃\n",
              "┡━━━━━━━━━━━━━━━━━━━━━━━━━━━━━━━━━╇━━━━━━━━━━━━━━━━━━━━━━━━╇━━━━━━━━━━━━━━━┩\n",
              "│ mobilenetv2_1.00_224            │ (<span style=\"color: #00d7ff; text-decoration-color: #00d7ff\">None</span>, <span style=\"color: #00af00; text-decoration-color: #00af00\">7</span>, <span style=\"color: #00af00; text-decoration-color: #00af00\">7</span>, <span style=\"color: #00af00; text-decoration-color: #00af00\">1280</span>)     │     <span style=\"color: #00af00; text-decoration-color: #00af00\">2,257,984</span> │\n",
              "│ (<span style=\"color: #0087ff; text-decoration-color: #0087ff\">Functional</span>)                    │                        │               │\n",
              "├─────────────────────────────────┼────────────────────────┼───────────────┤\n",
              "│ global_average_pooling2d_2      │ (<span style=\"color: #00d7ff; text-decoration-color: #00d7ff\">None</span>, <span style=\"color: #00af00; text-decoration-color: #00af00\">1280</span>)           │             <span style=\"color: #00af00; text-decoration-color: #00af00\">0</span> │\n",
              "│ (<span style=\"color: #0087ff; text-decoration-color: #0087ff\">GlobalAveragePooling2D</span>)        │                        │               │\n",
              "├─────────────────────────────────┼────────────────────────┼───────────────┤\n",
              "│ dense_4 (<span style=\"color: #0087ff; text-decoration-color: #0087ff\">Dense</span>)                 │ (<span style=\"color: #00d7ff; text-decoration-color: #00d7ff\">None</span>, <span style=\"color: #00af00; text-decoration-color: #00af00\">128</span>)            │       <span style=\"color: #00af00; text-decoration-color: #00af00\">163,968</span> │\n",
              "├─────────────────────────────────┼────────────────────────┼───────────────┤\n",
              "│ dropout_2 (<span style=\"color: #0087ff; text-decoration-color: #0087ff\">Dropout</span>)             │ (<span style=\"color: #00d7ff; text-decoration-color: #00d7ff\">None</span>, <span style=\"color: #00af00; text-decoration-color: #00af00\">128</span>)            │             <span style=\"color: #00af00; text-decoration-color: #00af00\">0</span> │\n",
              "├─────────────────────────────────┼────────────────────────┼───────────────┤\n",
              "│ dense_5 (<span style=\"color: #0087ff; text-decoration-color: #0087ff\">Dense</span>)                 │ (<span style=\"color: #00d7ff; text-decoration-color: #00d7ff\">None</span>, <span style=\"color: #00af00; text-decoration-color: #00af00\">1</span>)              │           <span style=\"color: #00af00; text-decoration-color: #00af00\">129</span> │\n",
              "└─────────────────────────────────┴────────────────────────┴───────────────┘\n",
              "</pre>\n"
            ]
          },
          "metadata": {}
        },
        {
          "output_type": "display_data",
          "data": {
            "text/plain": [
              "\u001b[1m Total params: \u001b[0m\u001b[38;5;34m2,422,081\u001b[0m (9.24 MB)\n"
            ],
            "text/html": [
              "<pre style=\"white-space:pre;overflow-x:auto;line-height:normal;font-family:Menlo,'DejaVu Sans Mono',consolas,'Courier New',monospace\"><span style=\"font-weight: bold\"> Total params: </span><span style=\"color: #00af00; text-decoration-color: #00af00\">2,422,081</span> (9.24 MB)\n",
              "</pre>\n"
            ]
          },
          "metadata": {}
        },
        {
          "output_type": "display_data",
          "data": {
            "text/plain": [
              "\u001b[1m Trainable params: \u001b[0m\u001b[38;5;34m164,097\u001b[0m (641.00 KB)\n"
            ],
            "text/html": [
              "<pre style=\"white-space:pre;overflow-x:auto;line-height:normal;font-family:Menlo,'DejaVu Sans Mono',consolas,'Courier New',monospace\"><span style=\"font-weight: bold\"> Trainable params: </span><span style=\"color: #00af00; text-decoration-color: #00af00\">164,097</span> (641.00 KB)\n",
              "</pre>\n"
            ]
          },
          "metadata": {}
        },
        {
          "output_type": "display_data",
          "data": {
            "text/plain": [
              "\u001b[1m Non-trainable params: \u001b[0m\u001b[38;5;34m2,257,984\u001b[0m (8.61 MB)\n"
            ],
            "text/html": [
              "<pre style=\"white-space:pre;overflow-x:auto;line-height:normal;font-family:Menlo,'DejaVu Sans Mono',consolas,'Courier New',monospace\"><span style=\"font-weight: bold\"> Non-trainable params: </span><span style=\"color: #00af00; text-decoration-color: #00af00\">2,257,984</span> (8.61 MB)\n",
              "</pre>\n"
            ]
          },
          "metadata": {}
        }
      ]
    },
    {
      "cell_type": "markdown",
      "source": [
        "\n",
        "**Modelo (CNN sencilla o Transfer Learning)**\n",
        "\n",
        "Opción rápida y potente – MobileNetV2 congelada\n",
        "¿Qué es MobileNetV2 congelada?\n",
        "MobileNetV2 es una red neuronal convolucional preentrenada por Google sobre millones de imágenes (ImageNet). Está diseñada para ser liviana y rápida, ideal para aplicaciones en móviles o tiempo real.\n",
        "\n",
        "\"Congelada\" significa que no vamos a entrenar sus capas internas (esas ya aprendieron a detectar bordes, formas, texturas, etc.). Solo usaremos su salida como base para que nuestra red aprenda a clasificar \"postura correcta\" o \"incorrecta\"."
      ],
      "metadata": {
        "id": "5ZSchwAVzxnI"
      }
    },
    {
      "cell_type": "code",
      "source": [
        "history = model.fit(\n",
        "    train_gen,\n",
        "    validation_data=val_gen,\n",
        "    epochs=10  # prueba 10 épocas; ajusta según over/under-fitting\n",
        ")"
      ],
      "metadata": {
        "colab": {
          "base_uri": "https://localhost:8080/"
        },
        "id": "FFRz7lJRX2v6",
        "outputId": "0e83d974-6ab7-436e-9ee1-d26837b85e13"
      },
      "execution_count": null,
      "outputs": [
        {
          "output_type": "stream",
          "name": "stderr",
          "text": [
            "/usr/local/lib/python3.11/dist-packages/keras/src/trainers/data_adapters/py_dataset_adapter.py:121: UserWarning: Your `PyDataset` class should call `super().__init__(**kwargs)` in its constructor. `**kwargs` can include `workers`, `use_multiprocessing`, `max_queue_size`. Do not pass these arguments to `fit()`, as they will be ignored.\n",
            "  self._warn_if_super_not_called()\n"
          ]
        },
        {
          "output_type": "stream",
          "name": "stdout",
          "text": [
            "Epoch 1/10\n",
            "\u001b[1m3/3\u001b[0m \u001b[32m━━━━━━━━━━━━━━━━━━━━\u001b[0m\u001b[37m\u001b[0m \u001b[1m0s\u001b[0m 1s/step - accuracy: 0.5917 - loss: 0.9543   "
          ]
        },
        {
          "output_type": "stream",
          "name": "stderr",
          "text": [
            "/usr/local/lib/python3.11/dist-packages/keras/src/trainers/data_adapters/py_dataset_adapter.py:121: UserWarning: Your `PyDataset` class should call `super().__init__(**kwargs)` in its constructor. `**kwargs` can include `workers`, `use_multiprocessing`, `max_queue_size`. Do not pass these arguments to `fit()`, as they will be ignored.\n",
            "  self._warn_if_super_not_called()\n"
          ]
        },
        {
          "output_type": "stream",
          "name": "stdout",
          "text": [
            "\b\b\b\b\b\b\b\b\b\b\b\b\b\b\b\b\b\b\b\b\b\b\b\b\b\b\b\b\b\b\b\b\b\b\b\b\b\b\b\b\b\b\b\b\b\b\b\b\b\b\b\b\b\b\b\b\b\b\b\b\b\b\b\b\b\b\b\b\b\r\u001b[1m3/3\u001b[0m \u001b[32m━━━━━━━━━━━━━━━━━━━━\u001b[0m\u001b[37m\u001b[0m \u001b[1m11s\u001b[0m 2s/step - accuracy: 0.6062 - loss: 0.9692 - val_accuracy: 0.5000 - val_loss: 1.9988\n",
            "Epoch 2/10\n",
            "\u001b[1m3/3\u001b[0m \u001b[32m━━━━━━━━━━━━━━━━━━━━\u001b[0m\u001b[37m\u001b[0m \u001b[1m3s\u001b[0m 1s/step - accuracy: 0.6727 - loss: 1.1085 - val_accuracy: 0.5000 - val_loss: 0.6691\n",
            "Epoch 3/10\n",
            "\u001b[1m3/3\u001b[0m \u001b[32m━━━━━━━━━━━━━━━━━━━━\u001b[0m\u001b[37m\u001b[0m \u001b[1m4s\u001b[0m 1s/step - accuracy: 0.6339 - loss: 0.6907 - val_accuracy: 0.8000 - val_loss: 0.6082\n",
            "Epoch 4/10\n",
            "\u001b[1m3/3\u001b[0m \u001b[32m━━━━━━━━━━━━━━━━━━━━\u001b[0m\u001b[37m\u001b[0m \u001b[1m4s\u001b[0m 943ms/step - accuracy: 0.6242 - loss: 0.6889 - val_accuracy: 0.5000 - val_loss: 0.9296\n",
            "Epoch 5/10\n",
            "\u001b[1m3/3\u001b[0m \u001b[32m━━━━━━━━━━━━━━━━━━━━\u001b[0m\u001b[37m\u001b[0m \u001b[1m3s\u001b[0m 988ms/step - accuracy: 0.6411 - loss: 0.5789 - val_accuracy: 0.5000 - val_loss: 1.0969\n",
            "Epoch 6/10\n",
            "\u001b[1m3/3\u001b[0m \u001b[32m━━━━━━━━━━━━━━━━━━━━\u001b[0m\u001b[37m\u001b[0m \u001b[1m6s\u001b[0m 1s/step - accuracy: 0.6750 - loss: 0.5637 - val_accuracy: 0.5000 - val_loss: 0.8277\n",
            "Epoch 7/10\n",
            "\u001b[1m3/3\u001b[0m \u001b[32m━━━━━━━━━━━━━━━━━━━━\u001b[0m\u001b[37m\u001b[0m \u001b[1m4s\u001b[0m 990ms/step - accuracy: 0.7245 - loss: 0.4596 - val_accuracy: 0.5000 - val_loss: 0.6670\n",
            "Epoch 8/10\n",
            "\u001b[1m3/3\u001b[0m \u001b[32m━━━━━━━━━━━━━━━━━━━━\u001b[0m\u001b[37m\u001b[0m \u001b[1m3s\u001b[0m 967ms/step - accuracy: 0.6740 - loss: 0.5259 - val_accuracy: 0.5000 - val_loss: 0.6904\n",
            "Epoch 9/10\n",
            "\u001b[1m3/3\u001b[0m \u001b[32m━━━━━━━━━━━━━━━━━━━━\u001b[0m\u001b[37m\u001b[0m \u001b[1m4s\u001b[0m 1s/step - accuracy: 0.7039 - loss: 0.5501 - val_accuracy: 0.5000 - val_loss: 0.7370\n",
            "Epoch 10/10\n",
            "\u001b[1m3/3\u001b[0m \u001b[32m━━━━━━━━━━━━━━━━━━━━\u001b[0m\u001b[37m\u001b[0m \u001b[1m5s\u001b[0m 931ms/step - accuracy: 0.7102 - loss: 0.4953 - val_accuracy: 0.5000 - val_loss: 0.9720\n"
          ]
        }
      ]
    },
    {
      "cell_type": "markdown",
      "source": [
        "Curvas y evaluación"
      ],
      "metadata": {
        "id": "JI3DS_of0DBE"
      }
    },
    {
      "cell_type": "code",
      "source": [
        "plt.plot(history.history['accuracy'], label='train')\n",
        "plt.plot(history.history['val_accuracy'], label='val')\n",
        "plt.title('Precisión'); plt.legend(); plt.show()\n",
        "\n",
        "val_loss, val_acc = model.evaluate(val_gen)\n",
        "print(f\"Precisión validación: {val_acc:.2%}\")"
      ],
      "metadata": {
        "colab": {
          "base_uri": "https://localhost:8080/",
          "height": 489
        },
        "id": "B7VQLaGh0DYm",
        "outputId": "b68d084b-3419-48a9-b3ce-4b043679daf4"
      },
      "execution_count": null,
      "outputs": [
        {
          "output_type": "display_data",
          "data": {
            "text/plain": [
              "<Figure size 640x480 with 1 Axes>"
            ],
            "image/png": "[encoded data removed]"
          },
          "metadata": {}
        },
        {
          "output_type": "stream",
          "name": "stdout",
          "text": [
            "\u001b[1m1/1\u001b[0m \u001b[32m━━━━━━━━━━━━━━━━━━━━\u001b[0m\u001b[37m\u001b[0m \u001b[1m1s\u001b[0m 660ms/step - accuracy: 0.5000 - loss: 0.8786\n",
            "Precisión validación: 50.00%\n"
          ]
        }
      ]
    },
    {
      "cell_type": "markdown",
      "source": [
        "**Grafico de lineas que muestra:**\n",
        "\n",
        "**En azul**: la precisión (accuracy) del modelo sobre los datos de entrenamiento en cada época ('accuracy').\n",
        "\n",
        "**En naranja**: la precisión sobre el conjunto de validación ('val_accuracy').\n",
        "\n",
        "El eje x muestra las épocas de entrenamiento (de 0 a 9).\n",
        "\n",
        "El eje y muestra la precisión (de 0 a 1).\n",
        "\n",
        "Se observa que la precisión en entrenamiento es buena (cercana a 1), pero la validación fluctúa mucho, incluso baja a 0 en algunos momentos.\n",
        "\n",
        "**¿Qué indica esto?**\n",
        "\n",
        "Hay overfitting: el modelo aprende bien los datos de entrenamiento pero no generaliza bien a los datos nuevos.\n",
        "\n",
        "**La validación es muy baja e inestable, lo que indica que:**\n",
        "\n",
        "Hay muy pocos datos.\n",
        "\n",
        "O las clases están desequilibradas o mal etiquetadas.\n",
        "\n",
        "O el modelo está demasiado complejo para la cantidad de datos que tiene."
      ],
      "metadata": {
        "id": "V2QASUs30nhr"
      }
    },
    {
      "cell_type": "code",
      "source": [
        "model.save(\"modelo_postura.h5\")"
      ],
      "metadata": {
        "colab": {
          "base_uri": "https://localhost:8080/"
        },
        "id": "uKwYsC0D0K_v",
        "outputId": "adb494b3-db83-4d48-9db3-494c5fae0c45"
      },
      "execution_count": null,
      "outputs": [
        {
          "output_type": "stream",
          "name": "stderr",
          "text": [
            "WARNING:absl:You are saving your model as an HDF5 file via `model.save()` or `keras.saving.save_model(model)`. This file format is considered legacy. We recommend using instead the native Keras format, e.g. `model.save('my_model.keras')` or `keras.saving.save_model(model, 'my_model.keras')`. \n"
          ]
        }
      ]
    },
    {
      "cell_type": "markdown",
      "source": [
        "Guardar el modelo **modelo_postura.h5** permite:\n",
        "\n",
        "Cargar el modelo más adelante con load_model.\n",
        "\n",
        "Reutilizarlo sin necesidad de volver a entrenar.\n",
        "\n",
        "Compartirlo o usarlo en producción."
      ],
      "metadata": {
        "id": "Pss8LG5i1J6m"
      }
    },
    {
      "cell_type": "markdown",
      "source": [
        "Este código permite reentrenar un modelo de red neuronal previamente entrenado, usando exclusivamente los datos de una nueva sesión de captura de posturas.\n",
        "\n",
        "🔹 Carga un archivo .zip que contiene imágenes y un archivo CSV con las etiquetas (postura_correcta), y los extrae en una carpeta temporal.\n",
        "\n",
        "🔹 Prepara los datos, generando rutas completas a cada imagen y convirtiendo las etiquetas a texto para que puedan usarse en el entrenamiento.\n",
        "\n",
        "🔹 Carga el modelo existente (modelo_postura.h5) y lo recompila para asegurarse de que esté listo para continuar entrenando.\n",
        "\n",
        "🔹 Configura generadores de imágenes (ImageDataGenerator) que dividen los datos en entrenamiento y validación, aplicando además pequeñas transformaciones como rotaciones e inversión horizontal para aumentar la variedad de datos.\n",
        "\n",
        "🔹 Entrena el modelo durante 10 épocas con esta nueva información.\n",
        "\n",
        "🔹 Guarda el modelo actualizado, sobreescribiendo el archivo original con los nuevos pesos aprendidos."
      ],
      "metadata": {
        "id": "z4rUNTA_m04F"
      }
    },
    {
      "cell_type": "code",
      "source": [
        "# === FLUJO PARA REENTRENAR EL MODELO SOLO CON NUEVA SESIÓN ===\n",
        "\n",
        "import zipfile\n",
        "import pandas as pd\n",
        "import os\n",
        "import numpy as np\n",
        "import tensorflow as tf\n",
        "from tensorflow.keras.models import load_model\n",
        "from tensorflow.keras.preprocessing.image import ImageDataGenerator\n",
        "\n",
        "# --- 1. RUTA AL ZIP DE LA NUEVA SESIÓN ---\n",
        "zip_path = \"/content/sesiones/2025_06_26_191405.zip\"  # <- Cambiar si es necesario\n",
        "extract_path = \"/content/posturas_dataset\"\n",
        "\n",
        "with zipfile.ZipFile(zip_path, \"r\") as zip_ref:\n",
        "    zip_ref.extractall(extract_path)\n",
        "\n",
        "# --- 2. Cargar el CSV y preparar columnas ---\n",
        "csv_path = os.path.join(extract_path, \"dataset_postura.csv\")\n",
        "df = pd.read_csv(csv_path)\n",
        "df[\"filename\"] = df[\"frame\"].apply(lambda x: os.path.join(extract_path, x))\n",
        "df[\"label\"] = df[\"postura_correcta\"].astype(str)\n",
        "\n",
        "# --- 3. Cargar el modelo previamente entrenado ---\n",
        "model = load_model(\"modelo_postura.h5\")\n",
        "\n",
        "# 🔧 Compilar de nuevo el modelo\n",
        "model.compile(\n",
        "    optimizer='adam',\n",
        "    loss='binary_crossentropy',\n",
        "    metrics=['accuracy']\n",
        ")\n",
        "\n",
        "# --- 4. Preparar los generadores de entrenamiento y validación ---\n",
        "datagen = ImageDataGenerator(\n",
        "    rescale=1./255,\n",
        "    validation_split=0.2,\n",
        "    horizontal_flip=True,\n",
        "    rotation_range=5\n",
        ")\n",
        "df = df[df[\"label\"].isin([\"0\", \"1\"])]  # Solo usamos las clases válidas\n",
        "\n",
        "train_gen = datagen.flow_from_dataframe(\n",
        "    df,\n",
        "    x_col=\"filename\",\n",
        "    y_col=\"label\",\n",
        "    target_size=(224, 224),\n",
        "    class_mode=\"binary\",\n",
        "    batch_size=32,\n",
        "    subset=\"training\",\n",
        "    shuffle=True\n",
        ")\n",
        "\n",
        "val_gen = datagen.flow_from_dataframe(\n",
        "    df,\n",
        "    x_col=\"filename\",\n",
        "    y_col=\"label\",\n",
        "    target_size=(224, 224),\n",
        "    class_mode=\"binary\",\n",
        "    batch_size=32,\n",
        "    subset=\"validation\",\n",
        "    shuffle=False\n",
        ")\n",
        "\n",
        "# --- 5. Reentrenar el modelo con los nuevos datos ---\n",
        "history = model.fit(\n",
        "    train_gen,\n",
        "    validation_data=val_gen,\n",
        "    epochs=10  # Ajustar si querés más o menos\n",
        ")\n",
        "\n",
        "# --- 6. Guardar el modelo actualizado ---\n",
        "model.save(\"modelo_postura.h5\")\n"
      ],
      "metadata": {
        "colab": {
          "base_uri": "https://localhost:8080/"
        },
        "id": "yRbyTkelq4iG",
        "outputId": "2ec14366-ea62-44fa-d5b8-bd23f0a7c0ba"
      },
      "execution_count": null,
      "outputs": [
        {
          "output_type": "stream",
          "name": "stderr",
          "text": [
            "WARNING:absl:Compiled the loaded model, but the compiled metrics have yet to be built. `model.compile_metrics` will be empty until you train or evaluate the model.\n"
          ]
        },
        {
          "output_type": "stream",
          "name": "stdout",
          "text": [
            "Found 84 validated image filenames belonging to 2 classes.\n",
            "Found 21 validated image filenames belonging to 2 classes.\n"
          ]
        },
        {
          "output_type": "stream",
          "name": "stderr",
          "text": [
            "/usr/local/lib/python3.11/dist-packages/keras/src/trainers/data_adapters/py_dataset_adapter.py:121: UserWarning: Your `PyDataset` class should call `super().__init__(**kwargs)` in its constructor. `**kwargs` can include `workers`, `use_multiprocessing`, `max_queue_size`. Do not pass these arguments to `fit()`, as they will be ignored.\n",
            "  self._warn_if_super_not_called()\n"
          ]
        },
        {
          "output_type": "stream",
          "name": "stdout",
          "text": [
            "Epoch 1/10\n",
            "\u001b[1m3/3\u001b[0m \u001b[32m━━━━━━━━━━━━━━━━━━━━\u001b[0m\u001b[37m\u001b[0m \u001b[1m0s\u001b[0m 892ms/step - accuracy: 0.6943 - loss: 0.9547"
          ]
        },
        {
          "output_type": "stream",
          "name": "stderr",
          "text": [
            "/usr/local/lib/python3.11/dist-packages/keras/src/trainers/data_adapters/py_dataset_adapter.py:121: UserWarning: Your `PyDataset` class should call `super().__init__(**kwargs)` in its constructor. `**kwargs` can include `workers`, `use_multiprocessing`, `max_queue_size`. Do not pass these arguments to `fit()`, as they will be ignored.\n",
            "  self._warn_if_super_not_called()\n"
          ]
        },
        {
          "output_type": "stream",
          "name": "stdout",
          "text": [
            "\b\b\b\b\b\b\b\b\b\b\b\b\b\b\b\b\b\b\b\b\b\b\b\b\b\b\b\b\b\b\b\b\b\b\b\b\b\b\b\b\b\b\b\b\b\b\b\b\b\b\b\b\b\b\b\b\b\b\b\b\b\b\b\b\b\b\b\b\b\b\b\b\r\u001b[1m3/3\u001b[0m \u001b[32m━━━━━━━━━━━━━━━━━━━━\u001b[0m\u001b[37m\u001b[0m \u001b[1m10s\u001b[0m 2s/step - accuracy: 0.6636 - loss: 0.9584 - val_accuracy: 0.2857 - val_loss: 1.0017\n",
            "Epoch 2/10\n",
            "\u001b[1m3/3\u001b[0m \u001b[32m━━━━━━━━━━━━━━━━━━━━\u001b[0m\u001b[37m\u001b[0m \u001b[1m4s\u001b[0m 1s/step - accuracy: 0.3899 - loss: 0.9979 - val_accuracy: 0.3333 - val_loss: 0.9020\n",
            "Epoch 3/10\n",
            "\u001b[1m3/3\u001b[0m \u001b[32m━━━━━━━━━━━━━━━━━━━━\u001b[0m\u001b[37m\u001b[0m \u001b[1m3s\u001b[0m 1s/step - accuracy: 0.5910 - loss: 0.7214 - val_accuracy: 0.7143 - val_loss: 0.5535\n",
            "Epoch 4/10\n",
            "\u001b[1m3/3\u001b[0m \u001b[32m━━━━━━━━━━━━━━━━━━━━\u001b[0m\u001b[37m\u001b[0m \u001b[1m4s\u001b[0m 1s/step - accuracy: 0.6083 - loss: 0.6546 - val_accuracy: 0.7143 - val_loss: 0.5865\n",
            "Epoch 5/10\n",
            "\u001b[1m3/3\u001b[0m \u001b[32m━━━━━━━━━━━━━━━━━━━━\u001b[0m\u001b[37m\u001b[0m \u001b[1m5s\u001b[0m 1s/step - accuracy: 0.5926 - loss: 0.7092 - val_accuracy: 0.7143 - val_loss: 0.5694\n",
            "Epoch 6/10\n"
          ]
        },
        {
          "output_type": "stream",
          "name": "stderr",
          "text": [
            "/usr/local/lib/python3.11/dist-packages/keras/src/legacy/preprocessing/image.py:1880: DeprecationWarning: Please import `affine_transform` from the `scipy.ndimage` namespace; the `scipy.ndimage.interpolation` namespace is deprecated and will be removed in SciPy 2.0.0.\n",
            "  scipy.ndimage.interpolation.affine_transform(\n"
          ]
        },
        {
          "output_type": "stream",
          "name": "stdout",
          "text": [
            "\u001b[1m3/3\u001b[0m \u001b[32m━━━━━━━━━━━━━━━━━━━━\u001b[0m\u001b[37m\u001b[0m \u001b[1m3s\u001b[0m 1s/step - accuracy: 0.7108 - loss: 0.5460 - val_accuracy: 0.7143 - val_loss: 0.5881\n",
            "Epoch 7/10\n",
            "\u001b[1m3/3\u001b[0m \u001b[32m━━━━━━━━━━━━━━━━━━━━\u001b[0m\u001b[37m\u001b[0m \u001b[1m4s\u001b[0m 2s/step - accuracy: 0.7475 - loss: 0.5207 - val_accuracy: 0.4762 - val_loss: 0.7129\n",
            "Epoch 8/10\n",
            "\u001b[1m3/3\u001b[0m \u001b[32m━━━━━━━━━━━━━━━━━━━━\u001b[0m\u001b[37m\u001b[0m \u001b[1m3s\u001b[0m 1s/step - accuracy: 0.8870 - loss: 0.4791 - val_accuracy: 0.5714 - val_loss: 0.6660\n",
            "Epoch 9/10\n",
            "\u001b[1m3/3\u001b[0m \u001b[32m━━━━━━━━━━━━━━━━━━━━\u001b[0m\u001b[37m\u001b[0m \u001b[1m5s\u001b[0m 1s/step - accuracy: 0.8757 - loss: 0.4371 - val_accuracy: 0.6190 - val_loss: 0.6889\n",
            "Epoch 10/10\n",
            "\u001b[1m3/3\u001b[0m \u001b[32m━━━━━━━━━━━━━━━━━━━━\u001b[0m\u001b[37m\u001b[0m \u001b[1m5s\u001b[0m 2s/step - accuracy: 0.7816 - loss: 0.4349 - val_accuracy: 0.6667 - val_loss: 0.6652\n"
          ]
        },
        {
          "output_type": "stream",
          "name": "stderr",
          "text": [
            "WARNING:absl:You are saving your model as an HDF5 file via `model.save()` or `keras.saving.save_model(model)`. This file format is considered legacy. We recommend using instead the native Keras format, e.g. `model.save('my_model.keras')` or `keras.saving.save_model(model, 'my_model.keras')`. \n"
          ]
        }
      ]
    },
    {
      "cell_type": "code",
      "source": [
        "print(df[\"label\"].value_counts())\n"
      ],
      "metadata": {
        "colab": {
          "base_uri": "https://localhost:8080/"
        },
        "id": "78RJXx-7stK0",
        "outputId": "6a93ed22-a658-45e1-84ce-7ddba9e4856f"
      },
      "execution_count": null,
      "outputs": [
        {
          "output_type": "stream",
          "name": "stdout",
          "text": [
            "label\n",
            "0    66\n",
            "1    39\n",
            "Name: count, dtype: int64\n"
          ]
        }
      ]
    },
    {
      "cell_type": "code",
      "source": [
        "plt.plot(history.history['accuracy'], label='train')\n",
        "plt.plot(history.history['val_accuracy'], label='val')\n",
        "plt.title('Precisión'); plt.legend(); plt.show()\n",
        "\n",
        "val_loss, val_acc = model.evaluate(val_gen)\n",
        "print(f\"Precisión validación: {val_acc:.2%}\")"
      ],
      "metadata": {
        "colab": {
          "base_uri": "https://localhost:8080/",
          "height": 489
        },
        "id": "C_WyJ1VCsemV",
        "outputId": "f779d80a-5a40-4d87-fa17-4c786149838d"
      },
      "execution_count": null,
      "outputs": [
        {
          "output_type": "display_data",
          "data": {
            "text/plain": [
              "<Figure size 640x480 with 1 Axes>"
            ],
            "image/png": "[encoded data removed]"
          },
          "metadata": {}
        },
        {
          "output_type": "stream",
          "name": "stdout",
          "text": [
            "\u001b[1m1/1\u001b[0m \u001b[32m━━━━━━━━━━━━━━━━━━━━\u001b[0m\u001b[37m\u001b[0m \u001b[1m1s\u001b[0m 763ms/step - accuracy: 0.7143 - loss: 0.6140\n",
            "Precisión validación: 71.43%\n"
          ]
        }
      ]
    },
    {
      "cell_type": "markdown",
      "source": [
        "**Conclusion**\n",
        "\n",
        "Como se observa en el gráfico actualizado, la precisión de validación aumentó significativamente, alcanzando un 71.43 %, y el modelo muestra una evolución mucho más estable tanto en entrenamiento como en validación. Esto indica que el modelo está aprendiendo a distinguir mejor las clases, reduciendo el sobreajuste y mejorando su capacidad de generalización.\n",
        "\n",
        "La ampliación y mejora del dataset, junto con la reutilización de un modelo previamente entrenado (transfer learning), permitió obtener resultados más robustos y adecuados para la tarea de detección de posturas. Este enfoque valida el uso de CNN y reentrenamiento como estrategia eficaz en problemas reales de visión por computadora."
      ],
      "metadata": {
        "id": "_DzGOB6l2OqS"
      }
    }
  ]
}